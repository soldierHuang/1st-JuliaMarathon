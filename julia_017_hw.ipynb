{
  "nbformat": 4,
  "nbformat_minor": 0,
  "metadata": {
    "kernelspec": {
      "display_name": "Julia 1.2.0",
      "language": "julia",
      "name": "julia-1.2"
    },
    "language_info": {
      "file_extension": ".jl",
      "mimetype": "application/julia",
      "name": "julia",
      "version": "1.2.0"
    },
    "colab": {
      "name": "julia_017_hw.ipynb",
      "provenance": [],
      "collapsed_sections": []
    }
  },
  "cells": [
    {
      "cell_type": "code",
      "metadata": {
        "id": "N18rp_rm2-pZ",
        "colab_type": "code",
        "outputId": "47d84e56-0845-4c9b-da51-dbfac5da2f3a",
        "colab": {
          "base_uri": "https://localhost:8080/",
          "height": 340
        }
      },
      "source": [
        "%%shell\n",
        "if ! command -v julia 3>&1 > /dev/null\n",
        "then\n",
        "    wget 'https://julialang-s3.julialang.org/bin/linux/x64/1.3/julia-1.3.1-linux-x86_64.tar.gz' -O julia.tar.gz\n",
        "    tar -x -f julia.tar.gz -C /usr/local --strip-components 1\n",
        "    rm julia.tar.gz\n",
        "fi\n",
        "julia -e 'using Pkg; pkg\"add IJulia; add BenchmarkTools; add CuArrays; precompile;\"'\n",
        "echo 'Done'\n"
      ],
      "execution_count": 1,
      "outputs": [
        {
          "output_type": "stream",
          "text": [
            "  Updating registry at `~/.julia/registries/General`\n",
            "  Updating git-repo `https://github.com/JuliaRegistries/General.git`\n",
            "\u001b[?25l\u001b[2K\u001b[?25h Resolving package versions...\n",
            "  Updating `~/.julia/environments/v1.3/Project.toml`\n",
            " [no changes]\n",
            "  Updating `~/.julia/environments/v1.3/Manifest.toml`\n",
            " [no changes]\n",
            " Resolving package versions...\n",
            "  Updating `~/.julia/environments/v1.3/Project.toml`\n",
            " [no changes]\n",
            "  Updating `~/.julia/environments/v1.3/Manifest.toml`\n",
            " [no changes]\n",
            " Resolving package versions...\n",
            "  Updating `~/.julia/environments/v1.3/Project.toml`\n",
            " [no changes]\n",
            "  Updating `~/.julia/environments/v1.3/Manifest.toml`\n",
            " [no changes]\n",
            "Precompiling project...\n",
            "Done\n"
          ],
          "name": "stdout"
        },
        {
          "output_type": "execute_result",
          "data": {
            "text/plain": [
              ""
            ]
          },
          "metadata": {
            "tags": []
          },
          "execution_count": 1
        }
      ]
    },
    {
      "cell_type": "code",
      "metadata": {
        "id": "Jyv5nV-WElCb",
        "colab_type": "code",
        "outputId": "8e7c46ce-e5d1-4d2e-fe22-6a954d446b9b",
        "colab": {
          "base_uri": "https://localhost:8080/",
          "height": 306
        }
      },
      "source": [
        "!julia -e '\\\n",
        "import Pkg                                                         ;\\\n",
        "Pkg.update()                                                       ;\\\n",
        "Pkg.add(\"DataFrames\")                                              ;\\\n",
        "Pkg.add(\"CSV\")                                                     ;\\'"
      ],
      "execution_count": 2,
      "outputs": [
        {
          "output_type": "stream",
          "text": [
            "  Updating registry at `~/.julia/registries/General`\n",
            "  Updating git-repo `https://github.com/JuliaRegistries/General.git`\n",
            "\u001b[?25l\u001b[2K\u001b[?25h Resolving package versions...\n",
            "  Updating `~/.julia/environments/v1.3/Project.toml`\n",
            " [no changes]\n",
            "  Updating `~/.julia/environments/v1.3/Manifest.toml`\n",
            " [no changes]\n",
            " Resolving package versions...\n",
            "  Updating `~/.julia/environments/v1.3/Project.toml`\n",
            " [no changes]\n",
            "  Updating `~/.julia/environments/v1.3/Manifest.toml`\n",
            " [no changes]\n",
            " Resolving package versions...\n",
            "  Updating `~/.julia/environments/v1.3/Project.toml`\n",
            " [no changes]\n",
            "  Updating `~/.julia/environments/v1.3/Manifest.toml`\n",
            " [no changes]\n"
          ],
          "name": "stdout"
        }
      ]
    },
    {
      "cell_type": "markdown",
      "metadata": {
        "id": "RwwJrhTYktEu",
        "colab_type": "text"
      },
      "source": [
        "# Julia DataFrames.jl 介紹\n",
        "\n",
        "# Day 017 作業：載入 COVID-19 資料集\n",
        "\n",
        "今天的作業將使用 `DataFrames.jl` 及 `CSV.jl` 套件，來載入美國約翰霍普金斯大學提供的 COVID-19 資料集 (2019 Novel Coronavirus COVID-19 (2019-nCoV) Data Repository by Johns Hopkins CSSE)。資料集作為教育及研究使用，並且被用來建立視覺化儀表板提供檢視及追蹤 COVID-19 疫情狀況。\n",
        "\n",
        "資料集 GitHub: [https://github.com/CSSEGISandData/COVID-19](https://github.com/CSSEGISandData/COVID-19)\n",
        "\n",
        "資料集格式為 CSV，整合不同資料來源，主要分為 Daily Report 及時間序列資料。\n",
        "\n",
        "請自行下載 2020/4/2 的 daily report資料集：[https://github.com/CSSEGISandData/COVID-19/blob/master/csse_covid_19_data/csse_covid_19_daily_reports/04-02-2020.csv](https://github.com/CSSEGISandData/COVID-19/blob/master/csse_covid_19_data/csse_covid_19_daily_reports/04-02-2020.csv)\n",
        "\n",
        "Daily Report 主要欄位有：\n",
        "\n",
        "- Province/State: 省名 (中國)、州名或市名 (美國、加拿大、澳洲)、或是事件名稱 (例如鑽石公主號)...\n",
        "- Country/Region: 國名或區域名\n",
        "- Last Update: 最後更新日期/時間，格式為 24 小時制的 UTC 時間\n",
        "- Confirmed: 確診案例\n",
        "- Deaths: 死亡案例\n",
        "- Recovered: 康復案例\n",
        "- Lat, Long: 經緯度\n",
        "- Combined Key: 複合 Key 值"
      ]
    },
    {
      "cell_type": "markdown",
      "metadata": {
        "id": "tjHT7JguktE8",
        "colab_type": "text"
      },
      "source": [
        "請問此資料集的筆數 (row) 及欄位數 (column) 各是多少？"
      ]
    },
    {
      "cell_type": "code",
      "metadata": {
        "id": "iEVcJZVu-R0Q",
        "colab_type": "code",
        "outputId": "11482c38-1a95-4f7a-d67e-ecc43cb84bd1",
        "colab": {
          "base_uri": "https://localhost:8080/",
          "height": 289
        }
      },
      "source": [
        "# 彙總 DataFrame 資訊\n",
        "\n",
        "!julia -e '\\\n",
        "using DataFrames, CSV                                                                                                                         ;\\\n",
        "url =  \"https://raw.githubusercontent.com/CSSEGISandData/COVID-19/master/csse_covid_19_data/csse_covid_19_daily_reports/04-02-2020.csv\"       ;\\\n",
        "df = CSV.read(download(url))                                                                                                                  ;\\\n",
        "println(describe(df))                                                                                                                         ;\\'  "
      ],
      "execution_count": 3,
      "outputs": [
        {
          "output_type": "stream",
          "text": [
            "12×8 DataFrame\n",
            "│ Row │ variable       │ mean     │ min           │ median   │ max                     │ nunique │ nmissing │ eltype                  │\n",
            "│     │ Symbol         │ Union…   │ Any           │ Union…   │ Any                     │ Union…  │ Union…   │ Type                    │\n",
            "├─────┼────────────────┼──────────┼───────────────┼──────────┼─────────────────────────┼─────────┼──────────┼─────────────────────────┤\n",
            "│ 1   │ FIPS           │ 30958.4  │ 66            │ 29093.0  │ 99999                   │         │ 281      │ Union{Missing, Int64}   │\n",
            "│ 2   │ Admin2         │          │ Abbeville     │          │ unassigned              │ 1431    │ 264      │ Union{Missing, String}  │\n",
            "│ 3   │ Province_State │          │ Alabama       │          │ Zhejiang                │ 135     │ 177      │ Union{Missing, String}  │\n",
            "│ 4   │ Country_Region │          │ Afghanistan   │          │ Zimbabwe                │ 181     │          │ String                  │\n",
            "│ 5   │ Last_Update    │          │ 2/23/20 11:19 │          │ 4/2/20 8:53             │ 33      │          │ String                  │\n",
            "│ 6   │ Lat            │ 36.2992  │ -42.8821      │ 37.7171  │ 71.7069                 │         │ 54       │ Union{Missing, Float64} │\n",
            "│ 7   │ Long_          │ -78.9577 │ -159.597      │ -86.5104 │ 178.065                 │         │ 54       │ Union{Missing, Float64} │\n",
            "│ 8   │ Confirmed      │ 394.435  │ 0             │ 7.0      │ 115242                  │         │          │ Int64                   │\n",
            "│ 9   │ Deaths         │ 20.624   │ 0             │ 0.0      │ 13915                   │         │          │ Int64                   │\n",
            "│ 10  │ Recovered      │ 81.8462  │ 0             │ 0.0      │ 63471                   │         │          │ Int64                   │\n",
            "│ 11  │ Active         │ 199.29   │ 0             │ 0.0      │ 83049                   │         │          │ Int64                   │\n",
            "│ 12  │ Combined_Key   │          │ ,,Belize      │          │ unassigned, Wyoming, US │ 2569    │          │ String                  │\n"
          ],
          "name": "stdout"
        }
      ]
    },
    {
      "cell_type": "markdown",
      "metadata": {
        "id": "_JFYFQPYktFG",
        "colab_type": "text"
      },
      "source": [
        "### 作業1：數值 Column 的計算\n",
        "\n",
        "\n",
        "(1) 請問截至4月2日為止 (UTC 時間)，全球累計的確診、死亡、及㡽復案例數各是多少？ 【提示】可參考 `sum()` 內建函式。\n"
      ]
    },
    {
      "cell_type": "code",
      "metadata": {
        "id": "gR2Ek1h2G2Rj",
        "colab_type": "code",
        "outputId": "a4712a96-1cd8-4555-9258-080abe9475ab",
        "colab": {
          "base_uri": "https://localhost:8080/",
          "height": 85
        }
      },
      "source": [
        "!julia -e '\\\n",
        "using DataFrames, CSV                                                                                                                         ;\\\n",
        "url =  \"https://raw.githubusercontent.com/CSSEGISandData/COVID-19/master/csse_covid_19_data/csse_covid_19_daily_reports/04-02-2020.csv\"       ;\\\n",
        "df = CSV.read(download(url))                                                                                                                  ;\\\n",
        "println(\"截至4月2日為止 (UTC 時間) \")                                                                                                           ;\\\n",
        "println(\"全球累計的確診數     \",sum(df[!,:Confirmed]) )                                                                                        ;\\\n",
        "println(\"全球累計的死亡數       \",sum(df[!,:Deaths]) )                                                                                         ;\\\n",
        "println(\"全球累計的㡽復案例數  \",sum(df[!,:Recovered]) )                                                                                        ;\\' "
      ],
      "execution_count": 4,
      "outputs": [
        {
          "output_type": "stream",
          "text": [
            "截至4月2日為止 (UTC 時間) \n",
            "全球累計的確診數     1013303\n",
            "全球累計的死亡數       52983\n",
            "全球累計的㡽復案例數  210263\n"
          ],
          "name": "stdout"
        }
      ]
    },
    {
      "cell_type": "markdown",
      "metadata": {
        "id": "FXvKUt92RNRC",
        "colab_type": "text"
      },
      "source": [
        "(2) 列出確診案例數前 10 名的 Province_State, Country_Region, Confirmed, Deaths, Recovered 等 5 個 column。\n",
        "\n"
      ]
    },
    {
      "cell_type": "code",
      "metadata": {
        "id": "FbDS2rEqktFG",
        "colab_type": "code",
        "outputId": "ad109497-6c32-4119-9380-22d3ed3c5476",
        "colab": {
          "base_uri": "https://localhost:8080/",
          "height": 255
        }
      },
      "source": [
        "!julia -e '\\\n",
        "using DataFrames, CSV                                                                                                                         ;\\\n",
        "url =  \"https://raw.githubusercontent.com/CSSEGISandData/COVID-19/master/csse_covid_19_data/csse_covid_19_daily_reports/04-02-2020.csv\"       ;\\\n",
        "df = CSV.read(download(url))                                                                                                                  ;\\\n",
        "println( first( sort(df, [:Confirmed], rev = true)[ : , [:Province_State, :Country_Region, :Confirmed, :Deaths, :Recovered]], 10 ) )          ;\\' "
      ],
      "execution_count": 5,
      "outputs": [
        {
          "output_type": "stream",
          "text": [
            "10×5 DataFrame\n",
            "│ Row │ Province_State │ Country_Region │ Confirmed │ Deaths │ Recovered │\n",
            "│     │ String⍰        │ String         │ Int64     │ Int64  │ Int64     │\n",
            "├─────┼────────────────┼────────────────┼───────────┼────────┼───────────┤\n",
            "│ 1   │ missing        │ Italy          │ 115242    │ 13915  │ 18278     │\n",
            "│ 2   │ missing        │ Spain          │ 112065    │ 10348  │ 26743     │\n",
            "│ 3   │ missing        │ Germany        │ 84794     │ 1107   │ 22440     │\n",
            "│ 4   │ Hubei          │ China          │ 67802     │ 3199   │ 63471     │\n",
            "│ 5   │ missing        │ France         │ 59105     │ 5387   │ 12428     │\n",
            "│ 6   │ New York       │ US             │ 51809     │ 1397   │ 0         │\n",
            "│ 7   │ missing        │ Iran           │ 50468     │ 3160   │ 16711     │\n",
            "│ 8   │ missing        │ United Kingdom │ 33718     │ 2921   │ 135       │\n",
            "│ 9   │ missing        │ Switzerland    │ 18827     │ 536    │ 4013      │\n",
            "│ 10  │ missing        │ Turkey         │ 18135     │ 356    │ 415       │\n"
          ],
          "name": "stdout"
        }
      ]
    },
    {
      "cell_type": "markdown",
      "metadata": {
        "id": "edTskysektFL",
        "colab_type": "text"
      },
      "source": [
        "### 作業2：找出特定的 Row\n",
        "\n",
        "截至4月2日為止 (UTC 時間)，台灣的確診、死亡、及㡽復案例數為多少？\n",
        "\n",
        "【提示】使用點運算 `.==` 來比較同一 column 中所有值。"
      ]
    },
    {
      "cell_type": "code",
      "metadata": {
        "id": "TnI3tc4vZaaZ",
        "colab_type": "code",
        "outputId": "2066c193-909a-40b3-cc7c-e50ee62b6ee4",
        "colab": {
          "base_uri": "https://localhost:8080/",
          "height": 102
        }
      },
      "source": [
        "!julia -e '\\\n",
        "using DataFrames, CSV                                                                                                                         ;\\\n",
        "url =  \"https://raw.githubusercontent.com/CSSEGISandData/COVID-19/master/csse_covid_19_data/csse_covid_19_daily_reports/04-02-2020.csv\"       ;\\\n",
        "df = CSV.read(download(url))                                                                                                                  ;\\\n",
        "println( df[ df[!, :Country_Region] .== \"Taiwan*\", [ :Country_Region, :Last_Update, :Confirmed, :Deaths, :Recovered] ] )                      ;\\'  "
      ],
      "execution_count": 7,
      "outputs": [
        {
          "output_type": "stream",
          "text": [
            "1×5 DataFrame\n",
            "│ Row │ Country_Region │ Last_Update  │ Confirmed │ Deaths │ Recovered │\n",
            "│     │ String         │ String       │ Int64     │ Int64  │ Int64     │\n",
            "├─────┼────────────────┼──────────────┼───────────┼────────┼───────────┤\n",
            "│ 1   │ Taiwan*        │ 4/2/20 11:09 │ 339       │ 5      │ 45        │\n"
          ],
          "name": "stdout"
        }
      ]
    }
  ]
}