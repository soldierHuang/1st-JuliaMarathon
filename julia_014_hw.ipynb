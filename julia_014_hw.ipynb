{
  "nbformat": 4,
  "nbformat_minor": 0,
  "metadata": {
    "kernelspec": {
      "display_name": "Julia 1.2.0",
      "language": "julia",
      "name": "julia-1.2"
    },
    "language_info": {
      "file_extension": ".jl",
      "mimetype": "application/julia",
      "name": "julia",
      "version": "1.2.0"
    },
    "colab": {
      "name": "julia_014_hw.ipynb",
      "provenance": [],
      "collapsed_sections": [],
      "toc_visible": true
    }
  },
  "cells": [
    {
      "cell_type": "code",
      "metadata": {
        "id": "uMu2Wu7BIQE-",
        "colab_type": "code",
        "outputId": "e84dc45d-81db-49be-a8fb-3739da96bb44",
        "colab": {
          "base_uri": "https://localhost:8080/",
          "height": 340
        }
      },
      "source": [
        "%%shell\n",
        "if ! command -v julia 3>&1 > /dev/null\n",
        "then\n",
        "    wget 'https://julialang-s3.julialang.org/bin/linux/x64/1.3/julia-1.3.1-linux-x86_64.tar.gz' -O julia.tar.gz\n",
        "    tar -x -f julia.tar.gz -C /usr/local --strip-components 1\n",
        "    rm julia.tar.gz\n",
        "fi\n",
        "julia -e 'using Pkg; pkg\"add IJulia; add BenchmarkTools; add CuArrays; precompile;\"'\n",
        "echo 'Done'"
      ],
      "execution_count": 1,
      "outputs": [
        {
          "output_type": "stream",
          "text": [
            "  Updating registry at `~/.julia/registries/General`\n",
            "  Updating git-repo `https://github.com/JuliaRegistries/General.git`\n",
            "\u001b[2K\u001b[?25h Resolving package versions...\n",
            "  Updating `~/.julia/environments/v1.3/Project.toml`\n",
            " [no changes]\n",
            "  Updating `~/.julia/environments/v1.3/Manifest.toml`\n",
            " [no changes]\n",
            " Resolving package versions...\n",
            "  Updating `~/.julia/environments/v1.3/Project.toml`\n",
            " [no changes]\n",
            "  Updating `~/.julia/environments/v1.3/Manifest.toml`\n",
            " [no changes]\n",
            " Resolving package versions...\n",
            "  Updating `~/.julia/environments/v1.3/Project.toml`\n",
            " [no changes]\n",
            "  Updating `~/.julia/environments/v1.3/Manifest.toml`\n",
            " [no changes]\n",
            "Precompiling project...\n",
            "Done\n"
          ],
          "name": "stdout"
        },
        {
          "output_type": "execute_result",
          "data": {
            "text/plain": [
              ""
            ]
          },
          "metadata": {
            "tags": []
          },
          "execution_count": 1
        }
      ]
    },
    {
      "cell_type": "markdown",
      "metadata": {
        "id": "ac7WAZ0tINpc",
        "colab_type": "text"
      },
      "source": [
        "# Julia 檔案處理與資料庫連線\n",
        "\n",
        "## Day 014 作業1：讀取 Nested Dict 內的資料\n",
        "\n",
        "Day 010 時我們介紹了字典 (Dict)，字典內的資料可以是巢狀 (nested) 的，包含較複雜的資料階層結構。在今天的下載檔 CityCountyData.json 是台灣各縣市鄉鎮區及路名的中英文資料，檔案為 JSON 格式，範例內容如下：\n",
        "\n",
        "```json\n",
        "    {\n",
        "        \"CityName\": \"臺北市\",\n",
        "        \"CityEngName\": \"Taipei City\",\n",
        "        \"AreaList\": [\n",
        "            {\n",
        "                \"ZipCode\": \"100\",\n",
        "                \"AreaName\": \"中正區\",\n",
        "                \"AreaEngName\": \"Zhongzheng Dist.\"\n",
        "            },\n",
        "            ...\n",
        "    }\n",
        "```\n",
        "\n",
        "作業內容為讀取 JSON 檔案，並列出台北市所有行政區的中英文名稱。範例答案將以 JSON.jl 套件作為示範。\n",
        "\n",
        "檔案資料來源：[台灣 縣市，鄉鎮，地址 中英文 JSON](https://github.com/donma/TaiwanAddressCityAreaRoadChineseEnglishJSON)"
      ]
    },
    {
      "cell_type": "markdown",
      "metadata": {
        "id": "71j0wBJkINpo",
        "colab_type": "text"
      },
      "source": [
        "列出所有台北市行政區的中英文名稱"
      ]
    },
    {
      "cell_type": "code",
      "metadata": {
        "id": "xFyOJRZEtfrg",
        "colab_type": "code",
        "colab": {
          "base_uri": "https://localhost:8080/",
          "height": 221
        },
        "outputId": "fc9ac972-e111-4e28-c295-8b371d5a832e"
      },
      "source": [
        "!julia -e'\\\n",
        "using HTTP,JSON                                                                                                    ;\\\n",
        "url = \"https://github.com/donma/TaiwanAddressCityAreaRoadChineseEnglishJSON/raw/master/AllData.json\"               ;\\\n",
        "response = HTTP.get(url)                                                                                           ;\\\n",
        "html = JSON.parse(String(response.body))                                                                           ;\\\n",
        "dict = Dict(html)                                                                                                  ;\\\n",
        "for i in html                                                                                                      ;\\\n",
        "     if i[\"CityName\"] ==  \"臺北市\"                                                                                  ;\\\n",
        "          for j in i[\"AreaList\"]                                                                                   ;\\\n",
        "              println(j[\"AreaName\"],\"   \",j[\"AreaEngName\"])                                                        ;\\\n",
        "              end                                                                                                  ;\\\n",
        "      end                                                                                                          ;\\\n",
        "end                                                                                                                ;\\'"
      ],
      "execution_count": 2,
      "outputs": [
        {
          "output_type": "stream",
          "text": [
            "中正區   Zhongzheng Dist.\n",
            "大同區   Datong Dist.\n",
            "中山區   Zhongshan Dist.\n",
            "松山區   Songshan Dist.\n",
            "大安區   Da’an Dist.\n",
            "萬華區   Wanhua Dist.\n",
            "信義區   Xinyi Dist.\n",
            "士林區   Shilin Dist.\n",
            "北投區   Beitou Dist.\n",
            "內湖區   Neihu Dist.\n",
            "南港區   Nangang Dist.\n",
            "文山區   Wenshan Dist.\n"
          ],
          "name": "stdout"
        }
      ]
    },
    {
      "cell_type": "markdown",
      "metadata": {
        "id": "eUFYNNoYINpx",
        "colab_type": "text"
      },
      "source": [
        "## 作業2：將字典資料存為 JSON 檔\n",
        "\n",
        "作業2請產生字典 (Dict) 資料，並將字典資料存為 JSON 格式。請自行產生字典，也可使用下列的字串資料計算字數 (Day 010 作業程式)。\n",
        "\n",
        "【提示】可以參考今天範例程式中將陣列資料存為 JSON 格式的部分。"
      ]
    },
    {
      "cell_type": "code",
      "metadata": {
        "id": "aq16lcU8INp6",
        "colab_type": "code",
        "colab": {
          "base_uri": "https://localhost:8080/",
          "height": 54
        },
        "outputId": "7ce9417d-ee24-401e-dba7-90f9463cb99d"
      },
      "source": [
        "!julia -e '\\\n",
        "str = \"永和有永和路，中和也有永和路，                                 ;\\\n",
        "中和有中和路，永和也有中和路；                                        ;\\\n",
        "中和的中和路有接永和的中和路，                                        ;\\\n",
        "永和的永和路沒接中和的永和路；                                        ;\\\n",
        "永和的中和路有接永和的永和路，                                        ;\\\n",
        "中和的永和路沒接中和的中和路。                                        ;\\\n",
        "永和有中正路，中和也有中正路；                                        ;\\\n",
        "永和的中正路用景平路接中和的中正路。                                   ;\\\n",
        "永和有中山路，中和也有中山路；                                        ;\\\n",
        "永和的中山路直接接上了中和的中山路。                                   ;\\\n",
        "永和的中正路接上了永和的中山路；                                      ;\\\n",
        "中和的中正路卻不接中和的中山路。                                      ;\\\n",
        "中正橋下來不是中正路，但永和有中正路；                                 ;\\\n",
        "秀朗橋下來不是秀朗路，但永和有秀朗路。                                 ;\\\n",
        "永福橋下來不是永福路，永和沒有永福路；                                 ;\\\n",
        "福和橋下來不是福和路，但福和路接的卻是永福橋。                          ;\\\n",
        "中和中和路永和永和路                                                  ;\\\n",
        "永和中和路中和永和路                                                  ;\\\n",
        "中和中山路永和中正路                                                  ;\\\n",
        "永和中山路中和中正路\"                                                 ;\\\n",
        "                                                                    ;\\\n",
        "d = Dict{String, Int64}()                                           ;\\\n",
        "for c ∈ str                                                         ;\\\n",
        "    d[string(c)] = get(d, string(c), 0) + 1                         ;\\\n",
        "end                                                                 ;\\\n",
        "print(d)                                                            ;\\'"
      ],
      "execution_count": 3,
      "outputs": [
        {
          "output_type": "stream",
          "text": [
            "Dict(\"接\" => 10,\"上\" => 2,\" \" => 734,\"是\" => 5,\"也\" => 4,\"直\" => 1,\"秀\" => 3,\"和\" => 54,\"來\" => 4,\"，\" => 11,\"沒\" => 3,\"永\" => 31,\"的\" => 17,\"平\" => 1,\"但\" => 3,\"正\" => 11,\"不\" => 5,\"用\" => 1,\"中\" => 43,\"橋\" => 5,\"福\" => 7,\"路\" => 41,\"山\" => 8,\"；\" => 7,\"。\" => 6,\"卻\" => 2,\"下\" => 4,\"了\" => 2,\"有\" => 13,\";\" => 19,\"景\" => 1,\"朗\" => 3)"
          ],
          "name": "stdout"
        }
      ]
    }
  ]
}