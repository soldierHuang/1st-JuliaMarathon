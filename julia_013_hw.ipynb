{
  "nbformat": 4,
  "nbformat_minor": 0,
  "metadata": {
    "kernelspec": {
      "display_name": "Julia 1.2.0",
      "language": "julia",
      "name": "julia-1.2"
    },
    "language_info": {
      "file_extension": ".jl",
      "mimetype": "application/julia",
      "name": "julia",
      "version": "1.2.0"
    },
    "colab": {
      "name": "julia_013_hw.ipynb",
      "provenance": []
    }
  },
  "cells": [
    {
      "cell_type": "code",
      "metadata": {
        "id": "-Dnd7uD31ujR",
        "colab_type": "code",
        "colab": {
          "base_uri": "https://localhost:8080/",
          "height": 340
        },
        "outputId": "8fe7700a-e1a6-44f5-94bd-678404261d6d"
      },
      "source": [
        "%%shell\n",
        "if ! command -v julia 3>&1 > /dev/null\n",
        "then\n",
        "    wget 'https://julialang-s3.julialang.org/bin/linux/x64/1.3/julia-1.3.1-linux-x86_64.tar.gz' -O julia.tar.gz\n",
        "    tar -x -f julia.tar.gz -C /usr/local --strip-components 1\n",
        "    rm julia.tar.gz\n",
        "fi\n",
        "julia -e 'using Pkg; pkg\"add IJulia; add BenchmarkTools; add CuArrays; precompile;\"'\n",
        "echo 'Done'"
      ],
      "execution_count": 1,
      "outputs": [
        {
          "output_type": "stream",
          "text": [
            "  Updating registry at `~/.julia/registries/General`\n",
            "  Updating git-repo `https://github.com/JuliaRegistries/General.git`\n",
            "\u001b[?25l\u001b[2K\u001b[?25h Resolving package versions...\n",
            "  Updating `~/.julia/environments/v1.3/Project.toml`\n",
            " [no changes]\n",
            "  Updating `~/.julia/environments/v1.3/Manifest.toml`\n",
            " [no changes]\n",
            " Resolving package versions...\n",
            "  Updating `~/.julia/environments/v1.3/Project.toml`\n",
            " [no changes]\n",
            "  Updating `~/.julia/environments/v1.3/Manifest.toml`\n",
            " [no changes]\n",
            " Resolving package versions...\n",
            "  Updating `~/.julia/environments/v1.3/Project.toml`\n",
            " [no changes]\n",
            "  Updating `~/.julia/environments/v1.3/Manifest.toml`\n",
            " [no changes]\n",
            "Precompiling project...\n",
            "Done\n"
          ],
          "name": "stdout"
        },
        {
          "output_type": "execute_result",
          "data": {
            "text/plain": [
              ""
            ]
          },
          "metadata": {
            "tags": []
          },
          "execution_count": 1
        }
      ]
    },
    {
      "cell_type": "markdown",
      "metadata": {
        "id": "ekvawDdkvlos",
        "colab_type": "text"
      },
      "source": [
        "## Day 013 作業1：用 Julia 標準函式寫 Sigmoid Function\n"
      ]
    },
    {
      "cell_type": "markdown",
      "metadata": {
        "id": "CK0aW3NEvlot",
        "colab_type": "text"
      },
      "source": [
        "\n",
        "在 Day 002 時我們曾用 LaTeX 撰寫機器學習常見的激活函式 Sigmoid\n",
        "\n",
        "$\\Large f(x)=\\frac{1}{1+e^{-x}}$\n",
        "\n",
        "作業 1 請使用內建函式 `exp()` 來撰寫 Sigmoid 函式，計算矩陣的 sigmoid 值。\n",
        "\n",
        "例如：數字 3 的 sigmoid 值。    1 / (1 + exp(-3)) = 0.9525741268224334"
      ]
    },
    {
      "cell_type": "markdown",
      "metadata": {
        "id": "hdlBmB6_vlox",
        "colab_type": "text"
      },
      "source": [
        "宣告函式及建立矩陣"
      ]
    },
    {
      "cell_type": "code",
      "metadata": {
        "id": "dnArQMQtvlou",
        "colab_type": "code",
        "colab": {
          "base_uri": "https://localhost:8080/",
          "height": 54
        },
        "outputId": "e8241ac3-f529-4766-e0b9-e6bd907ebb20"
      },
      "source": [
        "!julia -e'\\\n",
        "function Sigmoid(n)                                              ;\\\n",
        "       return  1 / (1 + exp(-n))                                 ;\\\n",
        "end                                                              ;\\\n",
        "A = Matrix([1 10 3 4 6; 4 2 4 5 10; 8 5 3 5 9])                  ;\\\n",
        "print( map(Sigmoid,A) )                                          ;\\'"
      ],
      "execution_count": 2,
      "outputs": [
        {
          "output_type": "stream",
          "text": [
            "[0.7310585786300049 0.9999546021312976 0.9525741268224334 0.9820137900379085 0.9975273768433653; 0.9820137900379085 0.8807970779778823 0.9820137900379085 0.9933071490757153 0.9999546021312976; 0.9996646498695336 0.9933071490757153 0.9525741268224334 0.9933071490757153 0.9998766054240137]"
          ],
          "name": "stdout"
        }
      ]
    },
    {
      "cell_type": "markdown",
      "metadata": {
        "id": "YQ6JQA8Ivlo2",
        "colab_type": "text"
      },
      "source": [
        "## 作業2：線性代數基礎運算 Matrix Multiplication 及 Addition\n"
      ]
    },
    {
      "cell_type": "markdown",
      "metadata": {
        "id": "5Yhh76CY5Tkc",
        "colab_type": "text"
      },
      "source": [
        "\n",
        "\n",
        "\n",
        "作業2 請撰寫程式，隨機產生矩陣 $W$ 及 $X$，計算線性方程式 $WX+b$。\n",
        "\n",
        "【提示】假設 $W$ 是 $n\\times m$ 的矩陣，$X$ 是 $m\\times p$ 的矩陣，則矩陣乘法的積 $W$*$X$ 是 $\\displaystyle n\\times p$ 的矩陣。\n",
        "\n",
        "    點運算的介紹，可回顧 Day 005 內容及範例。 (^).(a, b)  or  a .^ b"
      ]
    },
    {
      "cell_type": "code",
      "metadata": {
        "id": "i1vJzJQ45uQt",
        "colab_type": "code",
        "colab": {
          "base_uri": "https://localhost:8080/",
          "height": 34
        },
        "outputId": "cb303b92-8ad3-4de7-a97f-6732d088a1d7"
      },
      "source": [
        "# 線性方程式  WX+b \n",
        "# 給定 bias 變數值 = 1\n",
        "# 這邊給定的是純量，在矩陣加法中透過 broadcasting 進行加法   .+ bias\n",
        "\n",
        "\n",
        "!julia -e'\\\n",
        "function Multiplication(n=2,m=3,p=1,b=1)                            ;\\\n",
        "    w = Matrix(rand(0:10, n, m))                                    ;\\\n",
        "    X = Matrix(rand(0:10, m, p))                                    ;\\\n",
        "    b = 1                                                           ;\\\n",
        "    return w*X .+ b                                                 ;\\\n",
        "end                                                                 ;\\\n",
        "print( Multiplication(1,3,2) )                                      ;\\'                            "
      ],
      "execution_count": 3,
      "outputs": [
        {
          "output_type": "stream",
          "text": [
            "[13 5]"
          ],
          "name": "stdout"
        }
      ]
    }
  ]
}