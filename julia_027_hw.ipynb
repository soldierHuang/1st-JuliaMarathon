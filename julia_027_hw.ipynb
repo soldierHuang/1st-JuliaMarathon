{
  "nbformat": 4,
  "nbformat_minor": 0,
  "metadata": {
    "kernelspec": {
      "display_name": "Julia v1.4 [compiled] 1.4.1",
      "language": "julia",
      "name": "julia-v1.4-[compiled]-1.4"
    },
    "language_info": {
      "file_extension": ".jl",
      "mimetype": "application/julia",
      "name": "julia",
      "version": "1.4.1"
    },
    "colab": {
      "name": "julia_027_hw.ipynb",
      "provenance": [],
      "private_outputs": true,
      "collapsed_sections": []
    }
  },
  "cells": [
    {
      "cell_type": "code",
      "metadata": {
        "id": "Wqvzueu2mk6M",
        "colab_type": "code",
        "colab": {}
      },
      "source": [
        "%%shell\n",
        "if ! command -v julia 3>&1 > /dev/null\n",
        "then\n",
        "    wget 'https://julialang-s3.julialang.org/bin/linux/x64/1.4/julia-1.4.1-linux-x86_64.tar.gz' -O julia.tar.gz\n",
        "    tar -x -f julia.tar.gz -C /usr/local --strip-components 1\n",
        "    rm julia.tar.gz\n",
        "fi\n",
        "    julia -e '\\\n",
        "        using Pkg                                                          ;\\\n",
        "        Pkg.update()                                                       ;\\\n",
        "        Pkg.add(\"IJulia\")                                                  ;\\\n",
        "        Pkg.add(\"BenchmarkTools\")                                          ;\\\n",
        "        Pkg.add(\"CuArrays\")                                                ;\\\n",
        "        Pkg.add(\"GLM\")                                                     ;\\\n",
        "        Pkg.add(\"StatsBase\")                                               ;\\\n",
        "        Pkg.add(\"MLDataUtils\")                                             ;\\       \n",
        "        Pkg.add(\"Statistics\")                                              ;\\\n",
        "        Pkg.add(\"DataFrames\")                                              ;\\\n",
        "        Pkg.add(\"CSV\")                                                     ;\\\n",
        "        Pkg.add(\"RDatasets\")                                               ;\\\n",
        "        Pkg.add(\"Gadfly\")                                                  ;\\\n",
        "        Pkg.add(\"Cairo\")                                                   ;\\\n",
        "        Pkg.add(\"Fontconfig\")                                              ;\\\n",
        "        Pkg.update()                                                       ;\\\n",
        "        Pkg.precompile()                                                   ;\\'\n",
        "echo 'Done'"
      ],
      "execution_count": 0,
      "outputs": []
    },
    {
      "cell_type": "markdown",
      "metadata": {
        "id": "eQr3mfxSPai3",
        "colab_type": "text"
      },
      "source": [
        "# Julia 機器學習：GLM 線性迴歸\n",
        "\n",
        "## 作業 027：波士頓房價預測資料集\n",
        "\n",
        "請使用 GLM 中的模型，建立一個預測模型來預測波士頓的房價。\n",
        "https://www.cs.toronto.edu/~delve/data/boston/bostonDetail.html\n",
        "\n",
        "The name for this dataset is simply boston. It has two prototasks: nox, in which the nitrous oxide level is to be predicted; and price, in which the median value of a home is to be predicted\n",
        "\n",
        "      Crim - per capita crime rate by town\n",
        "\n",
        "      Zn - proportion of residential land zoned for lots over 25,000 sq.ft.\n",
        "\n",
        "      Indus - proportion of non-retail business acres per town.\n",
        "\n",
        "      Chas - Charles River dummy variable (1 if tract bounds river; 0 otherwise)\n",
        "\n",
        "      NOx - nitric oxides concentration (parts per 10 million)\n",
        "\n",
        "      Rm - average number of rooms per dwelling\n",
        "\n",
        "      Age - proportion of owner-occupied units built prior to 1940\n",
        "\n",
        "      Dis - weighted distances to five Boston employment centres\n",
        "\n",
        "      Rad - index of accessibility to radial highways\n",
        "\n",
        "      Tax - full-value property-tax rate per $10,000\n",
        "\n",
        "      PTRatio - pupil-teacher ratio by town\n",
        "\n",
        "      Black - 1000(Bk - 0.63)^2 where Bk is the proportion of blacks by town\n",
        "\n",
        "      LStat - % lower status of the population\n",
        "\n",
        "      MedV - Median value of owner-occupied homes in $1000's\n",
        "\n",
        "\n",
        "Variable #14 seems to be censored at 50.00 (corresponding to a median price of $50,000); \n",
        "\n",
        "Censoring is suggested by the fact that the highest median price of exactly $50,000 is reported in 16 cases, \n",
        "\n",
        "while 15 cases have prices between $40,000 and $50,000, with prices rounded to the nearest hundred. Harrison and Rubinfeld do not mention any censoring.\n",
        "\n"
      ]
    },
    {
      "cell_type": "code",
      "metadata": {
        "id": "g3WfOxwIsaGo",
        "colab_type": "code",
        "colab": {}
      },
      "source": [
        "!julia -e '\\\n",
        "using GLM, RDatasets, MLDataUtils, Statistics                                                                                      ;\\\n",
        "data = dataset(\"MASS\", \"Boston\")                                                                                                   ;\\\n",
        "println(  first(data, 1) )                                                                                                         ;\\\n",
        "println(   )                                                                                                                       ;\\\n",
        "println( describe(data) )                                                                                                          ;\\\n",
        "indecies = MLDataUtils.shuffleobs(collect(1:nrow(data)))                                                                           ;\\\n",
        "train_ind, test_ind = MLDataUtils.splitobs(indecies, at=0.999)                                                                     ;\\\n",
        "train = data[train_ind, :]                                                                                                         ;\\\n",
        "test = data[test_ind, :]                                                                                                           ;\\\n",
        "logreg = GLM.lm(@formula(MedV ~ Crim + Zn + Indus + Chas + NOx + Rm  + Age + Dis + Rad + Tax + PTRatio + Black + LStat ), train)   ;\\\n",
        "pred = predict(logreg, test)                                                                                                       ;\\\n",
        "println( \"test\", test )                                                                                                            ;\\\n",
        "println( \"pred\", pred )                                                                                                            ;\\'"
      ],
      "execution_count": 0,
      "outputs": []
    }
  ]
}