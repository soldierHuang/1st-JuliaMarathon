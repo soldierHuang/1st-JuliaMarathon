{
  "nbformat": 4,
  "nbformat_minor": 0,
  "metadata": {
    "kernelspec": {
      "display_name": "Julia 1.2.0",
      "language": "julia",
      "name": "julia-1.2"
    },
    "language_info": {
      "file_extension": ".jl",
      "mimetype": "application/julia",
      "name": "julia",
      "version": "1.2.0"
    },
    "colab": {
      "name": "julia_011_hw.ipynb",
      "provenance": [],
      "collapsed_sections": []
    }
  },
  "cells": [
    {
      "cell_type": "markdown",
      "metadata": {
        "id": "OeTSRKgZeaML",
        "colab_type": "text"
      },
      "source": [
        "# Julia 日期與時間\n",
        "\n"
      ]
    },
    {
      "cell_type": "code",
      "metadata": {
        "id": "pb2THuixjE13",
        "colab_type": "code",
        "colab": {
          "base_uri": "https://localhost:8080/",
          "height": 340
        },
        "outputId": "a79e40c5-110a-4081-ed4c-4a254ac52469"
      },
      "source": [
        "%%shell\n",
        "if ! command -v julia 3>&1 > /dev/null\n",
        "then\n",
        "    wget 'https://julialang-s3.julialang.org/bin/linux/x64/1.3/julia-1.3.1-linux-x86_64.tar.gz' -O julia.tar.gz\n",
        "    tar -x -f julia.tar.gz -C /usr/local --strip-components 1\n",
        "    rm julia.tar.gz\n",
        "fi\n",
        "julia -e 'using Pkg; pkg\"add IJulia; add BenchmarkTools; add CuArrays; precompile;\"'\n",
        "echo 'Done'"
      ],
      "execution_count": 1,
      "outputs": [
        {
          "output_type": "stream",
          "text": [
            "  Updating registry at `~/.julia/registries/General`\n",
            "  Updating git-repo `https://github.com/JuliaRegistries/General.git`\n",
            "\u001b[?25l\u001b[2K\u001b[?25h Resolving package versions...\n",
            "  Updating `~/.julia/environments/v1.3/Project.toml`\n",
            " [no changes]\n",
            "  Updating `~/.julia/environments/v1.3/Manifest.toml`\n",
            " [no changes]\n",
            " Resolving package versions...\n",
            "  Updating `~/.julia/environments/v1.3/Project.toml`\n",
            " [no changes]\n",
            "  Updating `~/.julia/environments/v1.3/Manifest.toml`\n",
            " [no changes]\n",
            " Resolving package versions...\n",
            "  Updating `~/.julia/environments/v1.3/Project.toml`\n",
            " [no changes]\n",
            "  Updating `~/.julia/environments/v1.3/Manifest.toml`\n",
            " [no changes]\n",
            "Precompiling project...\n",
            "Done\n"
          ],
          "name": "stdout"
        },
        {
          "output_type": "execute_result",
          "data": {
            "text/plain": [
              ""
            ]
          },
          "metadata": {
            "tags": []
          },
          "execution_count": 1
        }
      ]
    },
    {
      "cell_type": "markdown",
      "metadata": {
        "id": "pd3D-KNcnXnJ",
        "colab_type": "text"
      },
      "source": [
        "## Day 011 補充教材：不同語系的月份及星期顯示\n",
        "\n",
        "Julia 內建的日期與時間語系是英文，那是要顯示其他語系的話要如何辦到呢？可以設定不同語系的月份和星期名稱，在呼叫時間時指定 `locale` 關鍵字即可。"
      ]
    },
    {
      "cell_type": "code",
      "metadata": {
        "id": "R0GzErPJeaMM",
        "colab_type": "code",
        "colab": {}
      },
      "source": [
        "using Dates"
      ],
      "execution_count": 0,
      "outputs": []
    },
    {
      "cell_type": "markdown",
      "metadata": {
        "id": "R3WXjBEweaMR",
        "colab_type": "text"
      },
      "source": [
        "Julia 內建的是英文語系。"
      ]
    },
    {
      "cell_type": "code",
      "metadata": {
        "id": "e1JFGdYAeaMR",
        "colab_type": "code",
        "outputId": "09b229d7-7221-4c7b-a549-8da07b688333",
        "colab": {}
      },
      "source": [
        "now()"
      ],
      "execution_count": 0,
      "outputs": [
        {
          "output_type": "execute_result",
          "data": {
            "text/plain": [
              "2020-03-29T21:02:23.613"
            ]
          },
          "metadata": {
            "tags": []
          },
          "execution_count": 2
        }
      ]
    },
    {
      "cell_type": "markdown",
      "metadata": {
        "id": "_vX5JQnqeaMW",
        "colab_type": "text"
      },
      "source": [
        "例如：顯示星期幾時，顯示的是英文名稱。"
      ]
    },
    {
      "cell_type": "code",
      "metadata": {
        "id": "51fVPw_heaMW",
        "colab_type": "code",
        "outputId": "b7aab98f-b114-4df4-c4d0-0134a8300bd7",
        "colab": {}
      },
      "source": [
        "dayname(now())"
      ],
      "execution_count": 0,
      "outputs": [
        {
          "output_type": "execute_result",
          "data": {
            "text/plain": [
              "\"Sunday\""
            ]
          },
          "metadata": {
            "tags": []
          },
          "execution_count": 3
        }
      ]
    },
    {
      "cell_type": "code",
      "metadata": {
        "id": "TPsEW3yUeaMZ",
        "colab_type": "code",
        "outputId": "f9d47a84-e95a-4a75-9d2b-d16b23576a38",
        "colab": {}
      },
      "source": [
        "# 上面的程式等同於指定 english 為語系\n",
        "dayname(now(); locale=\"english\")"
      ],
      "execution_count": 0,
      "outputs": [
        {
          "output_type": "execute_result",
          "data": {
            "text/plain": [
              "\"Sunday\""
            ]
          },
          "metadata": {
            "tags": []
          },
          "execution_count": 4
        }
      ]
    },
    {
      "cell_type": "markdown",
      "metadata": {
        "id": "-bshEP0weaMc",
        "colab_type": "text"
      },
      "source": [
        "如果我們想要顯示繁體中文的月份和星期，可透過定義**月份全名**、**月份簡稱**、**星期全名**、**星期簡稱**，並指定語系名稱。\n",
        "\n",
        "下面範例示範了設定**月份全名**、**星期全名**、**星期簡稱** (無月份簡稱)讓 _taiwan_ 語系來使用。"
      ]
    },
    {
      "cell_type": "code",
      "metadata": {
        "id": "UUkqJuqleaMd",
        "colab_type": "code",
        "colab": {}
      },
      "source": [
        "taiwan_months = [\"一月\", \"二月\", \"三月\", \"四月\", \"五月\", \"六月\",\n",
        "                 \"七月\", \"八月\", \"九月\", \"十月\", \"十一月\", \"十二月\"]\n",
        "\n",
        "taiwan_days = [\"星期一\", \"星期二\", \"星期三\", \"星期四\", \"星期五\", \"星期六\", \"星期日\"]\n",
        "\n",
        "taiwan_days_abbrev = [\"週一\", \"週二\", \"週三\", \"週四\", \"週五\", \"週六\", \"週日\"]\n",
        "\n",
        "Dates.LOCALES[\"taiwan\"] = Dates.DateLocale(taiwan_months, [\"\"], taiwan_days, taiwan_days_abbrev);"
      ],
      "execution_count": 0,
      "outputs": []
    },
    {
      "cell_type": "markdown",
      "metadata": {
        "id": "H3yicEd7eaMf",
        "colab_type": "text"
      },
      "source": [
        "顯示台灣的星期全名和星期簡稱。"
      ]
    },
    {
      "cell_type": "code",
      "metadata": {
        "id": "qJt0ipyLeaMg",
        "colab_type": "code",
        "outputId": "d56aee78-f1dc-4425-935b-d6a4b7c2af89",
        "colab": {}
      },
      "source": [
        "dayname(now(); locale=\"taiwan\")"
      ],
      "execution_count": 0,
      "outputs": [
        {
          "output_type": "execute_result",
          "data": {
            "text/plain": [
              "\"星期日\""
            ]
          },
          "metadata": {
            "tags": []
          },
          "execution_count": 6
        }
      ]
    },
    {
      "cell_type": "code",
      "metadata": {
        "id": "RN1zwSRneaMj",
        "colab_type": "code",
        "outputId": "e054bccb-c87c-4e20-de38-31f796c82b4d",
        "colab": {}
      },
      "source": [
        "dayabbr(now(); locale=\"taiwan\")"
      ],
      "execution_count": 0,
      "outputs": [
        {
          "output_type": "execute_result",
          "data": {
            "text/plain": [
              "\"週日\""
            ]
          },
          "metadata": {
            "tags": []
          },
          "execution_count": 7
        }
      ]
    },
    {
      "cell_type": "markdown",
      "metadata": {
        "id": "ya3vpKienbCC",
        "colab_type": "text"
      },
      "source": [
        "# Day 011 作業：新增另一個語系的月份與星期名稱"
      ]
    },
    {
      "cell_type": "markdown",
      "metadata": {
        "id": "n6ewJDRveaMm",
        "colab_type": "text"
      },
      "source": [
        "\n",
        "\n",
        "請新增另一個語系的月份及星期，並嘗試印出不同語系的月份及星期簡稱/縮寫。\n",
        "\n",
        "下表為法文的月份及星期供參考。\n",
        "\n",
        "||月份全名|月份縮寫|\n",
        "|---|---|---|\n",
        "|一月|janvier|janv|\n",
        "|二月|février|févr|\n",
        "|三月|mars|mars|\n",
        "|四月|avril|avril|\n",
        "|五月|mai|mai|\n",
        "|六月|juin|juin|\n",
        "|七月|juillet|juil|\n",
        "|八月|août|août|\n",
        "|九月|septembre|sept|\n",
        "|十月|octobre|oct|\n",
        "|十一月|novembre|nov|\n",
        "|十二月|décembre|déc|\n",
        "\n",
        "||星期全名|星期縮寫|\n",
        "|---|---|---|\n",
        "|星期一|lundi|lun.|\n",
        "|星期二|mardi|mar.|\n",
        "|星期三|mercredi|mer.|\n",
        "|星期四|jeudi|jeu.|\n",
        "|星期五|vendredi|ven.|\n",
        "|星期六|samedi|sam.|\n",
        "|星期日|dimanche|dim.|"
      ]
    },
    {
      "cell_type": "code",
      "metadata": {
        "id": "SYjJ1tPaj_S2",
        "colab_type": "code",
        "colab": {
          "base_uri": "https://localhost:8080/",
          "height": 85
        },
        "outputId": "8a31d82c-194c-4dbb-8775-8b9195f72017"
      },
      "source": [
        "!julia -e'\\\n",
        "using Dates                  ;\\\n",
        "println(now())               ;\\\n",
        "println(dayname(now()))      ;\\\n",
        "taiwan_months = [\"一月\", \"二月\", \"三月\", \"四月\", \"五月\", \"六月\", \"七月\", \"八月\", \"九月\", \"十月\", \"十一月\", \"十二月\"]   ;\\\n",
        "taiwan_days = [\"星期一\", \"星期二\", \"星期三\", \"星期四\", \"星期五\", \"星期六\", \"星期日\"]                                  ;\\\n",
        "taiwan_days_abbrev = [\"週一\", \"週二\", \"週三\", \"週四\", \"週五\", \"週六\", \"週日\"]                                        ;\\\n",
        "Dates.LOCALES[\"taiwan\"] = Dates.DateLocale(taiwan_months, [\"\"], taiwan_days, taiwan_days_abbrev)                   ;\\\n",
        "println(dayname(now(); locale=\"taiwan\"))                                                                           ;\\\n",
        "println(dayabbr(now(); locale=\"taiwan\"))                                                                           ;\\'"
      ],
      "execution_count": 2,
      "outputs": [
        {
          "output_type": "stream",
          "text": [
            "2020-04-13T08:15:03.096\n",
            "Monday\n",
            "星期一\n",
            "週一\n"
          ],
          "name": "stdout"
        }
      ]
    },
    {
      "cell_type": "code",
      "metadata": {
        "id": "tpESqZT2eaMn",
        "colab_type": "code",
        "colab": {
          "base_uri": "https://localhost:8080/",
          "height": 68
        },
        "outputId": "2f9c9108-b9a8-48ea-e038-0b14c5f71c49"
      },
      "source": [
        "!julia -e'\\\n",
        "using Dates                                                                                                                                 ;\\\n",
        "println(now())                                                                                                                              ;\\\n",
        "franch_months = [\"janvier\", \"février\", \"mars\", \"avril\", \"mai\", \"juin\", \"juillet\", \"août\", \"septembre\", \"octobre\", \"novembre\", \"décembre\"]   ;\\\n",
        "franch_days = [\"lundi\", \"mardi\", \"mercredi\", \"jeudi\", \"vendredi\", \"samedi\", \"dimanche\"]                                                     ;\\\n",
        "franch_days_abbrev = [\"lun.\", \"mar.\", \"mer.\", \"jeu.\", \"ven.\", \"sam.\", \"dim.\"]                                                               ;\\\n",
        "Dates.LOCALES[\"franch\"] = Dates.DateLocale(franch_months, [\"\"], franch_days, franch_days_abbrev)                                            ;\\\n",
        "println(dayname(now(); locale=\"franch\"))                                                                                                    ;\\\n",
        "println(dayabbr(now(); locale=\"franch\"))                                                                                                    ;\\'"
      ],
      "execution_count": 3,
      "outputs": [
        {
          "output_type": "stream",
          "text": [
            "2020-04-13T08:15:16.982\n",
            "lundi\n",
            "lun.\n"
          ],
          "name": "stdout"
        }
      ]
    }
  ]
}