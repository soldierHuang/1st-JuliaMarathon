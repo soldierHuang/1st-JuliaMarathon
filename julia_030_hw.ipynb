{
  "nbformat": 4,
  "nbformat_minor": 0,
  "metadata": {
    "kernelspec": {
      "display_name": "Julia v1.4 [compiled] 1.4.1",
      "language": "julia",
      "name": "julia-v1.4-[compiled]-1.4"
    },
    "language_info": {
      "file_extension": ".jl",
      "mimetype": "application/julia",
      "name": "julia",
      "version": "1.4.1"
    },
    "colab": {
      "name": "julia_030_hw.ipynb",
      "provenance": [],
      "collapsed_sections": []
    }
  },
  "cells": [
    {
      "cell_type": "code",
      "metadata": {
        "id": "UfFSZPCrgbpd",
        "colab_type": "code",
        "colab": {
          "base_uri": "https://localhost:8080/",
          "height": 765
        },
        "outputId": "9e7a4b14-8219-4b79-d345-d91df635cbc6"
      },
      "source": [
        "%%shell\n",
        "if ! command -v julia 3>&1 > /dev/null\n",
        "then\n",
        "    wget 'https://julialang-s3.julialang.org/bin/linux/x64/1.4/julia-1.4.1-linux-x86_64.tar.gz' -O julia.tar.gz\n",
        "    tar -x -f julia.tar.gz -C /usr/local --strip-components 1\n",
        "    rm julia.tar.gz\n",
        "fi\n",
        "    julia -e '\\\n",
        "        using Pkg                                                          ;\\\n",
        "        Pkg.update()                                                       ;\\\n",
        "        Pkg.add(\"IJulia\")                                                  ;\\\n",
        "        Pkg.add(\"DecisionTree\")                                            ;\\\n",
        "        Pkg.add(\"RDatasets\")                                               ;\\\n",
        "        Pkg.add(\"DataFrames\")                                              ;\\\n",
        "        Pkg.add(\"MLDataUtils\")                                             ;\\\n",
        "        Pkg.add(\"Statistics\")                                              ;\\\n",
        "        Pkg.update()                                                       ;\\\n",
        "        Pkg.precompile()                                                   ;\\'\n",
        "echo 'Done'"
      ],
      "execution_count": 30,
      "outputs": [
        {
          "output_type": "stream",
          "text": [
            "   Updating registry at `~/.julia/registries/General`\n",
            "   Updating git-repo `https://github.com/JuliaRegistries/General.git`\n",
            "\u001b[?25l\u001b[2K\u001b[?25h   Updating `~/.julia/environments/v1.4/Project.toml`\n",
            " [no changes]\n",
            "   Updating `~/.julia/environments/v1.4/Manifest.toml`\n",
            " [no changes]\n",
            "  Resolving package versions...\n",
            "   Updating `~/.julia/environments/v1.4/Project.toml`\n",
            " [no changes]\n",
            "   Updating `~/.julia/environments/v1.4/Manifest.toml`\n",
            " [no changes]\n",
            "  Resolving package versions...\n",
            "   Updating `~/.julia/environments/v1.4/Project.toml`\n",
            " [no changes]\n",
            "   Updating `~/.julia/environments/v1.4/Manifest.toml`\n",
            " [no changes]\n",
            "  Resolving package versions...\n",
            "   Updating `~/.julia/environments/v1.4/Project.toml`\n",
            " [no changes]\n",
            "   Updating `~/.julia/environments/v1.4/Manifest.toml`\n",
            " [no changes]\n",
            "  Resolving package versions...\n",
            "   Updating `~/.julia/environments/v1.4/Project.toml`\n",
            " [no changes]\n",
            "   Updating `~/.julia/environments/v1.4/Manifest.toml`\n",
            " [no changes]\n",
            "  Resolving package versions...\n",
            "   Updating `~/.julia/environments/v1.4/Project.toml`\n",
            " [no changes]\n",
            "   Updating `~/.julia/environments/v1.4/Manifest.toml`\n",
            " [no changes]\n",
            "  Resolving package versions...\n",
            "   Updating `~/.julia/environments/v1.4/Project.toml`\n",
            " [no changes]\n",
            "   Updating `~/.julia/environments/v1.4/Manifest.toml`\n",
            " [no changes]\n",
            "   Updating registry at `~/.julia/registries/General`\n",
            "   Updating git-repo `https://github.com/JuliaRegistries/General.git`\n",
            "\u001b[?25l\u001b[2K\u001b[?25h   Updating `~/.julia/environments/v1.4/Project.toml`\n",
            " [no changes]\n",
            "   Updating `~/.julia/environments/v1.4/Manifest.toml`\n",
            " [no changes]\n",
            "Precompiling project...\n",
            "Done\n"
          ],
          "name": "stdout"
        },
        {
          "output_type": "execute_result",
          "data": {
            "text/plain": [
              ""
            ]
          },
          "metadata": {
            "tags": []
          },
          "execution_count": 30
        }
      ]
    },
    {
      "cell_type": "markdown",
      "metadata": {
        "id": "Gl-F8Ae2bLMQ",
        "colab_type": "text"
      },
      "source": [
        "# Julia 機器學習：DecisionTree 決策樹\n",
        "\n",
        "## 作業 030：乳癌預測資料集\n",
        "\n",
        "請使用隨機森林模型建立一個分類模型，來預測乳癌資料集中，為良性或是惡性的腫瘤。"
      ]
    },
    {
      "cell_type": "code",
      "metadata": {
        "id": "4Qf3BlPLj1-h",
        "colab_type": "code",
        "colab": {
          "base_uri": "https://localhost:8080/",
          "height": 34
        },
        "outputId": "fba6f619-e8ba-4e48-f5b9-2ed6ecbbeaec"
      },
      "source": [
        "!julia -e'\\\n",
        "using DecisionTree, RDatasets, DataFrames, MLDataUtils, Statistics            ;\\\n",
        "biopsy = dataset(\"MASS\", \"biopsy\")                                            ;\\\n",
        "biopsy = dropmissing(biopsy)                                                  ;\\\n",
        "features = Matrix(biopsy[!, 2:10])                                            ;\\\n",
        "labels = string.(biopsy[!, :Class])                                           ;\\\n",
        "model = DecisionTree.RandomForestClassifier(n_trees=500, max_depth=9)         ;\\\n",
        "DecisionTree.fit!(model, features, labels)                                    ;\\\n",
        "indecies = MLDataUtils.shuffleobs(collect(1:nrow(biopsy)))                    ;\\\n",
        "train_ind, test_ind = MLDataUtils.splitobs(indecies, at = 0.75);              ;\\\n",
        "ŷ = DecisionTree.predict(model, features[test_ind, :])                        ;\\\n",
        "accuracy(xs, ys) = mean(xs .== ys)                                            ;\\\n",
        "println(\"accuracy\",accuracy(ŷ, labels[test_ind]))                             ;\\'"
      ],
      "execution_count": 49,
      "outputs": [
        {
          "output_type": "stream",
          "text": [
            "accuracy0.9941520467836257\n"
          ],
          "name": "stdout"
        }
      ]
    }
  ]
}