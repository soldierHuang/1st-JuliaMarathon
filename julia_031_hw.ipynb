{
  "nbformat": 4,
  "nbformat_minor": 0,
  "metadata": {
    "kernelspec": {
      "display_name": "Julia v1.4 [compiled] 1.4.1",
      "language": "julia",
      "name": "julia-v1.4-[compiled]-1.4"
    },
    "language_info": {
      "file_extension": ".jl",
      "mimetype": "application/julia",
      "name": "julia",
      "version": "1.4.1"
    },
    "colab": {
      "name": "julia_031_hw.ipynb",
      "provenance": []
    }
  },
  "cells": [
    {
      "cell_type": "code",
      "metadata": {
        "id": "M9sM_Ku2rXCh",
        "colab_type": "code",
        "colab": {
          "base_uri": "https://localhost:8080/",
          "height": 1000
        },
        "outputId": "6b7dd43e-f700-4bfa-b51a-0b77e0b385cd"
      },
      "source": [
        "%%shell\n",
        "if ! command -v julia 3>&1 > /dev/null\n",
        "then\n",
        "    wget 'https://julialang-s3.julialang.org/bin/linux/x64/1.4/julia-1.4.1-linux-x86_64.tar.gz' -O julia.tar.gz\n",
        "    tar -x -f julia.tar.gz -C /usr/local --strip-components 1\n",
        "    rm julia.tar.gz\n",
        "fi\n",
        "    julia -e '\\\n",
        "        using Pkg                                                          ;\\\n",
        "        Pkg.update()                                                       ;\\\n",
        "        Pkg.add(\"IJulia\")                                                  ;\\\n",
        "        Pkg.add(\"Zygote\")                                                  ;\\\n",
        "        Pkg.update()                                                       ;\\\n",
        "        Pkg.precompile()                                                   ;\\'\n",
        "echo 'Done'"
      ],
      "execution_count": 1,
      "outputs": [
        {
          "output_type": "stream",
          "text": [
            "--2020-05-11 07:40:29--  https://julialang-s3.julialang.org/bin/linux/x64/1.4/julia-1.4.1-linux-x86_64.tar.gz\n",
            "Resolving julialang-s3.julialang.org (julialang-s3.julialang.org)... 151.101.2.49, 151.101.66.49, 151.101.130.49, ...\n",
            "Connecting to julialang-s3.julialang.org (julialang-s3.julialang.org)|151.101.2.49|:443... connected.\n",
            "HTTP request sent, awaiting response... 302 gce internal redirect trigger\n",
            "Location: https://storage.googleapis.com/julialang2/bin/linux/x64/1.4/julia-1.4.1-linux-x86_64.tar.gz [following]\n",
            "--2020-05-11 07:40:29--  https://storage.googleapis.com/julialang2/bin/linux/x64/1.4/julia-1.4.1-linux-x86_64.tar.gz\n",
            "Resolving storage.googleapis.com (storage.googleapis.com)... 108.177.126.128, 2a00:1450:4013:c01::80\n",
            "Connecting to storage.googleapis.com (storage.googleapis.com)|108.177.126.128|:443... connected.\n",
            "HTTP request sent, awaiting response... 200 OK\n",
            "Length: 98917779 (94M) [application/x-tar]\n",
            "Saving to: ‘julia.tar.gz’\n",
            "\n",
            "julia.tar.gz        100%[===================>]  94.33M  83.0MB/s    in 1.1s    \n",
            "\n",
            "2020-05-11 07:40:30 (83.0 MB/s) - ‘julia.tar.gz’ saved [98917779/98917779]\n",
            "\n",
            "    Cloning default registries into `~/.julia`\n",
            "    Cloning registry from \"https://github.com/JuliaRegistries/General.git\"\n",
            "\u001b[2K\u001b[?25h      Added registry `General` to `~/.julia/registries/General`\n",
            "   Updating registry at `~/.julia/registries/General`\n",
            "   Updating git-repo `https://github.com/JuliaRegistries/General.git`\n",
            "\u001b[?25l\u001b[2K\u001b[?25h   Updating `~/.julia/environments/v1.4/Project.toml`\n",
            " [no changes]\n",
            "   Updating `~/.julia/environments/v1.4/Manifest.toml`\n",
            " [no changes]\n",
            "  Resolving package versions...\n",
            "  Installed SoftGlobalScope ─ v1.0.10\n",
            "  Installed MbedTLS_jll ───── v2.16.0+2\n",
            "  Installed IJulia ────────── v1.21.2\n",
            "  Installed Parsers ───────── v1.0.3\n",
            "  Installed ZMQ ───────────── v1.2.0\n",
            "  Installed JSON ──────────── v0.21.0\n",
            "  Installed VersionParsing ── v1.2.0\n",
            "  Installed MbedTLS ───────── v1.0.2\n",
            "  Installed ZeroMQ_jll ────── v4.3.2+2\n",
            "  Installed Conda ─────────── v1.4.1\n",
            "Downloading artifact: MbedTLS\n",
            "######################################################################## 100.0%\n",
            "\u001b[1A\u001b[2K\u001b[?25hDownloading artifact: ZeroMQ\n",
            "######################################################################## 100.0%\n",
            "\u001b[1A\u001b[2K\u001b[?25h   Updating `~/.julia/environments/v1.4/Project.toml`\n",
            "  [7073ff75] + IJulia v1.21.2\n",
            "   Updating `~/.julia/environments/v1.4/Manifest.toml`\n",
            "  [8f4d0f93] + Conda v1.4.1\n",
            "  [7073ff75] + IJulia v1.21.2\n",
            "  [682c06a0] + JSON v0.21.0\n",
            "  [739be429] + MbedTLS v1.0.2\n",
            "  [c8ffd9c3] + MbedTLS_jll v2.16.0+2\n",
            "  [69de0a69] + Parsers v1.0.3\n",
            "  [b85f4697] + SoftGlobalScope v1.0.10\n",
            "  [81def892] + VersionParsing v1.2.0\n",
            "  [c2297ded] + ZMQ v1.2.0\n",
            "  [8f1865be] + ZeroMQ_jll v4.3.2+2\n",
            "  [2a0f44e3] + Base64 \n",
            "  [ade2ca70] + Dates \n",
            "  [8ba89e20] + Distributed \n",
            "  [7b1f6079] + FileWatching \n",
            "  [b77e0a4c] + InteractiveUtils \n",
            "  [76f85450] + LibGit2 \n",
            "  [8f399da3] + Libdl \n",
            "  [56ddb016] + Logging \n",
            "  [d6f4376e] + Markdown \n",
            "  [a63ad114] + Mmap \n",
            "  [44cfe95a] + Pkg \n",
            "  [de0858da] + Printf \n",
            "  [3fa0cd96] + REPL \n",
            "  [9a3f8284] + Random \n",
            "  [ea8e919c] + SHA \n",
            "  [9e88b42a] + Serialization \n",
            "  [6462fe0b] + Sockets \n",
            "  [8dfed614] + Test \n",
            "  [cf7118a7] + UUIDs \n",
            "  [4ec0a83e] + Unicode \n",
            "   Building Conda ─→ `~/.julia/packages/Conda/3rPhK/deps/build.log`\n",
            "   Building IJulia → `~/.julia/packages/IJulia/DrVMH/deps/build.log`\n",
            "  Resolving package versions...\n",
            "  Installed Requires ───────────────────── v1.0.1\n",
            "  Installed OpenSpecFun_jll ────────────── v0.5.3+3\n",
            "  Installed BinaryProvider ─────────────── v0.5.9\n",
            "  Installed IRTools ────────────────────── v0.3.2\n",
            "  Installed MacroTools ─────────────────── v0.5.5\n",
            "  Installed StaticArrays ───────────────── v0.12.3\n",
            "  Installed CommonSubexpressions ───────── v0.2.0\n",
            "  Installed Zygote ─────────────────────── v0.4.20\n",
            "  Installed AbstractFFTs ───────────────── v0.5.0\n",
            "  Installed DiffResults ────────────────── v1.0.2\n",
            "  Installed NaNMath ────────────────────── v0.3.3\n",
            "  Installed DiffRules ──────────────────── v1.0.1\n",
            "  Installed CompilerSupportLibraries_jll ─ v0.3.3+0\n",
            "  Installed FillArrays ─────────────────── v0.8.8\n",
            "  Installed ForwardDiff ────────────────── v0.10.10\n",
            "  Installed ZygoteRules ────────────────── v0.2.0\n",
            "  Installed SpecialFunctions ───────────── v0.10.0\n",
            "  Installed NNlib ──────────────────────── v0.6.6\n",
            "  Installed ArrayLayouts ───────────────── v0.2.6\n",
            "Downloading artifact: OpenSpecFun\n",
            "######################################################################## 100.0%\n",
            "\u001b[1A\u001b[2K\u001b[?25hDownloading artifact: CompilerSupportLibraries\n",
            "######################################################################## 100.0%\n",
            "\u001b[1A\u001b[2K\u001b[?25h   Updating `~/.julia/environments/v1.4/Project.toml`\n",
            "  [e88e6eb3] + Zygote v0.4.20\n",
            "   Updating `~/.julia/environments/v1.4/Manifest.toml`\n",
            "  [621f4979] + AbstractFFTs v0.5.0\n",
            "  [4c555306] + ArrayLayouts v0.2.6\n",
            "  [b99e7846] + BinaryProvider v0.5.9\n",
            "  [bbf7d656] + CommonSubexpressions v0.2.0\n",
            "  [e66e0078] + CompilerSupportLibraries_jll v0.3.3+0\n",
            "  [163ba53b] + DiffResults v1.0.2\n",
            "  [b552c78f] + DiffRules v1.0.1\n",
            "  [1a297f60] + FillArrays v0.8.8\n",
            "  [f6369f11] + ForwardDiff v0.10.10\n",
            "  [7869d1d1] + IRTools v0.3.2\n",
            "  [1914dd2f] + MacroTools v0.5.5\n",
            "  [872c559c] + NNlib v0.6.6\n",
            "  [77ba4419] + NaNMath v0.3.3\n",
            "  [efe28fd5] + OpenSpecFun_jll v0.5.3+3\n",
            "  [ae029012] + Requires v1.0.1\n",
            "  [276daf66] + SpecialFunctions v0.10.0\n",
            "  [90137ffa] + StaticArrays v0.12.3\n",
            "  [e88e6eb3] + Zygote v0.4.20\n",
            "  [700de1a5] + ZygoteRules v0.2.0\n",
            "  [9fa8497b] + Future \n",
            "  [37e2e46d] + LinearAlgebra \n",
            "  [2f01184e] + SparseArrays \n",
            "  [10745b16] + Statistics \n",
            "   Building NNlib → `~/.julia/packages/NNlib/FAI3o/deps/build.log`\n",
            "   Updating registry at `~/.julia/registries/General`\n",
            "   Updating git-repo `https://github.com/JuliaRegistries/General.git`\n",
            "\u001b[?25l\u001b[2K\u001b[?25h   Updating `~/.julia/environments/v1.4/Project.toml`\n",
            " [no changes]\n",
            "   Updating `~/.julia/environments/v1.4/Manifest.toml`\n",
            " [no changes]\n",
            "Precompiling project...\n",
            "Done\n"
          ],
          "name": "stdout"
        },
        {
          "output_type": "execute_result",
          "data": {
            "text/plain": [
              ""
            ]
          },
          "metadata": {
            "tags": []
          },
          "execution_count": 1
        }
      ]
    },
    {
      "cell_type": "markdown",
      "metadata": {
        "id": "X23-slSRhrwp",
        "colab_type": "text"
      },
      "source": [
        "# Julia 深度學習：可微分程式設計\n",
        "\n",
        "## 作業 031：對神經網路層微分\n",
        "\n",
        "請自行撰寫一個型別，型別代表神經網路的一層運算，並且對它微分。神經網路層的一般式如下：\n",
        "\n",
        "$$\n",
        "y = \\sigma (Wx + b)\n",
        "$$\n",
        "\n",
        "其中 `W` 為參數矩陣，`b` 為參數向量，`x` 為輸入向量，`y` 為輸出向量。要取得向量的微分值，需要將向量縮減為純量，如下：\n",
        "\n",
        "```\n",
        "gradient(x -> sum(y), 1)\n",
        "```"
      ]
    },
    {
      "cell_type": "code",
      "metadata": {
        "id": "JpYlebfkrcUI",
        "colab_type": "code",
        "colab": {
          "base_uri": "https://localhost:8080/",
          "height": 34
        },
        "outputId": "be40f977-9181-4b47-c156-2e8ed20912c4"
      },
      "source": [
        "!julia -e'\\\n",
        "using Zygote                                                                              ;\\\n",
        "struct ANN                                                                                ;\\\n",
        "    W::Matrix                                                                             ;\\\n",
        "    b::Vector                                                                             ;\\\n",
        "end                                                                                       ;\\\n",
        "(l::ANN)(x) = identity(l.W*x + l.b)                                                       ;\\\n",
        "l = ANN( rand(2,3), rand(2) )                                                             ;\\\n",
        "println( \"gradient( x -> sum(l(x)), rand(3) ) \",  gradient( x -> sum(l(x)), rand(3) ) )   ;\\'"
      ],
      "execution_count": 23,
      "outputs": [
        {
          "output_type": "stream",
          "text": [
            "gradient( x -> sum(l(x)), rand(3) ) ([1.6257325114073669, 1.8050293891654394, 1.339298437783445],)\n"
          ],
          "name": "stdout"
        }
      ]
    }
  ]
}