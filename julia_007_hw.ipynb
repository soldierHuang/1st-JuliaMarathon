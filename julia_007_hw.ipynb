{
  "nbformat": 4,
  "nbformat_minor": 0,
  "metadata": {
    "kernelspec": {
      "display_name": "Julia 1.2.0",
      "language": "julia",
      "name": "julia-1.2"
    },
    "language_info": {
      "file_extension": ".jl",
      "mimetype": "application/julia",
      "name": "julia",
      "version": "1.2.0"
    },
    "colab": {
      "name": "julia_007_hw.ipynb",
      "provenance": [],
      "collapsed_sections": []
    }
  },
  "cells": [
    {
      "cell_type": "code",
      "metadata": {
        "id": "ktGQ0-TllLni",
        "colab_type": "code",
        "colab": {
          "base_uri": "https://localhost:8080/",
          "height": 340
        },
        "outputId": "27ddb836-a5bf-401e-f04a-4345d6903e06"
      },
      "source": [
        "%%shell\n",
        "if ! command -v julia 3>&1 > /dev/null\n",
        "then\n",
        "    wget 'https://julialang-s3.julialang.org/bin/linux/x64/1.3/julia-1.3.1-linux-x86_64.tar.gz' -O julia.tar.gz\n",
        "    tar -x -f julia.tar.gz -C /usr/local --strip-components 1\n",
        "    rm julia.tar.gz\n",
        "fi\n",
        "julia -e 'using Pkg; pkg\"add IJulia; add BenchmarkTools; add CuArrays; precompile;\"'\n",
        "echo 'Done'"
      ],
      "execution_count": 1,
      "outputs": [
        {
          "output_type": "stream",
          "text": [
            "  Updating registry at `~/.julia/registries/General`\n",
            "  Updating git-repo `https://github.com/JuliaRegistries/General.git`\n",
            "\u001b[2K\u001b[?25h Resolving package versions...\n",
            "  Updating `~/.julia/environments/v1.3/Project.toml`\n",
            " [no changes]\n",
            "  Updating `~/.julia/environments/v1.3/Manifest.toml`\n",
            " [no changes]\n",
            " Resolving package versions...\n",
            "  Updating `~/.julia/environments/v1.3/Project.toml`\n",
            " [no changes]\n",
            "  Updating `~/.julia/environments/v1.3/Manifest.toml`\n",
            " [no changes]\n",
            " Resolving package versions...\n",
            "  Updating `~/.julia/environments/v1.3/Project.toml`\n",
            " [no changes]\n",
            "  Updating `~/.julia/environments/v1.3/Manifest.toml`\n",
            " [no changes]\n",
            "Precompiling project...\n",
            "Done\n"
          ],
          "name": "stdout"
        },
        {
          "output_type": "execute_result",
          "data": {
            "text/plain": [
              ""
            ]
          },
          "metadata": {
            "tags": []
          },
          "execution_count": 1
        }
      ]
    },
    {
      "cell_type": "markdown",
      "metadata": {
        "id": "VMeYww1OjGlm",
        "colab_type": "text"
      },
      "source": [
        "# Julia 條件與迴圈\n",
        "\n",
        "## Day 007 作業：使用條件與迴圈找出數值\n",
        "\n",
        "運用迴圈及條件判斷，找出並印出範圍內 (例如從 1 到 100)，是 3 的倍數，但是無法被 5 整除的數字。"
      ]
    },
    {
      "cell_type": "code",
      "metadata": {
        "id": "-qOGdyf-jGls",
        "colab_type": "code",
        "colab": {
          "base_uri": "https://localhost:8080/",
          "height": 34
        },
        "outputId": "f79a19f6-91a6-432a-bf48-52ff47cb78a3"
      },
      "source": [
        "# 程式碼   範圍起始 x = 1 ;  範圍結束 y = 100\n",
        "!julia -e '\\\n",
        "x = 1 ; y = 100                    ;\\\n",
        "ans = []                           ;\\\n",
        "for i in x:y                       ;\\\n",
        "  if i % 3 ==0 && i % 5 !=0        ;\\\n",
        "    push!(ans,i)                   ;\\\n",
        "  end                              ;\\\n",
        "end                                ;\\\n",
        "println(ans)                       ;\\'"
      ],
      "execution_count": 2,
      "outputs": [
        {
          "output_type": "stream",
          "text": [
            "Any[3, 6, 9, 12, 18, 21, 24, 27, 33, 36, 39, 42, 48, 51, 54, 57, 63, 66, 69, 72, 78, 81, 84, 87, 93, 96, 99]\n"
          ],
          "name": "stdout"
        }
      ]
    },
    {
      "cell_type": "markdown",
      "metadata": {
        "id": "LEt8Q0R6jGlu",
        "colab_type": "text"
      },
      "source": [
        "## Day 007 作業2：請閱讀下列程式碼，並選擇正確的輸出結果\n",
        "\n",
        "```julia\n",
        "a = 2\n",
        "\n",
        "while a >= 0\n",
        "    for b = 0:2\n",
        "        if (a == b)\n",
        "            print(\"1 \")\n",
        "        else\n",
        "            print(\"0 \")\n",
        "        end\n",
        "    end\n",
        "    println()    \n",
        "    a -= 1\n",
        "end\n",
        "```\n",
        "\n",
        "請問正確的輸出是下列何者？\n",
        "\n",
        "A. 1 0 0<br />\n",
        "0 1 0<br />\n",
        "0 0 1<br />\n",
        "\n",
        "B. 0 1 0<br />\n",
        "1 0 0<br />\n",
        "0 0 1<br />\n",
        "\n",
        "C.  0 0 1<br />\n",
        "0 1 0<br />\n",
        "1 0 0<br />\n",
        "\n",
        "D. 1 0 0<br />\n",
        "0 0 1<br />\n",
        "0 1 0<br />"
      ]
    },
    {
      "cell_type": "markdown",
      "metadata": {
        "id": "Vc-UCGTOkfOb",
        "colab_type": "text"
      },
      "source": [
        "\n",
        "答案 :  C\n",
        "\n",
        "a = 2 : print(0,0,1)        \n",
        "a = 1 : print(0,1,0)           \n",
        "a = 0 : print(1,0,0)\n"
      ]
    }
  ]
}