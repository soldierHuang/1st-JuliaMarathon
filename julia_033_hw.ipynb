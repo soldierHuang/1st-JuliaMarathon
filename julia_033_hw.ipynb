{
  "nbformat": 4,
  "nbformat_minor": 0,
  "metadata": {
    "kernelspec": {
      "display_name": "Julia 1.4.1",
      "language": "julia",
      "name": "julia-1.4"
    },
    "language_info": {
      "file_extension": ".jl",
      "mimetype": "application/julia",
      "name": "julia",
      "version": "1.4.1"
    },
    "colab": {
      "name": "julia_033_hw.ipynb",
      "provenance": []
    }
  },
  "cells": [
    {
      "cell_type": "code",
      "metadata": {
        "id": "vu3DcvZxgGh8",
        "colab_type": "code",
        "colab": {
          "base_uri": "https://localhost:8080/",
          "height": 1000
        },
        "outputId": "b28bd8e4-ee8f-4077-fbcb-475ff96a2503"
      },
      "source": [
        "%%shell\n",
        "if ! command -v julia 3>&1 > /dev/null\n",
        "then\n",
        "    wget 'https://julialang-s3.julialang.org/bin/linux/x64/1.4/julia-1.4.1-linux-x86_64.tar.gz' -O julia.tar.gz\n",
        "    tar -x -f julia.tar.gz -C /usr/local --strip-components 1\n",
        "    rm julia.tar.gz\n",
        "fi\n",
        "    julia -e '\\\n",
        "        using Pkg                                                          ;\\\n",
        "        Pkg.update()                                                       ;\\\n",
        "        Pkg.add(\"CuArrays\")                                                ;\\\n",
        "        Pkg.add(\"IJulia\")                                                  ;\\\n",
        "        Pkg.add(\"Flux\")                                                    ;\\\n",
        "        Pkg.add(\"MLDatasets\")                                              ;\\\n",
        "        Pkg.add(\"Statistics\")                                              ;\\\n",
        "        Pkg.update()                                                       ;\\\n",
        "        Pkg.precompile()                                                   ;\\'\n",
        "echo 'Done'"
      ],
      "execution_count": 1,
      "outputs": [
        {
          "output_type": "stream",
          "text": [
            "--2020-05-12 01:29:47--  https://julialang-s3.julialang.org/bin/linux/x64/1.4/julia-1.4.1-linux-x86_64.tar.gz\n",
            "Resolving julialang-s3.julialang.org (julialang-s3.julialang.org)... 151.101.2.49, 151.101.66.49, 151.101.130.49, ...\n",
            "Connecting to julialang-s3.julialang.org (julialang-s3.julialang.org)|151.101.2.49|:443... connected.\n",
            "HTTP request sent, awaiting response... 302 gce internal redirect trigger\n",
            "Location: https://storage.googleapis.com/julialang2/bin/linux/x64/1.4/julia-1.4.1-linux-x86_64.tar.gz [following]\n",
            "--2020-05-12 01:29:47--  https://storage.googleapis.com/julialang2/bin/linux/x64/1.4/julia-1.4.1-linux-x86_64.tar.gz\n",
            "Resolving storage.googleapis.com (storage.googleapis.com)... 64.233.189.128, 2404:6800:4008:c07::80\n",
            "Connecting to storage.googleapis.com (storage.googleapis.com)|64.233.189.128|:443... connected.\n",
            "HTTP request sent, awaiting response... 200 OK\n",
            "Length: 98917779 (94M) [application/x-tar]\n",
            "Saving to: ‘julia.tar.gz’\n",
            "\n",
            "julia.tar.gz        100%[===================>]  94.33M  72.3MB/s    in 1.3s    \n",
            "\n",
            "2020-05-12 01:29:49 (72.3 MB/s) - ‘julia.tar.gz’ saved [98917779/98917779]\n",
            "\n",
            "    Cloning default registries into `~/.julia`\n",
            "    Cloning registry from \"https://github.com/JuliaRegistries/General.git\"\n",
            "\u001b[2K\u001b[?25h      Added registry `General` to `~/.julia/registries/General`\n",
            "   Updating registry at `~/.julia/registries/General`\n",
            "   Updating git-repo `https://github.com/JuliaRegistries/General.git`\n",
            "\u001b[?25l\u001b[2K\u001b[?25h   Updating `~/.julia/environments/v1.4/Project.toml`\n",
            " [no changes]\n",
            "   Updating `~/.julia/environments/v1.4/Manifest.toml`\n",
            " [no changes]\n",
            "  Resolving package versions...\n",
            "  Installed Adapt ────────────── v1.0.1\n",
            "  Installed CEnum ────────────── v0.3.0\n",
            "  Installed AbstractFFTs ─────── v0.5.0\n",
            "  Installed CUDAapi ──────────── v4.0.0\n",
            "  Installed TimerOutputs ─────── v0.5.5\n",
            "  Installed Requires ─────────── v1.0.1\n",
            "  Installed LLVM ─────────────── v1.4.1\n",
            "  Installed CuArrays ─────────── v2.2.0\n",
            "  Installed Reexport ─────────── v0.2.0\n",
            "  Installed ExprTools ────────── v0.1.1\n",
            "  Installed CodeTracking ─────── v0.5.11\n",
            "  Installed NNlib ────────────── v0.6.6\n",
            "  Installed DataStructures ───── v0.17.15\n",
            "  Installed Cthulhu ──────────── v1.0.2\n",
            "  Installed GPUArrays ────────── v3.3.0\n",
            "  Installed MacroTools ───────── v0.5.5\n",
            "  Installed OrderedCollections ─ v1.2.0\n",
            "  Installed GPUCompiler ──────── v0.2.0\n",
            "  Installed CUDAnative ───────── v3.1.0\n",
            "  Installed BinaryProvider ───── v0.5.9\n",
            "  Installed CUDAdrv ──────────── v6.3.0\n",
            "   Updating `~/.julia/environments/v1.4/Project.toml`\n",
            "  [3a865a2d] + CuArrays v2.2.0\n",
            "   Updating `~/.julia/environments/v1.4/Manifest.toml`\n",
            "  [621f4979] + AbstractFFTs v0.5.0\n",
            "  [79e6a3ab] + Adapt v1.0.1\n",
            "  [b99e7846] + BinaryProvider v0.5.9\n",
            "  [fa961155] + CEnum v0.3.0\n",
            "  [3895d2a7] + CUDAapi v4.0.0\n",
            "  [c5f51814] + CUDAdrv v6.3.0\n",
            "  [be33ccc6] + CUDAnative v3.1.0\n",
            "  [da1fd8a2] + CodeTracking v0.5.11\n",
            "  [f68482b8] + Cthulhu v1.0.2\n",
            "  [3a865a2d] + CuArrays v2.2.0\n",
            "  [864edb3b] + DataStructures v0.17.15\n",
            "  [e2ba6199] + ExprTools v0.1.1\n",
            "  [0c68f7d7] + GPUArrays v3.3.0\n",
            "  [61eb1bfa] + GPUCompiler v0.2.0\n",
            "  [929cbde3] + LLVM v1.4.1\n",
            "  [1914dd2f] + MacroTools v0.5.5\n",
            "  [872c559c] + NNlib v0.6.6\n",
            "  [bac558e1] + OrderedCollections v1.2.0\n",
            "  [189a3867] + Reexport v0.2.0\n",
            "  [ae029012] + Requires v1.0.1\n",
            "  [a759f4b9] + TimerOutputs v0.5.5\n",
            "  [2a0f44e3] + Base64 \n",
            "  [ade2ca70] + Dates \n",
            "  [b77e0a4c] + InteractiveUtils \n",
            "  [76f85450] + LibGit2 \n",
            "  [8f399da3] + Libdl \n",
            "  [37e2e46d] + LinearAlgebra \n",
            "  [56ddb016] + Logging \n",
            "  [d6f4376e] + Markdown \n",
            "  [44cfe95a] + Pkg \n",
            "  [de0858da] + Printf \n",
            "  [3fa0cd96] + REPL \n",
            "  [9a3f8284] + Random \n",
            "  [ea8e919c] + SHA \n",
            "  [9e88b42a] + Serialization \n",
            "  [6462fe0b] + Sockets \n",
            "  [2f01184e] + SparseArrays \n",
            "  [10745b16] + Statistics \n",
            "  [cf7118a7] + UUIDs \n",
            "  [4ec0a83e] + Unicode \n",
            "   Building NNlib → `~/.julia/packages/NNlib/FAI3o/deps/build.log`\n",
            "  Resolving package versions...\n",
            "  Installed MbedTLS_jll ───── v2.16.0+2\n",
            "  Installed VersionParsing ── v1.2.0\n",
            "  Installed ZeroMQ_jll ────── v4.3.2+2\n",
            "  Installed Parsers ───────── v1.0.3\n",
            "  Installed JSON ──────────── v0.21.0\n",
            "  Installed ZMQ ───────────── v1.2.0\n",
            "  Installed IJulia ────────── v1.21.2\n",
            "  Installed MbedTLS ───────── v1.0.2\n",
            "  Installed SoftGlobalScope ─ v1.0.10\n",
            "  Installed Conda ─────────── v1.4.1\n",
            "Downloading artifact: MbedTLS\n",
            "######################################################################## 100.0%\n",
            "\u001b[1A\u001b[2K\u001b[?25hDownloading artifact: ZeroMQ\n",
            "######################################################################## 100.0%\n",
            "\u001b[1A\u001b[2K\u001b[?25h   Updating `~/.julia/environments/v1.4/Project.toml`\n",
            "  [7073ff75] + IJulia v1.21.2\n",
            "   Updating `~/.julia/environments/v1.4/Manifest.toml`\n",
            "  [8f4d0f93] + Conda v1.4.1\n",
            "  [7073ff75] + IJulia v1.21.2\n",
            "  [682c06a0] + JSON v0.21.0\n",
            "  [739be429] + MbedTLS v1.0.2\n",
            "  [c8ffd9c3] + MbedTLS_jll v2.16.0+2\n",
            "  [69de0a69] + Parsers v1.0.3\n",
            "  [b85f4697] + SoftGlobalScope v1.0.10\n",
            "  [81def892] + VersionParsing v1.2.0\n",
            "  [c2297ded] + ZMQ v1.2.0\n",
            "  [8f1865be] + ZeroMQ_jll v4.3.2+2\n",
            "  [8ba89e20] + Distributed \n",
            "  [7b1f6079] + FileWatching \n",
            "  [a63ad114] + Mmap \n",
            "  [8dfed614] + Test \n",
            "   Building Conda ─→ `~/.julia/packages/Conda/3rPhK/deps/build.log`\n",
            "   Building IJulia → `~/.julia/packages/IJulia/DrVMH/deps/build.log`\n",
            "  Resolving package versions...\n",
            "  Installed SortingAlgorithms ──────────── v0.3.1\n",
            "  Installed Media ──────────────────────── v0.5.0\n",
            "  Installed ZipFile ────────────────────── v0.9.1\n",
            "  Installed IRTools ────────────────────── v0.3.2\n",
            "  Installed Flux ───────────────────────── v0.10.4\n",
            "  Installed ColorTypes ─────────────────── v0.10.3\n",
            "  Installed StatsBase ──────────────────── v0.33.0\n",
            "  Installed Colors ─────────────────────── v0.12.0\n",
            "  Installed OpenSpecFun_jll ────────────── v0.5.3+3\n",
            "  Installed Juno ───────────────────────── v0.8.1\n",
            "  Installed CommonSubexpressions ───────── v0.2.0\n",
            "  Installed DiffResults ────────────────── v1.0.2\n",
            "  Installed Zygote ─────────────────────── v0.4.20\n",
            "  Installed StaticArrays ───────────────── v0.12.3\n",
            "  Installed TranscodingStreams ─────────── v0.9.5\n",
            "  Installed SpecialFunctions ───────────── v0.10.0\n",
            "  Installed CodecZlib ──────────────────── v0.7.0\n",
            "  Installed DiffRules ──────────────────── v1.0.1\n",
            "  Installed FixedPointNumbers ──────────── v0.8.0\n",
            "  Installed CompilerSupportLibraries_jll ─ v0.3.3+0\n",
            "  Installed NaNMath ────────────────────── v0.3.3\n",
            "  Installed AbstractTrees ──────────────── v0.3.3\n",
            "  Installed DataAPI ────────────────────── v1.3.0\n",
            "  Installed ForwardDiff ────────────────── v0.10.10\n",
            "  Installed ZygoteRules ────────────────── v0.2.0\n",
            "  Installed FillArrays ─────────────────── v0.8.9\n",
            "  Installed Missings ───────────────────── v0.4.3\n",
            "  Installed Zlib_jll ───────────────────── v1.2.11+9\n",
            "  Installed ArrayLayouts ───────────────── v0.2.6\n",
            "Downloading artifact: OpenSpecFun\n",
            "######################################################################## 100.0%\n",
            "\u001b[1A\u001b[2K\u001b[?25hDownloading artifact: CompilerSupportLibraries\n",
            "######################################################################## 100.0%\n",
            "\u001b[1A\u001b[2K\u001b[?25hDownloading artifact: Zlib\n",
            "######################################################################## 100.0%\n",
            "\u001b[1A\u001b[2K\u001b[?25h   Updating `~/.julia/environments/v1.4/Project.toml`\n",
            "  [587475ba] + Flux v0.10.4\n",
            "   Updating `~/.julia/environments/v1.4/Manifest.toml`\n",
            "  [1520ce14] + AbstractTrees v0.3.3\n",
            "  [4c555306] + ArrayLayouts v0.2.6\n",
            "  [944b1d66] + CodecZlib v0.7.0\n",
            "  [3da002f7] + ColorTypes v0.10.3\n",
            "  [5ae59095] + Colors v0.12.0\n",
            "  [bbf7d656] + CommonSubexpressions v0.2.0\n",
            "  [e66e0078] + CompilerSupportLibraries_jll v0.3.3+0\n",
            "  [9a962f9c] + DataAPI v1.3.0\n",
            "  [163ba53b] + DiffResults v1.0.2\n",
            "  [b552c78f] + DiffRules v1.0.1\n",
            "  [1a297f60] + FillArrays v0.8.9\n",
            "  [53c48c17] + FixedPointNumbers v0.8.0\n",
            "  [587475ba] + Flux v0.10.4\n",
            "  [f6369f11] + ForwardDiff v0.10.10\n",
            "  [7869d1d1] + IRTools v0.3.2\n",
            "  [e5e0dc1b] + Juno v0.8.1\n",
            "  [e89f7d12] + Media v0.5.0\n",
            "  [e1d29d7a] + Missings v0.4.3\n",
            "  [77ba4419] + NaNMath v0.3.3\n",
            "  [efe28fd5] + OpenSpecFun_jll v0.5.3+3\n",
            "  [a2af1166] + SortingAlgorithms v0.3.1\n",
            "  [276daf66] + SpecialFunctions v0.10.0\n",
            "  [90137ffa] + StaticArrays v0.12.3\n",
            "  [2913bbd2] + StatsBase v0.33.0\n",
            "  [3bb67fe8] + TranscodingStreams v0.9.5\n",
            "  [a5390f91] + ZipFile v0.9.1\n",
            "  [83775a58] + Zlib_jll v1.2.11+9\n",
            "  [e88e6eb3] + Zygote v0.4.20\n",
            "  [700de1a5] + ZygoteRules v0.2.0\n",
            "  [8bb1440f] + DelimitedFiles \n",
            "  [9fa8497b] + Future \n",
            "  [9abbd945] + Profile \n",
            "  Resolving package versions...\n",
            "  Installed URIParser ─────── v0.4.1\n",
            "  Installed Zstd_jll ──────── v1.4.4+1\n",
            "  Installed Lz4_jll ───────── v1.9.2+0\n",
            "  Installed BinDeps ───────── v1.0.1\n",
            "  Installed DataDeps ──────── v0.7.2\n",
            "  Installed Blosc ─────────── v0.7.0\n",
            "  Installed MLDatasets ────── v0.5.2\n",
            "  Installed HDF5 ──────────── v0.13.2\n",
            "  Installed HDF5_jll ──────── v1.10.5+5\n",
            "  Installed Compat ────────── v3.9.1\n",
            "  Installed Blosc_jll ─────── v1.14.3+1\n",
            "  Installed BufferedStreams ─ v1.0.0\n",
            "  Installed IniFile ───────── v0.5.0\n",
            "  Installed GZip ──────────── v0.5.1\n",
            "  Installed HTTP ──────────── v0.8.14\n",
            "  Installed MAT ───────────── v0.8.0\n",
            "Downloading artifact: Zstd\n",
            "######################################################################## 100.0%\n",
            "\u001b[1A\u001b[2K\u001b[?25hDownloading artifact: Lz4\n",
            "######################################################################## 100.0%\n",
            "\u001b[1A\u001b[2K\u001b[?25hDownloading artifact: HDF5\n",
            "######################################################################## 100.0%\n",
            "\u001b[1A\u001b[2K\u001b[?25hDownloading artifact: Blosc\n",
            "######################################################################## 100.0%\n",
            "\u001b[1A\u001b[2K\u001b[?25h   Updating `~/.julia/environments/v1.4/Project.toml`\n",
            "  [eb30cadb] + MLDatasets v0.5.2\n",
            "   Updating `~/.julia/environments/v1.4/Manifest.toml`\n",
            "  [9e28174c] + BinDeps v1.0.1\n",
            "  [a74b3585] + Blosc v0.7.0\n",
            "  [0b7ba130] + Blosc_jll v1.14.3+1\n",
            "  [e1450e63] + BufferedStreams v1.0.0\n",
            "  [34da2185] + Compat v3.9.1\n",
            "  [124859b0] + DataDeps v0.7.2\n",
            "  [92fee26a] + GZip v0.5.1\n",
            "  [f67ccb44] + HDF5 v0.13.2\n",
            "  [0234f1f7] + HDF5_jll v1.10.5+5\n",
            "  [cd3eb016] + HTTP v0.8.14\n",
            "  [83e8ac13] + IniFile v0.5.0\n",
            "  [5ced341a] + Lz4_jll v1.9.2+0\n",
            "  [23992714] + MAT v0.8.0\n",
            "  [eb30cadb] + MLDatasets v0.5.2\n",
            "  [30578b45] + URIParser v0.4.1\n",
            "  [3161d3a3] + Zstd_jll v1.4.4+1\n",
            "  [1a1011a3] + SharedArrays \n",
            "   Building HDF5 → `~/.julia/packages/HDF5/pAi1D/deps/build.log`\n",
            "  Resolving package versions...\n",
            "   Updating `~/.julia/environments/v1.4/Project.toml`\n",
            "  [10745b16] + Statistics \n",
            "   Updating `~/.julia/environments/v1.4/Manifest.toml`\n",
            " [no changes]\n",
            "   Updating registry at `~/.julia/registries/General`\n",
            "   Updating git-repo `https://github.com/JuliaRegistries/General.git`\n",
            "\u001b[?25l\u001b[2K\u001b[?25h   Updating `~/.julia/environments/v1.4/Project.toml`\n",
            " [no changes]\n",
            "   Updating `~/.julia/environments/v1.4/Manifest.toml`\n",
            " [no changes]\n",
            "Precompiling project...\n",
            "Done\n"
          ],
          "name": "stdout"
        },
        {
          "output_type": "execute_result",
          "data": {
            "text/plain": [
              ""
            ]
          },
          "metadata": {
            "tags": []
          },
          "execution_count": 1
        }
      ]
    },
    {
      "cell_type": "markdown",
      "metadata": {
        "id": "5ast56L1f3v_",
        "colab_type": "text"
      },
      "source": [
        "# Julia 深度學習：卷積神經網路模型簡介\n",
        "\n"
      ]
    },
    {
      "cell_type": "code",
      "metadata": {
        "id": "8txxitdHkgRz",
        "colab_type": "code",
        "colab": {
          "base_uri": "https://localhost:8080/",
          "height": 717
        },
        "outputId": "3b8bc1f3-d291-4c2b-8195-a960dee18abf"
      },
      "source": [
        "!julia -e '\\\n",
        "using Flux                                                                                        ;\\\n",
        "using Flux.Data: DataLoader                                                                       ;\\\n",
        "using Flux: @epochs, onecold, onehotbatch, throttle, logitcrossentropy                            ;\\\n",
        "using MLDatasets                                                                                  ;\\\n",
        "using Statistics                                                                                  ;\\\n",
        "train_X, train_y = SVHN2.traindata(Float32, 1:20000)                                              ;\\\n",
        "test_X,  test_y  = SVHN2.testdata(Float32, 1:2000)                                                ;\\\n",
        "train_y = onehotbatch(train_y, 1:10)                                                              ;\\\n",
        "test_y = onehotbatch(test_y, 1:10)                                                                ;\\\n",
        "batchsize = 1024                                                                                  ;\\\n",
        "train = DataLoader(train_X, train_y, batchsize=batchsize, shuffle=true)                           ;\\\n",
        "test = DataLoader(test_X, test_y, batchsize=batchsize)                                            ;\\\n",
        "model = Chain(Conv((3, 3), 3=>32, relu), MaxPool((2, 2), pad = (0, 0, 0, 0), stride = (2, 2)), Conv((3, 3), 32=>32, relu), MaxPool((2, 2), pad = (0, 0, 0, 0), stride = (2, 2)), Conv((3, 3), 32=>64, relu), MaxPool((2, 2), pad = (0, 0, 0, 0), stride = (2, 2)), flatten, Dense(1024, 256, relu), Dense(256, 10), softmax)   ;\\\n",
        "loss(x, y) = logitcrossentropy(model(x), y)                                                       ;\\\n",
        "function test_loss()                                                                              ;\\\n",
        "    l = 0f0                                                                                       ;\\\n",
        "    for (x, y) in test                                                                            ;\\\n",
        "        l += loss(x, y)                                                                           ;\\\n",
        "    end                                                                                           ;\\\n",
        "    l/length(test)                                                                                ;\\\n",
        "end                                                                                               ;\\\n",
        "evalcb() = @show(test_loss())                                                                     ;\\\n",
        "epochs = 10                                                                                       ;\\\n",
        "@epochs epochs Flux.train!(loss, params(model), train, ADAM(0.005), cb=throttle(evalcb, 10))      ;\\'\n",
        "\n"
      ],
      "execution_count": 13,
      "outputs": [
        {
          "output_type": "stream",
          "text": [
            "[ Info: Epoch 1\n",
            "ERROR: DimensionMismatch(\"A has dimensions (256,1024) but B has dimensions (256,1024)\")\n",
            "Stacktrace:\n",
            " [1] gemm_wrapper!(::Array{Float32,2}, ::Char, ::Char, ::Array{Float32,2}, ::Array{Float32,2}, ::LinearAlgebra.MulAddMul{true,true,Bool,Bool}) at /buildworker/worker/package_linux64/build/usr/share/julia/stdlib/v1.4/LinearAlgebra/src/matmul.jl:569\n",
            " [2] mul! at /buildworker/worker/package_linux64/build/usr/share/julia/stdlib/v1.4/LinearAlgebra/src/matmul.jl:169 [inlined]\n",
            " [3] mul! at /buildworker/worker/package_linux64/build/usr/share/julia/stdlib/v1.4/LinearAlgebra/src/matmul.jl:208 [inlined]\n",
            " [4] * at /buildworker/worker/package_linux64/build/usr/share/julia/stdlib/v1.4/LinearAlgebra/src/matmul.jl:160 [inlined]\n",
            " [5] adjoint at /root/.julia/packages/Zygote/YeCEW/src/lib/array.jl:297 [inlined]\n",
            " [6] _pullback at /root/.julia/packages/ZygoteRules/6nssF/src/adjoint.jl:47 [inlined]\n",
            " [7] Dense at /root/.julia/packages/Flux/Fj3bt/src/layers/basic.jl:122 [inlined]\n",
            " [8] Dense at /root/.julia/packages/Flux/Fj3bt/src/layers/basic.jl:133 [inlined]\n",
            " [9] applychain at /root/.julia/packages/Flux/Fj3bt/src/layers/basic.jl:36 [inlined] (repeats 2 times)\n",
            " [10] _pullback(::Zygote.Context, ::typeof(Flux.applychain), ::Tuple{typeof(flatten),Dense{typeof(relu),Array{Float32,2},Array{Float32,1}},Dense{typeof(identity),Array{Float32,2},Array{Float32,1}},typeof(softmax)}, ::Array{Float32,4}) at /root/.julia/packages/Zygote/YeCEW/src/compiler/interface2.jl:0\n",
            " [11] applychain at /root/.julia/packages/Flux/Fj3bt/src/layers/basic.jl:36 [inlined]\n",
            " [12] _pullback(::Zygote.Context, ::typeof(Flux.applychain), ::Tuple{MaxPool{2,4},typeof(flatten),Dense{typeof(relu),Array{Float32,2},Array{Float32,1}},Dense{typeof(identity),Array{Float32,2},Array{Float32,1}},typeof(softmax)}, ::Array{Float32,4}) at /root/.julia/packages/Zygote/YeCEW/src/compiler/interface2.jl:0\n",
            " [13] applychain at /root/.julia/packages/Flux/Fj3bt/src/layers/basic.jl:36 [inlined]\n",
            " [14] _pullback(::Zygote.Context, ::typeof(Flux.applychain), ::Tuple{Conv{2,4,typeof(relu),Array{Float32,4},Array{Float32,1}},MaxPool{2,4},typeof(flatten),Dense{typeof(relu),Array{Float32,2},Array{Float32,1}},Dense{typeof(identity),Array{Float32,2},Array{Float32,1}},typeof(softmax)}, ::Array{Float32,4}) at /root/.julia/packages/Zygote/YeCEW/src/compiler/interface2.jl:0\n",
            " [15] applychain at /root/.julia/packages/Flux/Fj3bt/src/layers/basic.jl:36 [inlined]\n",
            " [16] _pullback(::Zygote.Context, ::typeof(Flux.applychain), ::Tuple{MaxPool{2,4},Conv{2,4,typeof(relu),Array{Float32,4},Array{Float32,1}},MaxPool{2,4},typeof(flatten),Dense{typeof(relu),Array{Float32,2},Array{Float32,1}},Dense{typeof(identity),Array{Float32,2},Array{Float32,1}},typeof(softmax)}, ::Array{Float32,4}) at /root/.julia/packages/Zygote/YeCEW/src/compiler/interface2.jl:0\n",
            " [17] applychain at /root/.julia/packages/Flux/Fj3bt/src/layers/basic.jl:36 [inlined]\n",
            " [18] _pullback(::Zygote.Context, ::typeof(Flux.applychain), ::Tuple{Conv{2,4,typeof(relu),Array{Float32,4},Array{Float32,1}},MaxPool{2,4},Conv{2,4,typeof(relu),Array{Float32,4},Array{Float32,1}},MaxPool{2,4},typeof(flatten),Dense{typeof(relu),Array{Float32,2},Array{Float32,1}},Dense{typeof(identity),Array{Float32,2},Array{Float32,1}},typeof(softmax)}, ::Array{Float32,4}) at /root/.julia/packages/Zygote/YeCEW/src/compiler/interface2.jl:0\n",
            " [19] applychain at /root/.julia/packages/Flux/Fj3bt/src/layers/basic.jl:36 [inlined]\n",
            " [20] _pullback(::Zygote.Context, ::typeof(Flux.applychain), ::Tuple{MaxPool{2,4},Conv{2,4,typeof(relu),Array{Float32,4},Array{Float32,1}},MaxPool{2,4},Conv{2,4,typeof(relu),Array{Float32,4},Array{Float32,1}},MaxPool{2,4},typeof(flatten),Dense{typeof(relu),Array{Float32,2},Array{Float32,1}},Dense{typeof(identity),Array{Float32,2},Array{Float32,1}},typeof(softmax)}, ::Array{Float32,4}) at /root/.julia/packages/Zygote/YeCEW/src/compiler/interface2.jl:0\n",
            " [21] applychain at /root/.julia/packages/Flux/Fj3bt/src/layers/basic.jl:36 [inlined]\n",
            " [22] _pullback(::Zygote.Context, ::typeof(Flux.applychain), ::Tuple{Conv{2,4,typeof(relu),Array{Float32,4},Array{Float32,1}},MaxPool{2,4},Conv{2,4,typeof(relu),Array{Float32,4},Array{Float32,1}},MaxPool{2,4},Conv{2,4,typeof(relu),Array{Float32,4},Array{Float32,1}},MaxPool{2,4},typeof(flatten),Dense{typeof(relu),Array{Float32,2},Array{Float32,1}},Dense{typeof(identity),Array{Float32,2},Array{Float32,1}},typeof(softmax)}, ::Array{Float32,4}) at /root/.julia/packages/Zygote/YeCEW/src/compiler/interface2.jl:0\n",
            " [23] Chain at /root/.julia/packages/Flux/Fj3bt/src/layers/basic.jl:38 [inlined]\n",
            " [24] _pullback(::Zygote.Context, ::Chain{Tuple{Conv{2,4,typeof(relu),Array{Float32,4},Array{Float32,1}},MaxPool{2,4},Conv{2,4,typeof(relu),Array{Float32,4},Array{Float32,1}},MaxPool{2,4},Conv{2,4,typeof(relu),Array{Float32,4},Array{Float32,1}},MaxPool{2,4},typeof(flatten),Dense{typeof(relu),Array{Float32,2},Array{Float32,1}},Dense{typeof(identity),Array{Float32,2},Array{Float32,1}},typeof(softmax)}}, ::Array{Float32,4}) at /root/.julia/packages/Zygote/YeCEW/src/compiler/interface2.jl:0\n",
            " [25] loss at ./none:1 [inlined]\n",
            " [26] _pullback(::Zygote.Context, ::typeof(loss), ::Array{Float32,4}, ::Flux.OneHotMatrix{Array{Flux.OneHotVector,1}}) at /root/.julia/packages/Zygote/YeCEW/src/compiler/interface2.jl:0\n",
            " [27] adjoint at /root/.julia/packages/Zygote/YeCEW/src/lib/lib.jl:179 [inlined]\n",
            " [28] _pullback at /root/.julia/packages/ZygoteRules/6nssF/src/adjoint.jl:47 [inlined]\n",
            " [29] #17 at /root/.julia/packages/Flux/Fj3bt/src/optimise/train.jl:89 [inlined]\n",
            " [30] _pullback(::Zygote.Context, ::Flux.Optimise.var\"#17#25\"{typeof(loss),Tuple{Array{Float32,4},Flux.OneHotMatrix{Array{Flux.OneHotVector,1}}}}) at /root/.julia/packages/Zygote/YeCEW/src/compiler/interface2.jl:0\n",
            " [31] pullback(::Function, ::Zygote.Params) at /root/.julia/packages/Zygote/YeCEW/src/compiler/interface.jl:174\n",
            " [32] gradient(::Function, ::Zygote.Params) at /root/.julia/packages/Zygote/YeCEW/src/compiler/interface.jl:54\n",
            " [33] macro expansion at /root/.julia/packages/Flux/Fj3bt/src/optimise/train.jl:88 [inlined]\n",
            " [34] macro expansion at /root/.julia/packages/Juno/f8hj2/src/progress.jl:134 [inlined]\n",
            " [35] train!(::typeof(loss), ::Zygote.Params, ::DataLoader, ::ADAM; cb::Flux.var\"#throttled#20\"{Flux.var\"#throttled#16#21\"{Bool,Bool,typeof(evalcb),Int64}}) at /root/.julia/packages/Flux/Fj3bt/src/optimise/train.jl:81\n",
            " [36] top-level scope at /root/.julia/packages/Flux/Fj3bt/src/optimise/train.jl:122\n",
            " [37] top-level scope at /root/.julia/packages/Juno/f8hj2/src/progress.jl:134\n"
          ],
          "name": "stdout"
        }
      ]
    },
    {
      "cell_type": "markdown",
      "metadata": {
        "id": "4Nw7-DOtkfMM",
        "colab_type": "text"
      },
      "source": [
        "# 作業 033：訓練 CNN 學習門牌號碼資料集\n",
        "\n",
        "訓練一個 CNN 模型來學習門牌號碼資料集。"
      ]
    },
    {
      "cell_type": "code",
      "metadata": {
        "id": "wzvxQjiCf3wA",
        "colab_type": "code",
        "colab": {}
      },
      "source": [
        "using Flux\n",
        "using Flux.Data: DataLoader\n",
        "using Flux: @epochs, onecold, onehotbatch, throttle, logitcrossentropy\n",
        "using MLDatasets\n",
        "using Statistics"
      ],
      "execution_count": 0,
      "outputs": []
    },
    {
      "cell_type": "markdown",
      "metadata": {
        "id": "hFq9KlYPf3wD",
        "colab_type": "text"
      },
      "source": [
        "## 讀取資料"
      ]
    },
    {
      "cell_type": "code",
      "metadata": {
        "id": "bglJK0csf3wE",
        "colab_type": "code",
        "colab": {},
        "outputId": "e20536ed-fda6-44f9-86b1-1c0c37bee4a7"
      },
      "source": [
        "train_X, train_y = SVHN2.traindata(Float32, 1:20000)\n",
        "test_X,  test_y  = SVHN2.testdata(Float32, 1:2000)"
      ],
      "execution_count": 0,
      "outputs": [
        {
          "output_type": "execute_result",
          "data": {
            "text/plain": [
              "(Float32[0.14901961 0.15294118 … 0.19607843 0.1882353; 0.15294118 0.15294118 … 0.2 0.1882353; … ; 0.16470589 0.16862746 … 0.1764706 0.17254902; 0.15294118 0.15294118 … 0.16470589 0.16470589]\n",
              "\n",
              "Float32[0.40392157 0.40784314 … 0.45882353 0.4509804; 0.40784314 0.40784314 … 0.4627451 0.4509804; … ; 0.40392157 0.39607844 … 0.45490196 0.4509804; 0.38039216 0.38039216 … 0.44313726 0.44313726]\n",
              "\n",
              "Float32[0.23529412 0.23921569 … 0.29803923 0.2901961; 0.23921569 0.23921569 … 0.3019608 0.2901961; … ; 0.24313726 0.24705882 … 0.28235295 0.2784314; 0.22352941 0.22352941 … 0.27058825 0.2784314]\n",
              "\n",
              "Float32[0.5058824 0.5254902 … 0.5411765 0.5137255; 0.49803922 0.52156866 … 0.50980395 0.47843137; … ; 0.48235294 0.49411765 … 0.39607844 0.43529412; 0.48235294 0.49019608 … 0.4392157 0.48235294]\n",
              "\n",
              "Float32[0.5568628 0.5882353 … 0.59607846 0.5686275; 0.56078434 0.58431375 … 0.5647059 0.53333336; … ; 0.5254902 0.5372549 … 0.41960785 0.4627451; 0.5294118 0.5372549 … 0.4627451 0.50980395]\n",
              "\n",
              "Float32[0.6 0.627451 … 0.64705884 0.61960787; 0.59607846 0.61960787 … 0.6156863 0.58431375; … ; 0.6117647 0.6156863 … 0.5254902 0.5647059; 0.6156863 0.61960787 … 0.5647059 0.6117647]\n",
              "\n",
              "Float32[0.5882353 0.5882353 … 0.5764706 0.62352943; 0.5882353 0.5921569 … 0.5764706 0.62352943; … ; 0.5882353 0.6 … 0.54509807 0.59607846; 0.5764706 0.5882353 … 0.5411765 0.59607846]\n",
              "\n",
              "Float32[0.627451 0.627451 … 0.64705884 0.69411767; 0.6392157 0.6392157 … 0.6431373 0.69411767; … ; 0.67058825 0.67058825 … 0.60784316 0.65882355; 0.6627451 0.6627451 … 0.60784316 0.65882355]\n",
              "\n",
              "Float32[0.6627451 0.6627451 … 0.7019608 0.7411765; 0.6666667 0.6627451 … 0.7019608 0.74509805; … ; 0.70980394 0.7058824 … 0.6666667 0.7137255; 0.7058824 0.7019608 … 0.67058825 0.7176471]\n",
              "\n",
              "...\n",
              "\n",
              "Float32[0.050980393 0.050980393 … 0.043137256 0.047058824; 0.047058824 0.047058824 … 0.047058824 0.050980393; … ; 0.10980392 0.11764706 … 0.13725491 0.13725491; 0.105882354 0.11372549 … 0.14509805 0.15294118]\n",
              "\n",
              "Float32[0.05882353 0.05490196 … 0.047058824 0.050980393; 0.050980393 0.050980393 … 0.050980393 0.05490196; … ; 0.1254902 0.13725491 … 0.14117648 0.14117648; 0.12941177 0.13725491 … 0.14901961 0.15294118]\n",
              "\n",
              "Float32[0.05490196 0.05882353 … 0.05490196 0.05882353; 0.05882353 0.05882353 … 0.05882353 0.0627451; … ; 0.12941177 0.13333334 … 0.16470589 0.16862746; 0.12156863 0.12941177 … 0.1764706 0.18431373]\n",
              "\n",
              "Float32[0.23529412 0.23529412 … 0.2627451 0.25882354; 0.23921569 0.23921569 … 0.2627451 0.25490198; … ; 0.4745098 0.49411765 … 0.43529412 0.41960785; 0.4745098 0.49803922 … 0.4392157 0.41568628]\n",
              "\n",
              "Float32[0.21960784 0.22352941 … 0.21960784 0.20784314; 0.22745098 0.23529412 … 0.22352941 0.20784314; … ; 0.5019608 0.52156866 … 0.4392157 0.40784314; 0.5019608 0.5254902 … 0.44313726 0.40392157]\n",
              "\n",
              "Float32[0.2784314 0.29411766 … 0.26666668 0.24705882; 0.2901961 0.30588236 … 0.27058825 0.24705882; … ; 0.5411765 0.56078434 … 0.4862745 0.45882353; 0.5411765 0.5647059 … 0.49019608 0.45490196]\n",
              "\n",
              "Float32[0.40392157 0.43529412 … 0.47058824 0.43529412; 0.40392157 0.43137255 … 0.46666667 0.43529412; … ; 0.41568628 0.4509804 … 0.37254903 0.32156864; 0.4 0.44313726 … 0.36862746 0.32156864]\n",
              "\n",
              "Float32[0.45490196 0.49411765 … 0.4509804 0.40784314; 0.45882353 0.49411765 … 0.4509804 0.4117647; … ; 0.41960785 0.4627451 … 0.35686275 0.3019608; 0.40392157 0.44705883 … 0.3529412 0.29803923]\n",
              "\n",
              "Float32[0.5058824 0.54509807 … 0.52156866 0.47843137; 0.50980395 0.54509807 … 0.5176471 0.47843137; … ; 0.4 0.4392157 … 0.3529412 0.29411766; 0.38039216 0.41960785 … 0.3372549 0.2901961], [5, 2, 1, 10, 6, 1, 9, 1, 1, 8  …  4, 6, 5, 7, 1, 8, 4, 8, 1, 6])"
            ]
          },
          "metadata": {
            "tags": []
          },
          "execution_count": 2
        }
      ]
    },
    {
      "cell_type": "code",
      "metadata": {
        "id": "i4x0BX30f3wJ",
        "colab_type": "code",
        "colab": {},
        "outputId": "eb837a9a-2969-4c88-eeeb-c920ef57994c"
      },
      "source": [
        "train_y = onehotbatch(train_y, 1:10)\n",
        "test_y = onehotbatch(test_y, 1:10)"
      ],
      "execution_count": 0,
      "outputs": [
        {
          "output_type": "execute_result",
          "data": {
            "text/plain": [
              "10×2000 Flux.OneHotMatrix{Array{Flux.OneHotVector,1}}:\n",
              " 0  0  1  0  0  1  0  1  1  0  0  0  0  …  0  0  0  0  0  0  1  0  0  0  1  0\n",
              " 0  1  0  0  0  0  0  0  0  0  0  0  0     0  0  0  0  0  0  0  0  0  0  0  0\n",
              " 0  0  0  0  0  0  0  0  0  0  1  0  0     0  0  0  0  0  0  0  0  0  0  0  0\n",
              " 0  0  0  0  0  0  0  0  0  0  0  0  0     0  0  1  0  0  0  0  0  1  0  0  0\n",
              " 1  0  0  0  0  0  0  0  0  0  0  0  1     0  0  0  0  1  0  0  0  0  0  0  0\n",
              " 0  0  0  0  1  0  0  0  0  0  0  1  0  …  0  0  0  1  0  0  0  0  0  0  0  1\n",
              " 0  0  0  0  0  0  0  0  0  0  0  0  0     1  0  0  0  0  1  0  0  0  0  0  0\n",
              " 0  0  0  0  0  0  0  0  0  1  0  0  0     0  1  0  0  0  0  0  1  0  1  0  0\n",
              " 0  0  0  0  0  0  1  0  0  0  0  0  0     0  0  0  0  0  0  0  0  0  0  0  0\n",
              " 0  0  0  1  0  0  0  0  0  0  0  0  0     0  0  0  0  0  0  0  0  0  0  0  0"
            ]
          },
          "metadata": {
            "tags": []
          },
          "execution_count": 3
        }
      ]
    },
    {
      "cell_type": "code",
      "metadata": {
        "id": "1ahKCutbf3wN",
        "colab_type": "code",
        "colab": {},
        "outputId": "f02b45c9-3e94-462e-9877-a948beead293"
      },
      "source": [
        "batchsize = 1024\n",
        "train = DataLoader(train_X, train_y, batchsize=batchsize, shuffle=true)\n",
        "test = DataLoader(test_X, test_y, batchsize=batchsize)"
      ],
      "execution_count": 0,
      "outputs": [
        {
          "output_type": "execute_result",
          "data": {
            "text/plain": [
              "DataLoader((Float32[0.14901961 0.15294118 … 0.19607843 0.1882353; 0.15294118 0.15294118 … 0.2 0.1882353; … ; 0.16470589 0.16862746 … 0.1764706 0.17254902; 0.15294118 0.15294118 … 0.16470589 0.16470589]\n",
              "\n",
              "Float32[0.40392157 0.40784314 … 0.45882353 0.4509804; 0.40784314 0.40784314 … 0.4627451 0.4509804; … ; 0.40392157 0.39607844 … 0.45490196 0.4509804; 0.38039216 0.38039216 … 0.44313726 0.44313726]\n",
              "\n",
              "Float32[0.23529412 0.23921569 … 0.29803923 0.2901961; 0.23921569 0.23921569 … 0.3019608 0.2901961; … ; 0.24313726 0.24705882 … 0.28235295 0.2784314; 0.22352941 0.22352941 … 0.27058825 0.2784314]\n",
              "\n",
              "Float32[0.5058824 0.5254902 … 0.5411765 0.5137255; 0.49803922 0.52156866 … 0.50980395 0.47843137; … ; 0.48235294 0.49411765 … 0.39607844 0.43529412; 0.48235294 0.49019608 … 0.4392157 0.48235294]\n",
              "\n",
              "Float32[0.5568628 0.5882353 … 0.59607846 0.5686275; 0.56078434 0.58431375 … 0.5647059 0.53333336; … ; 0.5254902 0.5372549 … 0.41960785 0.4627451; 0.5294118 0.5372549 … 0.4627451 0.50980395]\n",
              "\n",
              "Float32[0.6 0.627451 … 0.64705884 0.61960787; 0.59607846 0.61960787 … 0.6156863 0.58431375; … ; 0.6117647 0.6156863 … 0.5254902 0.5647059; 0.6156863 0.61960787 … 0.5647059 0.6117647]\n",
              "\n",
              "Float32[0.5882353 0.5882353 … 0.5764706 0.62352943; 0.5882353 0.5921569 … 0.5764706 0.62352943; … ; 0.5882353 0.6 … 0.54509807 0.59607846; 0.5764706 0.5882353 … 0.5411765 0.59607846]\n",
              "\n",
              "Float32[0.627451 0.627451 … 0.64705884 0.69411767; 0.6392157 0.6392157 … 0.6431373 0.69411767; … ; 0.67058825 0.67058825 … 0.60784316 0.65882355; 0.6627451 0.6627451 … 0.60784316 0.65882355]\n",
              "\n",
              "Float32[0.6627451 0.6627451 … 0.7019608 0.7411765; 0.6666667 0.6627451 … 0.7019608 0.74509805; … ; 0.70980394 0.7058824 … 0.6666667 0.7137255; 0.7058824 0.7019608 … 0.67058825 0.7176471]\n",
              "\n",
              "...\n",
              "\n",
              "Float32[0.050980393 0.050980393 … 0.043137256 0.047058824; 0.047058824 0.047058824 … 0.047058824 0.050980393; … ; 0.10980392 0.11764706 … 0.13725491 0.13725491; 0.105882354 0.11372549 … 0.14509805 0.15294118]\n",
              "\n",
              "Float32[0.05882353 0.05490196 … 0.047058824 0.050980393; 0.050980393 0.050980393 … 0.050980393 0.05490196; … ; 0.1254902 0.13725491 … 0.14117648 0.14117648; 0.12941177 0.13725491 … 0.14901961 0.15294118]\n",
              "\n",
              "Float32[0.05490196 0.05882353 … 0.05490196 0.05882353; 0.05882353 0.05882353 … 0.05882353 0.0627451; … ; 0.12941177 0.13333334 … 0.16470589 0.16862746; 0.12156863 0.12941177 … 0.1764706 0.18431373]\n",
              "\n",
              "Float32[0.23529412 0.23529412 … 0.2627451 0.25882354; 0.23921569 0.23921569 … 0.2627451 0.25490198; … ; 0.4745098 0.49411765 … 0.43529412 0.41960785; 0.4745098 0.49803922 … 0.4392157 0.41568628]\n",
              "\n",
              "Float32[0.21960784 0.22352941 … 0.21960784 0.20784314; 0.22745098 0.23529412 … 0.22352941 0.20784314; … ; 0.5019608 0.52156866 … 0.4392157 0.40784314; 0.5019608 0.5254902 … 0.44313726 0.40392157]\n",
              "\n",
              "Float32[0.2784314 0.29411766 … 0.26666668 0.24705882; 0.2901961 0.30588236 … 0.27058825 0.24705882; … ; 0.5411765 0.56078434 … 0.4862745 0.45882353; 0.5411765 0.5647059 … 0.49019608 0.45490196]\n",
              "\n",
              "Float32[0.40392157 0.43529412 … 0.47058824 0.43529412; 0.40392157 0.43137255 … 0.46666667 0.43529412; … ; 0.41568628 0.4509804 … 0.37254903 0.32156864; 0.4 0.44313726 … 0.36862746 0.32156864]\n",
              "\n",
              "Float32[0.45490196 0.49411765 … 0.4509804 0.40784314; 0.45882353 0.49411765 … 0.4509804 0.4117647; … ; 0.41960785 0.4627451 … 0.35686275 0.3019608; 0.40392157 0.44705883 … 0.3529412 0.29803923]\n",
              "\n",
              "Float32[0.5058824 0.54509807 … 0.52156866 0.47843137; 0.50980395 0.54509807 … 0.5176471 0.47843137; … ; 0.4 0.4392157 … 0.3529412 0.29411766; 0.38039216 0.41960785 … 0.3372549 0.2901961], Bool[0 0 … 1 0; 0 1 … 0 0; … ; 0 0 … 0 0; 0 0 … 0 0]), 1024, 2000, true, 2000, [1, 2, 3, 4, 5, 6, 7, 8, 9, 10  …  1991, 1992, 1993, 1994, 1995, 1996, 1997, 1998, 1999, 2000], false)"
            ]
          },
          "metadata": {
            "tags": []
          },
          "execution_count": 4
        }
      ]
    },
    {
      "cell_type": "markdown",
      "metadata": {
        "id": "BafbuG-Cf3wQ",
        "colab_type": "text"
      },
      "source": [
        "## CNN 模型"
      ]
    },
    {
      "cell_type": "code",
      "metadata": {
        "id": "2IWo-8HDf3wQ",
        "colab_type": "code",
        "colab": {},
        "outputId": "673b5d1d-6a62-45c3-f4fb-b923f853e88d"
      },
      "source": [
        "model = # write your model here"
      ],
      "execution_count": 0,
      "outputs": [
        {
          "output_type": "execute_result",
          "data": {
            "text/plain": [
              "Chain(Conv((3, 3), 3=>32, relu), MaxPool((2, 2), pad = (0, 0, 0, 0), stride = (2, 2)), Conv((3, 3), 32=>32, relu), MaxPool((2, 2), pad = (0, 0, 0, 0), stride = (2, 2)), Conv((3, 3), 32=>64, relu), MaxPool((2, 2), pad = (0, 0, 0, 0), stride = (2, 2)), flatten, Dense(1024, 256, relu), Dense(256, 10), softmax)"
            ]
          },
          "metadata": {
            "tags": []
          },
          "execution_count": 5
        }
      ]
    },
    {
      "cell_type": "code",
      "metadata": {
        "id": "iOkqX6Zvf3wU",
        "colab_type": "code",
        "colab": {}
      },
      "source": [
        ""
      ],
      "execution_count": 0,
      "outputs": []
    }
  ]
}