{
  "nbformat": 4,
  "nbformat_minor": 0,
  "metadata": {
    "kernelspec": {
      "display_name": "Julia 1.4.1",
      "language": "julia",
      "name": "julia-1.4"
    },
    "language_info": {
      "file_extension": ".jl",
      "mimetype": "application/julia",
      "name": "julia",
      "version": "1.4.1"
    },
    "colab": {
      "name": "julia_033_hw.ipynb",
      "provenance": [],
      "collapsed_sections": [
        "pJjsuQpBGcOM"
      ]
    },
    "accelerator": "GPU"
  },
  "cells": [
    {
      "cell_type": "code",
      "metadata": {
        "id": "vu3DcvZxgGh8",
        "colab_type": "code",
        "outputId": "9ef8986f-f80c-4033-d806-6890360784e4",
        "colab": {
          "base_uri": "https://localhost:8080/",
          "height": 51
        }
      },
      "source": [
        "%%shell\n",
        "if ! command -v julia 3>&1 > /dev/null\n",
        "then\n",
        "    wget 'https://julialang-s3.julialang.org/bin/linux/x64/1.4/julia-1.4.1-linux-x86_64.tar.gz' -O julia.tar.gz\n",
        "    tar -x -f julia.tar.gz -C /usr/local --strip-components 1\n",
        "    rm julia.tar.gz\n",
        "fi\n",
        "    julia -e '\\\n",
        "        using Pkg                                                          ;\\\n",
        "        Pkg.update()                                                       ;\\\n",
        "        Pkg.add(\"CuArrays\")                                                ;\\\n",
        "        Pkg.add(\"IJulia\")                                                  ;\\\n",
        "        Pkg.add(\"Flux\")                                                    ;\\\n",
        "        Pkg.add(\"MLDatasets\")                                              ;\\\n",
        "        Pkg.add(\"Statistics\")                                              ;\\\n",
        "        Pkg.update()                                                       ;\\\n",
        "        Pkg.precompile()                                                   ;\\'\n",
        "echo 'Done'"
      ],
      "execution_count": 0,
      "outputs": [
        {
          "output_type": "display_data",
          "data": {
            "text/latex": "Unrecognized magic \\texttt{\\%\\%shell}.\n\nJulia does not use the IPython \\texttt{\\%magic} syntax.   To interact with the IJulia kernel, use \\texttt{IJulia.somefunction(...)}, for example.  Julia macros, string macros, and functions can be used to accomplish most of the other functionalities of IPython magics.\n\n",
            "text/markdown": "Unrecognized magic `%%shell`.\n\nJulia does not use the IPython `%magic` syntax.   To interact with the IJulia kernel, use `IJulia.somefunction(...)`, for example.  Julia macros, string macros, and functions can be used to accomplish most of the other functionalities of IPython magics.\n",
            "text/plain": [
              "  Unrecognized magic \u001b[36m%%shell\u001b[39m.\n",
              "\n",
              "  Julia does not use the IPython \u001b[36m%magic\u001b[39m syntax. To interact with the IJulia\n",
              "  kernel, use \u001b[36mIJulia.somefunction(...)\u001b[39m, for example. Julia macros, string\n",
              "  macros, and functions can be used to accomplish most of the other\n",
              "  functionalities of IPython magics."
            ]
          },
          "metadata": {
            "tags": []
          }
        }
      ]
    },
    {
      "cell_type": "markdown",
      "metadata": {
        "id": "5ast56L1f3v_",
        "colab_type": "text"
      },
      "source": [
        "# Julia 深度學習：卷積神經網路模型簡介\n",
        "\n"
      ]
    },
    {
      "cell_type": "code",
      "metadata": {
        "id": "HxJ6SMScFz__",
        "colab_type": "code",
        "outputId": "fc53fda1-e168-4ca0-f641-5f199d95ba02",
        "colab": {
          "base_uri": "https://localhost:8080/",
          "height": 1000
        }
      },
      "source": [
        "using Flux                                                                                       \n",
        "using Flux.Data: DataLoader                                                                       \n",
        "using Flux: @epochs, onecold, onehotbatch, throttle, logitcrossentropy                            \n",
        "using MLDatasets                                                                                  \n",
        "using Statistics        \n",
        "\n",
        "train_X, train_y = SVHN2.traindata(Float32, 1:20000)                                              \n",
        "test_X,  test_y  = SVHN2.testdata(Float32, 1:2000)                                                \n",
        "train_y = onehotbatch(train_y, 1:10)                                                              \n",
        "test_y = onehotbatch(test_y, 1:10)                                                               \n",
        "batchsize = 1024                                                                                 \n",
        "train = DataLoader(train_X, train_y, batchsize=batchsize, shuffle=true)                          \n",
        "test = DataLoader(test_X, test_y, batchsize=batchsize)           \n",
        "\n",
        "\n",
        "model = Chain( Conv((3, 3), 3=>32, relu; pad=1), MaxPool((2,2)),\n",
        "               Conv((3, 3), 32=>32, relu; pad=1), MaxPool((2,2)),\n",
        "               Conv((3, 3), 32=>64, relu; pad=1), MaxPool((2,2)),\n",
        "               flatten, Dense(1024, 512, relu), Dense(512, 128), Dense(128, 10),\n",
        "               softmax)\n",
        "               \n",
        "loss(x, y) = logitcrossentropy(model(x), y)                                                      \n",
        "function test_loss()                                                                             \n",
        "    l = 0f0                                                                                       \n",
        "    for (x, y) in test                                                                           \n",
        "        l += loss(x, y)                                                                          \n",
        "    end                                                                                           \n",
        "    l/length(test)                                                                               \n",
        "end   \n",
        "\n",
        "evalcb() = @show(test_loss())                                                                    \n",
        "epochs = 10                                                                                      \n",
        "@epochs epochs Flux.train!(loss, params(model), train, ADAM(0.001), cb=throttle(evalcb, 10))      \n",
        "accuracy(x, y) = mean(onecold(model(x)) .== onecold(y))                                          \n",
        "println( )                                                                                        \n",
        "println( \"accuracy :\" , accuracy(test_X, test_y) )  "
      ],
      "execution_count": 21,
      "outputs": [
        {
          "output_type": "stream",
          "text": [
            "┌ Info: Epoch 1\n",
            "└ @ Main /root/.julia/packages/Flux/Fj3bt/src/optimise/train.jl:121\n"
          ],
          "name": "stderr"
        },
        {
          "output_type": "stream",
          "text": [
            "test_loss() = 2.282226f0\n",
            "test_loss() = 2.2573042f0\n",
            "test_loss() = 2.2578504f0\n",
            "test_loss() = 2.2536335f0\n",
            "test_loss() = 2.2499337f0\n",
            "test_loss() = 2.2461042f0\n"
          ],
          "name": "stdout"
        },
        {
          "output_type": "stream",
          "text": [
            "┌ Info: Epoch 2\n",
            "└ @ Main /root/.julia/packages/Flux/Fj3bt/src/optimise/train.jl:121\n"
          ],
          "name": "stderr"
        },
        {
          "output_type": "stream",
          "text": [
            "test_loss() = 2.2768579f0\n",
            "test_loss() = 2.2497494f0\n",
            "test_loss() = 2.2389488f0\n",
            "test_loss() = 2.21972f0\n",
            "test_loss() = 2.2060127f0\n"
          ],
          "name": "stdout"
        },
        {
          "output_type": "stream",
          "text": [
            "┌ Info: Epoch 3\n",
            "└ @ Main /root/.julia/packages/Flux/Fj3bt/src/optimise/train.jl:121\n"
          ],
          "name": "stderr"
        },
        {
          "output_type": "stream",
          "text": [
            "test_loss() = 2.2584267f0\n",
            "test_loss() = 2.2047896f0\n",
            "test_loss() = 2.1982489f0\n",
            "test_loss() = 2.1849785f0\n",
            "test_loss() = 2.1780767f0\n",
            "test_loss() = 2.1704755f0\n"
          ],
          "name": "stdout"
        },
        {
          "output_type": "stream",
          "text": [
            "┌ Info: Epoch 4\n",
            "└ @ Main /root/.julia/packages/Flux/Fj3bt/src/optimise/train.jl:121\n"
          ],
          "name": "stderr"
        },
        {
          "output_type": "stream",
          "text": [
            "test_loss() = 2.183907f0\n",
            "test_loss() = 2.1528015f0\n",
            "test_loss() = 2.1430564f0\n",
            "test_loss() = 2.1257904f0\n",
            "test_loss() = 2.1125824f0\n"
          ],
          "name": "stdout"
        },
        {
          "output_type": "stream",
          "text": [
            "┌ Info: Epoch 5\n",
            "└ @ Main /root/.julia/packages/Flux/Fj3bt/src/optimise/train.jl:121\n"
          ],
          "name": "stderr"
        },
        {
          "output_type": "stream",
          "text": [
            "test_loss() = 2.3090925f0\n",
            "test_loss() = 2.220908f0\n",
            "test_loss() = 2.128139f0\n",
            "test_loss() = 2.1181712f0\n",
            "test_loss() = 2.1175256f0\n"
          ],
          "name": "stdout"
        },
        {
          "output_type": "stream",
          "text": [
            "┌ Info: Epoch 6\n",
            "└ @ Main /root/.julia/packages/Flux/Fj3bt/src/optimise/train.jl:121\n"
          ],
          "name": "stderr"
        },
        {
          "output_type": "stream",
          "text": [
            "test_loss() = 2.1513731f0\n",
            "test_loss() = 2.1015005f0\n",
            "test_loss() = 2.0927393f0\n",
            "test_loss() = 2.0715265f0\n",
            "test_loss() = 2.0653505f0\n"
          ],
          "name": "stdout"
        },
        {
          "output_type": "stream",
          "text": [
            "┌ Info: Epoch 7\n",
            "└ @ Main /root/.julia/packages/Flux/Fj3bt/src/optimise/train.jl:121\n"
          ],
          "name": "stderr"
        },
        {
          "output_type": "stream",
          "text": [
            "test_loss() = 2.1810274f0\n",
            "test_loss() = 2.103157f0\n",
            "test_loss() = 2.0604851f0\n",
            "test_loss() = 2.073866f0\n",
            "test_loss() = 2.0486422f0\n",
            "test_loss() = 2.0459962f0\n"
          ],
          "name": "stdout"
        },
        {
          "output_type": "stream",
          "text": [
            "┌ Info: Epoch 8\n",
            "└ @ Main /root/.julia/packages/Flux/Fj3bt/src/optimise/train.jl:121\n"
          ],
          "name": "stderr"
        },
        {
          "output_type": "stream",
          "text": [
            "test_loss() = 2.0618515f0\n",
            "test_loss() = 2.037631f0\n",
            "test_loss() = 2.022849f0\n",
            "test_loss() = 2.0156567f0\n",
            "test_loss() = 2.0185142f0\n"
          ],
          "name": "stdout"
        },
        {
          "output_type": "stream",
          "text": [
            "┌ Info: Epoch 9\n",
            "└ @ Main /root/.julia/packages/Flux/Fj3bt/src/optimise/train.jl:121\n"
          ],
          "name": "stderr"
        },
        {
          "output_type": "stream",
          "text": [
            "test_loss() = 2.1405363f0\n",
            "test_loss() = 2.0490174f0\n",
            "test_loss() = 2.024804f0\n",
            "test_loss() = 2.013392f0\n",
            "test_loss() = 2.0115752f0\n",
            "test_loss() = 2.0036983f0\n"
          ],
          "name": "stdout"
        },
        {
          "output_type": "stream",
          "text": [
            "┌ Info: Epoch 10\n",
            "└ @ Main /root/.julia/packages/Flux/Fj3bt/src/optimise/train.jl:121\n"
          ],
          "name": "stderr"
        },
        {
          "output_type": "stream",
          "text": [
            "test_loss() = 2.0620542f0\n",
            "test_loss() = 2.0126472f0\n",
            "test_loss() = 2.0036638f0\n",
            "test_loss() = 2.0035686f0\n",
            "test_loss() = 1.9965689f0\n",
            "test_loss() = 1.9957476f0\n",
            "test_loss() = 1.9912874f0\n",
            "\n",
            "accuracy :0.4695\n"
          ],
          "name": "stdout"
        }
      ]
    },
    {
      "cell_type": "markdown",
      "metadata": {
        "id": "4Nw7-DOtkfMM",
        "colab_type": "text"
      },
      "source": [
        "# 作業 033：訓練 CNN 學習門牌號碼資料集\n",
        "\n"
      ]
    },
    {
      "cell_type": "markdown",
      "metadata": {
        "id": "pJjsuQpBGcOM",
        "colab_type": "text"
      },
      "source": [
        "# 訓練一個 CNN 模型來學習門牌號碼資料集。"
      ]
    },
    {
      "cell_type": "code",
      "metadata": {
        "id": "wzvxQjiCf3wA",
        "colab_type": "code",
        "colab": {}
      },
      "source": [
        "using Flux\n",
        "using Flux.Data: DataLoader\n",
        "using Flux: @epochs, onecold, onehotbatch, throttle, logitcrossentropy\n",
        "using MLDatasets\n",
        "using Statistics"
      ],
      "execution_count": 0,
      "outputs": []
    },
    {
      "cell_type": "markdown",
      "metadata": {
        "id": "hFq9KlYPf3wD",
        "colab_type": "text"
      },
      "source": [
        "## 讀取資料"
      ]
    },
    {
      "cell_type": "code",
      "metadata": {
        "id": "bglJK0csf3wE",
        "colab_type": "code",
        "outputId": "e20536ed-fda6-44f9-86b1-1c0c37bee4a7",
        "colab": {}
      },
      "source": [
        "train_X, train_y = SVHN2.traindata(Float32, 1:20000)\n",
        "test_X,  test_y  = SVHN2.testdata(Float32, 1:2000)"
      ],
      "execution_count": 0,
      "outputs": [
        {
          "output_type": "execute_result",
          "data": {
            "text/plain": [
              "(Float32[0.14901961 0.15294118 … 0.19607843 0.1882353; 0.15294118 0.15294118 … 0.2 0.1882353; … ; 0.16470589 0.16862746 … 0.1764706 0.17254902; 0.15294118 0.15294118 … 0.16470589 0.16470589]\n",
              "\n",
              "Float32[0.40392157 0.40784314 … 0.45882353 0.4509804; 0.40784314 0.40784314 … 0.4627451 0.4509804; … ; 0.40392157 0.39607844 … 0.45490196 0.4509804; 0.38039216 0.38039216 … 0.44313726 0.44313726]\n",
              "\n",
              "Float32[0.23529412 0.23921569 … 0.29803923 0.2901961; 0.23921569 0.23921569 … 0.3019608 0.2901961; … ; 0.24313726 0.24705882 … 0.28235295 0.2784314; 0.22352941 0.22352941 … 0.27058825 0.2784314]\n",
              "\n",
              "Float32[0.5058824 0.5254902 … 0.5411765 0.5137255; 0.49803922 0.52156866 … 0.50980395 0.47843137; … ; 0.48235294 0.49411765 … 0.39607844 0.43529412; 0.48235294 0.49019608 … 0.4392157 0.48235294]\n",
              "\n",
              "Float32[0.5568628 0.5882353 … 0.59607846 0.5686275; 0.56078434 0.58431375 … 0.5647059 0.53333336; … ; 0.5254902 0.5372549 … 0.41960785 0.4627451; 0.5294118 0.5372549 … 0.4627451 0.50980395]\n",
              "\n",
              "Float32[0.6 0.627451 … 0.64705884 0.61960787; 0.59607846 0.61960787 … 0.6156863 0.58431375; … ; 0.6117647 0.6156863 … 0.5254902 0.5647059; 0.6156863 0.61960787 … 0.5647059 0.6117647]\n",
              "\n",
              "Float32[0.5882353 0.5882353 … 0.5764706 0.62352943; 0.5882353 0.5921569 … 0.5764706 0.62352943; … ; 0.5882353 0.6 … 0.54509807 0.59607846; 0.5764706 0.5882353 … 0.5411765 0.59607846]\n",
              "\n",
              "Float32[0.627451 0.627451 … 0.64705884 0.69411767; 0.6392157 0.6392157 … 0.6431373 0.69411767; … ; 0.67058825 0.67058825 … 0.60784316 0.65882355; 0.6627451 0.6627451 … 0.60784316 0.65882355]\n",
              "\n",
              "Float32[0.6627451 0.6627451 … 0.7019608 0.7411765; 0.6666667 0.6627451 … 0.7019608 0.74509805; … ; 0.70980394 0.7058824 … 0.6666667 0.7137255; 0.7058824 0.7019608 … 0.67058825 0.7176471]\n",
              "\n",
              "...\n",
              "\n",
              "Float32[0.050980393 0.050980393 … 0.043137256 0.047058824; 0.047058824 0.047058824 … 0.047058824 0.050980393; … ; 0.10980392 0.11764706 … 0.13725491 0.13725491; 0.105882354 0.11372549 … 0.14509805 0.15294118]\n",
              "\n",
              "Float32[0.05882353 0.05490196 … 0.047058824 0.050980393; 0.050980393 0.050980393 … 0.050980393 0.05490196; … ; 0.1254902 0.13725491 … 0.14117648 0.14117648; 0.12941177 0.13725491 … 0.14901961 0.15294118]\n",
              "\n",
              "Float32[0.05490196 0.05882353 … 0.05490196 0.05882353; 0.05882353 0.05882353 … 0.05882353 0.0627451; … ; 0.12941177 0.13333334 … 0.16470589 0.16862746; 0.12156863 0.12941177 … 0.1764706 0.18431373]\n",
              "\n",
              "Float32[0.23529412 0.23529412 … 0.2627451 0.25882354; 0.23921569 0.23921569 … 0.2627451 0.25490198; … ; 0.4745098 0.49411765 … 0.43529412 0.41960785; 0.4745098 0.49803922 … 0.4392157 0.41568628]\n",
              "\n",
              "Float32[0.21960784 0.22352941 … 0.21960784 0.20784314; 0.22745098 0.23529412 … 0.22352941 0.20784314; … ; 0.5019608 0.52156866 … 0.4392157 0.40784314; 0.5019608 0.5254902 … 0.44313726 0.40392157]\n",
              "\n",
              "Float32[0.2784314 0.29411766 … 0.26666668 0.24705882; 0.2901961 0.30588236 … 0.27058825 0.24705882; … ; 0.5411765 0.56078434 … 0.4862745 0.45882353; 0.5411765 0.5647059 … 0.49019608 0.45490196]\n",
              "\n",
              "Float32[0.40392157 0.43529412 … 0.47058824 0.43529412; 0.40392157 0.43137255 … 0.46666667 0.43529412; … ; 0.41568628 0.4509804 … 0.37254903 0.32156864; 0.4 0.44313726 … 0.36862746 0.32156864]\n",
              "\n",
              "Float32[0.45490196 0.49411765 … 0.4509804 0.40784314; 0.45882353 0.49411765 … 0.4509804 0.4117647; … ; 0.41960785 0.4627451 … 0.35686275 0.3019608; 0.40392157 0.44705883 … 0.3529412 0.29803923]\n",
              "\n",
              "Float32[0.5058824 0.54509807 … 0.52156866 0.47843137; 0.50980395 0.54509807 … 0.5176471 0.47843137; … ; 0.4 0.4392157 … 0.3529412 0.29411766; 0.38039216 0.41960785 … 0.3372549 0.2901961], [5, 2, 1, 10, 6, 1, 9, 1, 1, 8  …  4, 6, 5, 7, 1, 8, 4, 8, 1, 6])"
            ]
          },
          "metadata": {
            "tags": []
          },
          "execution_count": 2
        }
      ]
    },
    {
      "cell_type": "code",
      "metadata": {
        "id": "i4x0BX30f3wJ",
        "colab_type": "code",
        "outputId": "eb837a9a-2969-4c88-eeeb-c920ef57994c",
        "colab": {}
      },
      "source": [
        "train_y = onehotbatch(train_y, 1:10)\n",
        "test_y = onehotbatch(test_y, 1:10)"
      ],
      "execution_count": 0,
      "outputs": [
        {
          "output_type": "execute_result",
          "data": {
            "text/plain": [
              "10×2000 Flux.OneHotMatrix{Array{Flux.OneHotVector,1}}:\n",
              " 0  0  1  0  0  1  0  1  1  0  0  0  0  …  0  0  0  0  0  0  1  0  0  0  1  0\n",
              " 0  1  0  0  0  0  0  0  0  0  0  0  0     0  0  0  0  0  0  0  0  0  0  0  0\n",
              " 0  0  0  0  0  0  0  0  0  0  1  0  0     0  0  0  0  0  0  0  0  0  0  0  0\n",
              " 0  0  0  0  0  0  0  0  0  0  0  0  0     0  0  1  0  0  0  0  0  1  0  0  0\n",
              " 1  0  0  0  0  0  0  0  0  0  0  0  1     0  0  0  0  1  0  0  0  0  0  0  0\n",
              " 0  0  0  0  1  0  0  0  0  0  0  1  0  …  0  0  0  1  0  0  0  0  0  0  0  1\n",
              " 0  0  0  0  0  0  0  0  0  0  0  0  0     1  0  0  0  0  1  0  0  0  0  0  0\n",
              " 0  0  0  0  0  0  0  0  0  1  0  0  0     0  1  0  0  0  0  0  1  0  1  0  0\n",
              " 0  0  0  0  0  0  1  0  0  0  0  0  0     0  0  0  0  0  0  0  0  0  0  0  0\n",
              " 0  0  0  1  0  0  0  0  0  0  0  0  0     0  0  0  0  0  0  0  0  0  0  0  0"
            ]
          },
          "metadata": {
            "tags": []
          },
          "execution_count": 3
        }
      ]
    },
    {
      "cell_type": "code",
      "metadata": {
        "id": "1ahKCutbf3wN",
        "colab_type": "code",
        "outputId": "f02b45c9-3e94-462e-9877-a948beead293",
        "colab": {}
      },
      "source": [
        "batchsize = 1024\n",
        "train = DataLoader(train_X, train_y, batchsize=batchsize, shuffle=true)\n",
        "test = DataLoader(test_X, test_y, batchsize=batchsize)"
      ],
      "execution_count": 0,
      "outputs": [
        {
          "output_type": "execute_result",
          "data": {
            "text/plain": [
              "DataLoader((Float32[0.14901961 0.15294118 … 0.19607843 0.1882353; 0.15294118 0.15294118 … 0.2 0.1882353; … ; 0.16470589 0.16862746 … 0.1764706 0.17254902; 0.15294118 0.15294118 … 0.16470589 0.16470589]\n",
              "\n",
              "Float32[0.40392157 0.40784314 … 0.45882353 0.4509804; 0.40784314 0.40784314 … 0.4627451 0.4509804; … ; 0.40392157 0.39607844 … 0.45490196 0.4509804; 0.38039216 0.38039216 … 0.44313726 0.44313726]\n",
              "\n",
              "Float32[0.23529412 0.23921569 … 0.29803923 0.2901961; 0.23921569 0.23921569 … 0.3019608 0.2901961; … ; 0.24313726 0.24705882 … 0.28235295 0.2784314; 0.22352941 0.22352941 … 0.27058825 0.2784314]\n",
              "\n",
              "Float32[0.5058824 0.5254902 … 0.5411765 0.5137255; 0.49803922 0.52156866 … 0.50980395 0.47843137; … ; 0.48235294 0.49411765 … 0.39607844 0.43529412; 0.48235294 0.49019608 … 0.4392157 0.48235294]\n",
              "\n",
              "Float32[0.5568628 0.5882353 … 0.59607846 0.5686275; 0.56078434 0.58431375 … 0.5647059 0.53333336; … ; 0.5254902 0.5372549 … 0.41960785 0.4627451; 0.5294118 0.5372549 … 0.4627451 0.50980395]\n",
              "\n",
              "Float32[0.6 0.627451 … 0.64705884 0.61960787; 0.59607846 0.61960787 … 0.6156863 0.58431375; … ; 0.6117647 0.6156863 … 0.5254902 0.5647059; 0.6156863 0.61960787 … 0.5647059 0.6117647]\n",
              "\n",
              "Float32[0.5882353 0.5882353 … 0.5764706 0.62352943; 0.5882353 0.5921569 … 0.5764706 0.62352943; … ; 0.5882353 0.6 … 0.54509807 0.59607846; 0.5764706 0.5882353 … 0.5411765 0.59607846]\n",
              "\n",
              "Float32[0.627451 0.627451 … 0.64705884 0.69411767; 0.6392157 0.6392157 … 0.6431373 0.69411767; … ; 0.67058825 0.67058825 … 0.60784316 0.65882355; 0.6627451 0.6627451 … 0.60784316 0.65882355]\n",
              "\n",
              "Float32[0.6627451 0.6627451 … 0.7019608 0.7411765; 0.6666667 0.6627451 … 0.7019608 0.74509805; … ; 0.70980394 0.7058824 … 0.6666667 0.7137255; 0.7058824 0.7019608 … 0.67058825 0.7176471]\n",
              "\n",
              "...\n",
              "\n",
              "Float32[0.050980393 0.050980393 … 0.043137256 0.047058824; 0.047058824 0.047058824 … 0.047058824 0.050980393; … ; 0.10980392 0.11764706 … 0.13725491 0.13725491; 0.105882354 0.11372549 … 0.14509805 0.15294118]\n",
              "\n",
              "Float32[0.05882353 0.05490196 … 0.047058824 0.050980393; 0.050980393 0.050980393 … 0.050980393 0.05490196; … ; 0.1254902 0.13725491 … 0.14117648 0.14117648; 0.12941177 0.13725491 … 0.14901961 0.15294118]\n",
              "\n",
              "Float32[0.05490196 0.05882353 … 0.05490196 0.05882353; 0.05882353 0.05882353 … 0.05882353 0.0627451; … ; 0.12941177 0.13333334 … 0.16470589 0.16862746; 0.12156863 0.12941177 … 0.1764706 0.18431373]\n",
              "\n",
              "Float32[0.23529412 0.23529412 … 0.2627451 0.25882354; 0.23921569 0.23921569 … 0.2627451 0.25490198; … ; 0.4745098 0.49411765 … 0.43529412 0.41960785; 0.4745098 0.49803922 … 0.4392157 0.41568628]\n",
              "\n",
              "Float32[0.21960784 0.22352941 … 0.21960784 0.20784314; 0.22745098 0.23529412 … 0.22352941 0.20784314; … ; 0.5019608 0.52156866 … 0.4392157 0.40784314; 0.5019608 0.5254902 … 0.44313726 0.40392157]\n",
              "\n",
              "Float32[0.2784314 0.29411766 … 0.26666668 0.24705882; 0.2901961 0.30588236 … 0.27058825 0.24705882; … ; 0.5411765 0.56078434 … 0.4862745 0.45882353; 0.5411765 0.5647059 … 0.49019608 0.45490196]\n",
              "\n",
              "Float32[0.40392157 0.43529412 … 0.47058824 0.43529412; 0.40392157 0.43137255 … 0.46666667 0.43529412; … ; 0.41568628 0.4509804 … 0.37254903 0.32156864; 0.4 0.44313726 … 0.36862746 0.32156864]\n",
              "\n",
              "Float32[0.45490196 0.49411765 … 0.4509804 0.40784314; 0.45882353 0.49411765 … 0.4509804 0.4117647; … ; 0.41960785 0.4627451 … 0.35686275 0.3019608; 0.40392157 0.44705883 … 0.3529412 0.29803923]\n",
              "\n",
              "Float32[0.5058824 0.54509807 … 0.52156866 0.47843137; 0.50980395 0.54509807 … 0.5176471 0.47843137; … ; 0.4 0.4392157 … 0.3529412 0.29411766; 0.38039216 0.41960785 … 0.3372549 0.2901961], Bool[0 0 … 1 0; 0 1 … 0 0; … ; 0 0 … 0 0; 0 0 … 0 0]), 1024, 2000, true, 2000, [1, 2, 3, 4, 5, 6, 7, 8, 9, 10  …  1991, 1992, 1993, 1994, 1995, 1996, 1997, 1998, 1999, 2000], false)"
            ]
          },
          "metadata": {
            "tags": []
          },
          "execution_count": 4
        }
      ]
    },
    {
      "cell_type": "markdown",
      "metadata": {
        "id": "BafbuG-Cf3wQ",
        "colab_type": "text"
      },
      "source": [
        "## CNN 模型"
      ]
    },
    {
      "cell_type": "code",
      "metadata": {
        "id": "2IWo-8HDf3wQ",
        "colab_type": "code",
        "outputId": "673b5d1d-6a62-45c3-f4fb-b923f853e88d",
        "colab": {}
      },
      "source": [
        "model = # write your model here"
      ],
      "execution_count": 0,
      "outputs": [
        {
          "output_type": "execute_result",
          "data": {
            "text/plain": [
              "Chain(Conv((3, 3), 3=>32, relu), MaxPool((2, 2), pad = (0, 0, 0, 0), stride = (2, 2)), Conv((3, 3), 32=>32, relu), MaxPool((2, 2), pad = (0, 0, 0, 0), stride = (2, 2)), Conv((3, 3), 32=>64, relu), MaxPool((2, 2), pad = (0, 0, 0, 0), stride = (2, 2)), flatten, Dense(1024, 256, relu), Dense(256, 10), softmax)"
            ]
          },
          "metadata": {
            "tags": []
          },
          "execution_count": 5
        }
      ]
    },
    {
      "cell_type": "code",
      "metadata": {
        "id": "iOkqX6Zvf3wU",
        "colab_type": "code",
        "colab": {}
      },
      "source": [
        ""
      ],
      "execution_count": 0,
      "outputs": []
    }
  ]
}