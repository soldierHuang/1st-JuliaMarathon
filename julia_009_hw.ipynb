{
  "nbformat": 4,
  "nbformat_minor": 0,
  "metadata": {
    "kernelspec": {
      "display_name": "Julia 1.2.0",
      "language": "julia",
      "name": "julia-1.2"
    },
    "language_info": {
      "file_extension": ".jl",
      "mimetype": "application/julia",
      "name": "julia",
      "version": "1.2.0"
    },
    "colab": {
      "name": "julia_009_hw.ipynb",
      "provenance": [],
      "collapsed_sections": []
    }
  },
  "cells": [
    {
      "cell_type": "code",
      "metadata": {
        "id": "8aK67P2yHp-3",
        "colab_type": "code",
        "colab": {
          "base_uri": "https://localhost:8080/",
          "height": 340
        },
        "outputId": "850ac841-e72c-478c-9fc8-2ea596cf7040"
      },
      "source": [
        "%%shell\n",
        "if ! command -v julia 3>&1 > /dev/null\n",
        "then\n",
        "    wget 'https://julialang-s3.julialang.org/bin/linux/x64/1.3/julia-1.3.1-linux-x86_64.tar.gz' -O julia.tar.gz\n",
        "    tar -x -f julia.tar.gz -C /usr/local --strip-components 1\n",
        "    rm julia.tar.gz\n",
        "fi\n",
        "julia -e 'using Pkg; pkg\"add IJulia; add BenchmarkTools; add CuArrays; precompile;\"'\n",
        "echo 'Done'"
      ],
      "execution_count": 1,
      "outputs": [
        {
          "output_type": "stream",
          "text": [
            "  Updating registry at `~/.julia/registries/General`\n",
            "  Updating git-repo `https://github.com/JuliaRegistries/General.git`\n",
            "\u001b[?25l\u001b[2K\u001b[?25h Resolving package versions...\n",
            "  Updating `~/.julia/environments/v1.3/Project.toml`\n",
            " [no changes]\n",
            "  Updating `~/.julia/environments/v1.3/Manifest.toml`\n",
            " [no changes]\n",
            " Resolving package versions...\n",
            "  Updating `~/.julia/environments/v1.3/Project.toml`\n",
            " [no changes]\n",
            "  Updating `~/.julia/environments/v1.3/Manifest.toml`\n",
            " [no changes]\n",
            " Resolving package versions...\n",
            "  Updating `~/.julia/environments/v1.3/Project.toml`\n",
            " [no changes]\n",
            "  Updating `~/.julia/environments/v1.3/Manifest.toml`\n",
            " [no changes]\n",
            "Precompiling project...\n",
            "Done\n"
          ],
          "name": "stdout"
        },
        {
          "output_type": "execute_result",
          "data": {
            "text/plain": [
              ""
            ]
          },
          "metadata": {
            "tags": []
          },
          "execution_count": 1
        }
      ]
    },
    {
      "cell_type": "markdown",
      "metadata": {
        "id": "RtngRo7pDWcc",
        "colab_type": "text"
      },
      "source": [
        "# 陣列 (Array)\n",
        "\n",
        "## Day 009 作業：比較不同的內建排序演算法\n",
        "\n",
        "除了範例程式示範的 QuickSort 之外，Julia 也內建支援幾種不同的排序演算法：\n",
        "\n",
        "- InsertionSort\n",
        "- PartialQuickSort(k)\n",
        "- MergeSort\n",
        "\n",
        "1. 請閱讀官方文件及範例 [Sorting-Algorithms](https://docs.julialang.org/en/v1/base/sort/#Sorting-Algorithms-1)\n",
        "\n",
        "2. 撰寫程式隨機產生 100000 個 200 到 500 之間的數字來建立陣列，執行不同排序方法，來比較不同排序方法的速度。\n",
        "\n",
        "**[提示]** 排序執行所需時間可以用巨集 `@time` 或 `@elapsed` 來取得。"
      ]
    },
    {
      "cell_type": "code",
      "metadata": {
        "id": "ZRwVjs_3HtIA",
        "colab_type": "code",
        "colab": {
          "base_uri": "https://localhost:8080/",
          "height": 85
        },
        "outputId": "f2021c15-7ba2-4853-c815-d2f521a3aa46"
      },
      "source": [
        "'''\n",
        "# 產生 100000 個 200 到 500 之間的數字的陣列\n",
        "x = rand(200:500, 100000)         # 請將註解取代為程式碼\n",
        "排序演算法：\n",
        "  InsertionSort\n",
        "  QuickSort\n",
        "  PartialQuickSort(k)\n",
        "  MergeSort\n",
        "  \n",
        "'''\n",
        "\n",
        "!julia -e'\\\n",
        "x = rand(200:500, 100000)                                                     ;\\\n",
        "k = 100                                                                       ;\\\n",
        "sortArray = [InsertionSort, QuickSort,  PartialQuickSort(k), MergeSort]       ;\\\n",
        "for i in sortArray                                                            ;\\\n",
        "  print(rpad(i,30))                                                           ;\\\n",
        "  @time s = sort(x; alg=i)                                                    ;\\\n",
        "end                                                                           ;\\'"
      ],
      "execution_count": 2,
      "outputs": [
        {
          "output_type": "stream",
          "text": [
            "Base.Sort.InsertionSortAlg()    0.040846 seconds (95.94 k allocations: 5.986 MiB)\n",
            "Base.Sort.QuickSortAlg()        0.039794 seconds (101.44 k allocations: 6.330 MiB)\n",
            "PartialQuickSort{Int64}(100)    0.054060 seconds (100.85 k allocations: 6.019 MiB)\n",
            "Base.Sort.MergeSortAlg()        0.064284 seconds (150.33 k allocations: 8.512 MiB)\n"
          ],
          "name": "stdout"
        }
      ]
    },
    {
      "cell_type": "markdown",
      "metadata": {
        "id": "RbjoPZ27DWdM",
        "colab_type": "text"
      },
      "source": [
        "## 請問哪一種排序方法的效能最好？    ==>  InsertionSort "
      ]
    }
  ]
}