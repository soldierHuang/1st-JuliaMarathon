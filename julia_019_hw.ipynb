{
  "nbformat": 4,
  "nbformat_minor": 0,
  "metadata": {
    "kernelspec": {
      "display_name": "Julia 1.2.0",
      "language": "julia",
      "name": "julia-1.2"
    },
    "language_info": {
      "file_extension": ".jl",
      "mimetype": "application/julia",
      "name": "julia",
      "version": "1.2.0"
    },
    "colab": {
      "name": "julia_019_hw.ipynb",
      "provenance": [],
      "collapsed_sections": []
    }
  },
  "cells": [
    {
      "cell_type": "code",
      "metadata": {
        "id": "mXx3igC91Fj-",
        "colab_type": "code",
        "colab": {
          "base_uri": "https://localhost:8080/",
          "height": 680
        },
        "outputId": "60b76372-c0ec-4bd6-9e9e-08c49c56494e"
      },
      "source": [
        "%%shell\n",
        "if ! command -v julia 3>&1 > /dev/null\n",
        "then\n",
        "    wget 'https://julialang-s3.julialang.org/bin/linux/x64/1.3/julia-1.3.1-linux-x86_64.tar.gz' -O julia.tar.gz\n",
        "    tar -x -f julia.tar.gz -C /usr/local --strip-components 1\n",
        "    rm julia.tar.gz\n",
        "fi\n",
        "    julia -e '\\\n",
        "        using Pkg                                                          ;\\\n",
        "        Pkg.update()                                                       ;\\\n",
        "        Pkg.add(\"IJulia\")                                                  ;\\\n",
        "        Pkg.add(\"BenchmarkTools\")                                          ;\\\n",
        "        Pkg.add(\"CuArrays\")                                                ;\\\n",
        "        Pkg.add(\"BenchmarkTools\")                                          ;\\\n",
        "        Pkg.add(\"DataFrames\")                                              ;\\\n",
        "        Pkg.add(\"CSV\")                                                     ;\\\n",
        "        Pkg.precompile()                                                   ;\\'\n",
        "echo 'Done'"
      ],
      "execution_count": 1,
      "outputs": [
        {
          "output_type": "stream",
          "text": [
            "  Updating registry at `~/.julia/registries/General`\n",
            "  Updating git-repo `https://github.com/JuliaRegistries/General.git`\n",
            "\u001b[2K\u001b[?25h Resolving package versions...\n",
            "  Updating `~/.julia/environments/v1.3/Project.toml`\n",
            " [no changes]\n",
            "  Updating `~/.julia/environments/v1.3/Manifest.toml`\n",
            " [no changes]\n",
            " Resolving package versions...\n",
            "  Updating `~/.julia/environments/v1.3/Project.toml`\n",
            " [no changes]\n",
            "  Updating `~/.julia/environments/v1.3/Manifest.toml`\n",
            " [no changes]\n",
            " Resolving package versions...\n",
            "  Updating `~/.julia/environments/v1.3/Project.toml`\n",
            " [no changes]\n",
            "  Updating `~/.julia/environments/v1.3/Manifest.toml`\n",
            " [no changes]\n",
            " Resolving package versions...\n",
            "  Updating `~/.julia/environments/v1.3/Project.toml`\n",
            " [no changes]\n",
            "  Updating `~/.julia/environments/v1.3/Manifest.toml`\n",
            " [no changes]\n",
            " Resolving package versions...\n",
            "  Updating `~/.julia/environments/v1.3/Project.toml`\n",
            " [no changes]\n",
            "  Updating `~/.julia/environments/v1.3/Manifest.toml`\n",
            " [no changes]\n",
            " Resolving package versions...\n",
            "  Updating `~/.julia/environments/v1.3/Project.toml`\n",
            " [no changes]\n",
            "  Updating `~/.julia/environments/v1.3/Manifest.toml`\n",
            " [no changes]\n",
            " Resolving package versions...\n",
            "  Updating `~/.julia/environments/v1.3/Project.toml`\n",
            " [no changes]\n",
            "  Updating `~/.julia/environments/v1.3/Manifest.toml`\n",
            " [no changes]\n",
            "Precompiling project...\n",
            "Done\n"
          ],
          "name": "stdout"
        },
        {
          "output_type": "execute_result",
          "data": {
            "text/plain": [
              ""
            ]
          },
          "metadata": {
            "tags": []
          },
          "execution_count": 1
        }
      ]
    },
    {
      "cell_type": "markdown",
      "metadata": {
        "id": "CymtLvLsl4iT",
        "colab_type": "text"
      },
      "source": [
        "## Day 019 作業：DataFrame 的排序及顯示\n",
        "\n",
        "同 Day 017，請載入 2020/4/2 COVID-19 Daily Report 資料集，計算每個國家/區域的累計確診人數。\n",
        "\n",
        "請依確診案例數，列出截至4月2日為止 (UTC 時間)，確診案例最多的10個國家/區域。"
      ]
    },
    {
      "cell_type": "code",
      "metadata": {
        "id": "ww1iE4G61NZa",
        "colab_type": "code",
        "colab": {
          "base_uri": "https://localhost:8080/",
          "height": 255
        },
        "outputId": "60e43b38-8473-4a98-f5a8-849e26f89de2"
      },
      "source": [
        "!julia -e '\\\n",
        "using DataFrames, CSV                                                                                                                       ;\\\n",
        "url =  \"https://raw.githubusercontent.com/CSSEGISandData/COVID-19/master/csse_covid_19_data/csse_covid_19_daily_reports/04-02-2020.csv\"     ;\\\n",
        "df = CSV.read(download(url))                                                                                                                ;\\\n",
        "println( first( by( sort( df, :Confirmed, rev = true) , :Country_Region, :Confirmed => sum ) , 10)   )                                      ;\\'"
      ],
      "execution_count": 2,
      "outputs": [
        {
          "output_type": "stream",
          "text": [
            "10×2 DataFrame\n",
            "│ Row │ Country_Region │ Confirmed_sum │\n",
            "│     │ String         │ Int64         │\n",
            "├─────┼────────────────┼───────────────┤\n",
            "│ 1   │ Italy          │ 115242        │\n",
            "│ 2   │ Spain          │ 112065        │\n",
            "│ 3   │ Germany        │ 84794         │\n",
            "│ 4   │ China          │ 82432         │\n",
            "│ 5   │ France         │ 59929         │\n",
            "│ 6   │ US             │ 243599        │\n",
            "│ 7   │ Iran           │ 50468         │\n",
            "│ 8   │ United Kingdom │ 34173         │\n",
            "│ 9   │ Switzerland    │ 18827         │\n",
            "│ 10  │ Turkey         │ 18135         │\n"
          ],
          "name": "stdout"
        }
      ]
    }
  ]
}