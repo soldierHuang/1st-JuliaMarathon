{
  "nbformat": 4,
  "nbformat_minor": 0,
  "metadata": {
    "@webio": {
      "lastCommId": null,
      "lastKernelId": null
    },
    "colab": {
      "name": "julia_012_example.ipynb",
      "provenance": []
    },
    "kernelspec": {
      "display_name": "Julia 1.2.0",
      "language": "julia",
      "name": "julia-1.2"
    },
    "language_info": {
      "file_extension": ".jl",
      "mimetype": "application/julia",
      "name": "julia",
      "version": "1.2.0"
    }
  },
  "cells": [
    {
      "cell_type": "code",
      "metadata": {
        "id": "ZtZyS_u9ol1u",
        "colab_type": "code",
        "outputId": "44102688-3829-44ac-ee6d-c0e17b902148",
        "colab": {
          "base_uri": "https://localhost:8080/",
          "height": 1000
        }
      },
      "source": [
        "%%shell\n",
        "if ! command -v julia 3>&1 > /dev/null\n",
        "then\n",
        "    wget 'https://julialang-s3.julialang.org/bin/linux/x64/1.3/julia-1.3.1-linux-x86_64.tar.gz' -O julia.tar.gz\n",
        "    tar -x -f julia.tar.gz -C /usr/local --strip-components 1\n",
        "    rm julia.tar.gz\n",
        "fi\n",
        "julia -e 'using Pkg; pkg\"add IJulia; add BenchmarkTools; add CuArrays; precompile;\"'\n",
        "echo 'Done'"
      ],
      "execution_count": 0,
      "outputs": [
        {
          "output_type": "stream",
          "text": [
            "--2020-04-13 08:23:09--  https://julialang-s3.julialang.org/bin/linux/x64/1.3/julia-1.3.1-linux-x86_64.tar.gz\n",
            "Resolving julialang-s3.julialang.org (julialang-s3.julialang.org)... 151.101.2.49, 151.101.66.49, 151.101.130.49, ...\n",
            "Connecting to julialang-s3.julialang.org (julialang-s3.julialang.org)|151.101.2.49|:443... connected.\n",
            "HTTP request sent, awaiting response... 302 gce internal redirect trigger\n",
            "Location: https://storage.googleapis.com/julialang2/bin/linux/x64/1.3/julia-1.3.1-linux-x86_64.tar.gz [following]\n",
            "--2020-04-13 08:23:09--  https://storage.googleapis.com/julialang2/bin/linux/x64/1.3/julia-1.3.1-linux-x86_64.tar.gz\n",
            "Resolving storage.googleapis.com (storage.googleapis.com)... 74.125.204.128, 2404:6800:4008:c00::80\n",
            "Connecting to storage.googleapis.com (storage.googleapis.com)|74.125.204.128|:443... connected.\n",
            "HTTP request sent, awaiting response... 200 OK\n",
            "Length: 95929584 (91M) [application/x-gzip]\n",
            "Saving to: ‘julia.tar.gz’\n",
            "\n",
            "julia.tar.gz        100%[===================>]  91.49M   155MB/s    in 0.6s    \n",
            "\n",
            "2020-04-13 08:23:09 (155 MB/s) - ‘julia.tar.gz’ saved [95929584/95929584]\n",
            "\n",
            "   Cloning default registries into `~/.julia`\n",
            "   Cloning registry from \"https://github.com/JuliaRegistries/General.git\"\n",
            "\u001b[2K\u001b[?25h     Added registry `General` to `~/.julia/registries/General`\n",
            " Resolving package versions...\n",
            " Installed VersionParsing ── v1.2.0\n",
            " Installed Conda ─────────── v1.4.1\n",
            " Installed SoftGlobalScope ─ v1.0.10\n",
            " Installed ZMQ ───────────── v1.2.0\n",
            " Installed Parsers ───────── v1.0.1\n",
            " Installed BinaryProvider ── v0.5.8\n",
            " Installed MbedTLS ───────── v0.7.0\n",
            " Installed IJulia ────────── v1.21.1\n",
            " Installed ZeroMQ_jll ────── v4.3.2+2\n",
            " Installed JSON ──────────── v0.21.0\n",
            "  Updating `~/.julia/environments/v1.3/Project.toml`\n",
            "  [7073ff75] + IJulia v1.21.1\n",
            "  Updating `~/.julia/environments/v1.3/Manifest.toml`\n",
            "  [b99e7846] + BinaryProvider v0.5.8\n",
            "  [8f4d0f93] + Conda v1.4.1\n",
            "  [7073ff75] + IJulia v1.21.1\n",
            "  [682c06a0] + JSON v0.21.0\n",
            "  [739be429] + MbedTLS v0.7.0\n",
            "  [69de0a69] + Parsers v1.0.1\n",
            "  [b85f4697] + SoftGlobalScope v1.0.10\n",
            "  [81def892] + VersionParsing v1.2.0\n",
            "  [c2297ded] + ZMQ v1.2.0\n",
            "  [8f1865be] + ZeroMQ_jll v4.3.2+2\n",
            "  [2a0f44e3] + Base64 \n",
            "  [ade2ca70] + Dates \n",
            "  [8ba89e20] + Distributed \n",
            "  [7b1f6079] + FileWatching \n",
            "  [b77e0a4c] + InteractiveUtils \n",
            "  [76f85450] + LibGit2 \n",
            "  [8f399da3] + Libdl \n",
            "  [56ddb016] + Logging \n",
            "  [d6f4376e] + Markdown \n",
            "  [a63ad114] + Mmap \n",
            "  [44cfe95a] + Pkg \n",
            "  [de0858da] + Printf \n",
            "  [3fa0cd96] + REPL \n",
            "  [9a3f8284] + Random \n",
            "  [ea8e919c] + SHA \n",
            "  [9e88b42a] + Serialization \n",
            "  [6462fe0b] + Sockets \n",
            "  [8dfed614] + Test \n",
            "  [cf7118a7] + UUIDs \n",
            "  [4ec0a83e] + Unicode \n",
            "  Building Conda ──→ `~/.julia/packages/Conda/3rPhK/deps/build.log`\n",
            "  Building MbedTLS → `~/.julia/packages/MbedTLS/a1JFn/deps/build.log`\n",
            "  Building IJulia ─→ `~/.julia/packages/IJulia/yLI42/deps/build.log`\n",
            " Resolving package versions...\n",
            " Installed BenchmarkTools ─ v0.5.0\n",
            "  Updating `~/.julia/environments/v1.3/Project.toml`\n",
            "  [6e4b80f9] + BenchmarkTools v0.5.0\n",
            "  Updating `~/.julia/environments/v1.3/Manifest.toml`\n",
            "  [6e4b80f9] + BenchmarkTools v0.5.0\n",
            "  [37e2e46d] + LinearAlgebra \n",
            "  [2f01184e] + SparseArrays \n",
            "  [10745b16] + Statistics \n",
            " Resolving package versions...\n",
            " Installed TimerOutputs ─────── v0.5.3\n",
            " Installed Cthulhu ──────────── v1.0.2\n",
            " Installed MacroTools ───────── v0.5.5\n",
            " Installed Requires ─────────── v1.0.1\n",
            " Installed NNlib ────────────── v0.6.6\n",
            " Installed DataStructures ───── v0.17.12\n",
            " Installed GPUArrays ────────── v3.1.0\n",
            " Installed CuArrays ─────────── v2.0.1\n",
            " Installed ExprTools ────────── v0.1.0\n",
            " Installed CEnum ────────────── v0.2.0\n",
            " Installed CodeTracking ─────── v0.5.8\n",
            " Installed CUDAapi ──────────── v4.0.0\n",
            " Installed AbstractFFTs ─────── v0.5.0\n",
            " Installed Reexport ─────────── v0.2.0\n",
            " Installed Adapt ────────────── v1.0.1\n",
            " Installed LLVM ─────────────── v1.3.4\n",
            " Installed OrderedCollections ─ v1.1.0\n",
            " Installed CUDAdrv ──────────── v6.2.2\n",
            " Installed CUDAnative ───────── v3.0.4\n",
            "  Updating `~/.julia/environments/v1.3/Project.toml`\n",
            "  [3a865a2d] + CuArrays v2.0.1\n",
            "  Updating `~/.julia/environments/v1.3/Manifest.toml`\n",
            "  [621f4979] + AbstractFFTs v0.5.0\n",
            "  [79e6a3ab] + Adapt v1.0.1\n",
            "  [fa961155] + CEnum v0.2.0\n",
            "  [3895d2a7] + CUDAapi v4.0.0\n",
            "  [c5f51814] + CUDAdrv v6.2.2\n",
            "  [be33ccc6] + CUDAnative v3.0.4\n",
            "  [da1fd8a2] + CodeTracking v0.5.8\n",
            "  [f68482b8] + Cthulhu v1.0.2\n",
            "  [3a865a2d] + CuArrays v2.0.1\n",
            "  [864edb3b] + DataStructures v0.17.12\n",
            "  [e2ba6199] + ExprTools v0.1.0\n",
            "  [0c68f7d7] + GPUArrays v3.1.0\n",
            "  [929cbde3] + LLVM v1.3.4\n",
            "  [1914dd2f] + MacroTools v0.5.5\n",
            "  [872c559c] + NNlib v0.6.6\n",
            "  [bac558e1] + OrderedCollections v1.1.0\n",
            "  [189a3867] + Reexport v0.2.0\n",
            "  [ae029012] + Requires v1.0.1\n",
            "  [a759f4b9] + TimerOutputs v0.5.3\n",
            "  Building NNlib → `~/.julia/packages/NNlib/FAI3o/deps/build.log`\n",
            "Precompiling project...\n",
            "Precompiling CuArrays\n",
            "Precompiling IJulia\n",
            "Precompiling BenchmarkTools\n",
            "Done\n"
          ],
          "name": "stdout"
        },
        {
          "output_type": "execute_result",
          "data": {
            "text/plain": [
              ""
            ]
          },
          "metadata": {
            "tags": []
          },
          "execution_count": 1
        }
      ]
    },
    {
      "cell_type": "markdown",
      "metadata": {
        "colab_type": "text",
        "id": "08isk0O73t5T"
      },
      "source": [
        "# Julia 型別 (Types) 系統簡介"
      ]
    },
    {
      "cell_type": "markdown",
      "metadata": {
        "colab_type": "text",
        "id": "ZV6XpKzW3t5j"
      },
      "source": [
        "## 1. 型別 (Type) 的宣告\n",
        "\n",
        "型別的宣告是使用 `::` 運算子  可以針對變數、表達式 (expression)、與函式進行型別的宣告."
      ]
    },
    {
      "cell_type": "markdown",
      "metadata": {
        "colab_type": "text",
        "id": "XAE9sZnA3t5n"
      },
      "source": [
        "### 變數 (variable)\n",
        "\n",
        "宣告變數型別, 只能針對 local 變數, 若宣告 global 變數的型別時會產生錯誤."
      ]
    },
    {
      "cell_type": "code",
      "metadata": {
        "colab_type": "code",
        "id": "rVz6KcE-3t5q",
        "outputId": "3e5d6cfc-8415-4097-c2c7-540b6cc6a176",
        "colab": {}
      },
      "source": [
        "local x::Int8 = 10"
      ],
      "execution_count": 0,
      "outputs": [
        {
          "output_type": "execute_result",
          "data": {
            "text/plain": [
              "10"
            ]
          },
          "metadata": {
            "tags": []
          },
          "execution_count": 1
        }
      ]
    },
    {
      "cell_type": "code",
      "metadata": {
        "colab_type": "code",
        "id": "SdjDZ85V3t6D",
        "outputId": "0a22ef57-3284-47f2-bf35-f1c5ef294244",
        "colab": {}
      },
      "source": [
        "# global 變數\n",
        "y::Int64 = 10"
      ],
      "execution_count": 0,
      "outputs": [
        {
          "output_type": "error",
          "ename": "ErrorException",
          "evalue": "syntax: type declarations on global variables are not yet supported",
          "traceback": [
            "syntax: type declarations on global variables are not yet supported",
            "",
            "Stacktrace:",
            " [1] top-level scope at C:\\Users\\james\\.julia\\packages\\IJulia\\F1GUo\\src\\kernel.jl:52"
          ]
        }
      ]
    },
    {
      "cell_type": "code",
      "metadata": {
        "colab_type": "code",
        "id": "_RyGN7dK3t6K",
        "outputId": "71606dc3-c45e-480d-cfaf-f6af2e1425b6",
        "colab": {}
      },
      "source": [
        "function foo()\n",
        "    x::Int32 = 100\n",
        "    x\n",
        "end\n",
        "\n",
        "foo()"
      ],
      "execution_count": 0,
      "outputs": [
        {
          "output_type": "execute_result",
          "data": {
            "text/plain": [
              "100"
            ]
          },
          "metadata": {
            "tags": []
          },
          "execution_count": 3
        }
      ]
    },
    {
      "cell_type": "markdown",
      "metadata": {
        "colab_type": "text",
        "id": "4v23MD0V3t6P"
      },
      "source": [
        "呼叫 `foo()` 後, 我們可以看到回傳值的型別是 `Int32`"
      ]
    },
    {
      "cell_type": "code",
      "metadata": {
        "colab_type": "code",
        "id": "Rxb0d8NH3t6S",
        "outputId": "267e27fc-7eb4-4df9-fd20-5b627249ecf7",
        "colab": {}
      },
      "source": [
        "# ans 是 Julia 語言保留字, 代表的是目前最後計算值\n",
        "typeof(ans)"
      ],
      "execution_count": 0,
      "outputs": [
        {
          "output_type": "execute_result",
          "data": {
            "text/plain": [
              "Int32"
            ]
          },
          "metadata": {
            "tags": []
          },
          "execution_count": 4
        }
      ]
    },
    {
      "cell_type": "markdown",
      "metadata": {
        "colab_type": "text",
        "id": "5awkYHGL3t6Z"
      },
      "source": [
        "### 表達式 (expression)"
      ]
    },
    {
      "cell_type": "code",
      "metadata": {
        "colab_type": "code",
        "id": "pLuHa2gB3t6a",
        "outputId": "2999902a-a5a0-4d38-f94e-add25b5a496e",
        "colab": {}
      },
      "source": [
        "(1+2)::Int64"
      ],
      "execution_count": 0,
      "outputs": [
        {
          "output_type": "execute_result",
          "data": {
            "text/plain": [
              "3"
            ]
          },
          "metadata": {
            "tags": []
          },
          "execution_count": 5
        }
      ]
    },
    {
      "cell_type": "markdown",
      "metadata": {
        "colab_type": "text",
        "id": "HwXdB0jZ3t6g"
      },
      "source": [
        "若是 Type assertion 傳回 false 的話, 會產生 exception."
      ]
    },
    {
      "cell_type": "code",
      "metadata": {
        "colab_type": "code",
        "id": "c7Yo3HhB3t6h",
        "outputId": "a1353d9b-7f05-462b-ffb5-9505ad7fa85d",
        "scrolled": true,
        "colab": {}
      },
      "source": [
        "(1+2)::Float64"
      ],
      "execution_count": 0,
      "outputs": [
        {
          "output_type": "error",
          "ename": "TypeError",
          "evalue": "TypeError: in typeassert, expected Float64, got Int64",
          "traceback": [
            "TypeError: in typeassert, expected Float64, got Int64",
            "",
            "Stacktrace:",
            " [1] top-level scope at In[6]:1"
          ]
        }
      ]
    },
    {
      "cell_type": "markdown",
      "metadata": {
        "colab_type": "text",
        "id": "CySLWPn93t6t"
      },
      "source": [
        "### 函式 (function)"
      ]
    },
    {
      "cell_type": "markdown",
      "metadata": {
        "colab_type": "text",
        "id": "OI9OlG7A3t6u"
      },
      "source": [
        "若宣告函式回傳型別的話, 回傳值會進行轉型為指定的型別, 若無法轉型的話則會產生錯誤."
      ]
    },
    {
      "cell_type": "code",
      "metadata": {
        "colab_type": "code",
        "id": "NMNmsBWD3t6v",
        "outputId": "4536c4ad-728a-4707-9ef5-ba8109943799",
        "scrolled": true,
        "colab": {}
      },
      "source": [
        "function foo()::Float64\n",
        "    return 2 / 2\n",
        "end\n",
        "\n",
        "foo()"
      ],
      "execution_count": 0,
      "outputs": [
        {
          "output_type": "execute_result",
          "data": {
            "text/plain": [
              "1.0"
            ]
          },
          "metadata": {
            "tags": []
          },
          "execution_count": 7
        }
      ]
    },
    {
      "cell_type": "markdown",
      "metadata": {
        "colab_type": "text",
        "id": "ZEjACAyK3t61"
      },
      "source": [
        "## 2. 常用函式與型別階層\n",
        "\n",
        "下圖為 `Number` 及其子型別，`Any` 為所有型別的父型別。\n",
        "\n",
        "![](Julia_Number.png)\n",
        "\n",
        "呼叫 `supertype()` 函式查看某一型別的父型別."
      ]
    },
    {
      "cell_type": "code",
      "metadata": {
        "colab_type": "code",
        "id": "f2Bv_USs3t63",
        "outputId": "2a632164-487f-46b6-e9e8-e54a0edb2124",
        "colab": {}
      },
      "source": [
        "supertype(Real)"
      ],
      "execution_count": 0,
      "outputs": [
        {
          "output_type": "execute_result",
          "data": {
            "text/plain": [
              "Number"
            ]
          },
          "metadata": {
            "tags": []
          },
          "execution_count": 8
        }
      ]
    },
    {
      "cell_type": "markdown",
      "metadata": {
        "colab_type": "text",
        "id": "btJdVrj23t69"
      },
      "source": [
        "呼叫 `subtypes()` 函式查看某一型別的子型別."
      ]
    },
    {
      "cell_type": "code",
      "metadata": {
        "colab_type": "code",
        "id": "z-NxwuGn3t6_",
        "outputId": "199dd9ce-ecb3-48b5-ade8-a397d061fc5d",
        "colab": {}
      },
      "source": [
        "subtypes(Number)"
      ],
      "execution_count": 0,
      "outputs": [
        {
          "output_type": "execute_result",
          "data": {
            "text/plain": [
              "2-element Array{Any,1}:\n",
              " Complex\n",
              " Real   "
            ]
          },
          "metadata": {
            "tags": []
          },
          "execution_count": 9
        }
      ]
    },
    {
      "cell_type": "markdown",
      "metadata": {
        "colab_type": "text",
        "id": "EaUqnv__3t7O"
      },
      "source": [
        "型別的父、子關係，是使用 `<:` 與 `>:` 運算子來指定。\n",
        "\n",
        "查看型別之間是否為父子關係。"
      ]
    },
    {
      "cell_type": "code",
      "metadata": {
        "colab_type": "code",
        "id": "aToWcH_K3t7Q",
        "outputId": "f94898da-e24a-4bc6-d03f-e439e27ef80c",
        "colab": {}
      },
      "source": [
        "<:(Integer, Number)"
      ],
      "execution_count": 0,
      "outputs": [
        {
          "output_type": "execute_result",
          "data": {
            "text/plain": [
              "true"
            ]
          },
          "metadata": {
            "tags": []
          },
          "execution_count": 10
        }
      ]
    },
    {
      "cell_type": "code",
      "metadata": {
        "colab_type": "code",
        "id": "InW0fpPq3t7a",
        "outputId": "d0d3dc6b-9c96-439f-fbc3-cb7035e31637",
        "colab": {}
      },
      "source": [
        "# 也可以直接使用運算子\n",
        "Integer <: AbstractFloat"
      ],
      "execution_count": 0,
      "outputs": [
        {
          "output_type": "execute_result",
          "data": {
            "text/plain": [
              "false"
            ]
          },
          "metadata": {
            "tags": []
          },
          "execution_count": 11
        }
      ]
    },
    {
      "cell_type": "code",
      "metadata": {
        "colab_type": "code",
        "id": "FW-6AnrV3t7g",
        "outputId": "8122d539-edc7-460c-ce0a-d9542d4d4894",
        "colab": {}
      },
      "source": [
        "# Integer 也是 Int64 的父型別\n",
        "Integer >: Int64"
      ],
      "execution_count": 0,
      "outputs": [
        {
          "output_type": "execute_result",
          "data": {
            "text/plain": [
              "true"
            ]
          },
          "metadata": {
            "tags": []
          },
          "execution_count": 12
        }
      ]
    },
    {
      "cell_type": "markdown",
      "metadata": {
        "colab_type": "text",
        "id": "yE9mVq5u3t7n"
      },
      "source": [
        "## 3. 抽象型別 (Abstract Type)\n",
        "\n",
        "抽象型別有幾個特性：\n",
        "- 無法被實例化 (Instantiate)\n",
        "- 抽象是可以延伸的, 可以有多層次\n",
        "- 可以運用抽象型別來撰寫泛用 (generic) 函式，以做為函式的基本行為 (behavior)\n",
        "\n",
        "抽象型別的最上層是 `Any`, 也是所有型別的最上層父型別; 抽象型別的最下層則是 `Union{}`, 也是所有型別的子型別.\n",
        "\n",
        "以 `Number` 型別為例, 可以看到其為所有數值型別的父型別, 而且是抽象型別."
      ]
    },
    {
      "cell_type": "code",
      "metadata": {
        "colab_type": "code",
        "id": "l3YFByDU3t7o",
        "outputId": "e378eb27-d68d-42f2-a7c7-64904bede058",
        "colab": {}
      },
      "source": [
        "? Number"
      ],
      "execution_count": 0,
      "outputs": [
        {
          "output_type": "stream",
          "text": [
            "search: \u001b[0m\u001b[1mN\u001b[22m\u001b[0m\u001b[1mu\u001b[22m\u001b[0m\u001b[1mm\u001b[22m\u001b[0m\u001b[1mb\u001b[22m\u001b[0m\u001b[1me\u001b[22m\u001b[0m\u001b[1mr\u001b[22m Li\u001b[0m\u001b[1mn\u001b[22meN\u001b[0m\u001b[1mu\u001b[22m\u001b[0m\u001b[1mm\u001b[22m\u001b[0m\u001b[1mb\u001b[22m\u001b[0m\u001b[1me\u001b[22m\u001b[0m\u001b[1mr\u001b[22mNode Versio\u001b[0m\u001b[1mn\u001b[22mN\u001b[0m\u001b[1mu\u001b[22m\u001b[0m\u001b[1mm\u001b[22m\u001b[0m\u001b[1mb\u001b[22m\u001b[0m\u001b[1me\u001b[22m\u001b[0m\u001b[1mr\u001b[22m\n",
            "\n"
          ],
          "name": "stdout"
        },
        {
          "output_type": "execute_result",
          "data": {
            "text/latex": "\\begin{verbatim}\nNumber\n\\end{verbatim}\nAbstract supertype for all number types.\n\n",
            "text/markdown": "```\nNumber\n```\n\nAbstract supertype for all number types.\n",
            "text/plain": [
              "\u001b[36m  Number\u001b[39m\n",
              "\n",
              "  Abstract supertype for all number types."
            ]
          },
          "metadata": {
            "tags": []
          },
          "execution_count": 13
        }
      ]
    },
    {
      "cell_type": "markdown",
      "metadata": {
        "colab_type": "text",
        "id": "F4GQItGE3t7u"
      },
      "source": [
        "### 抽象型別的宣告\n",
        "\n",
        "`abstract type <<name>> end`\n",
        "\n",
        "宣告時可使用 `<:` 運算子指定其父型別. 如果沒有指定的話, 則父型別為 `Any`.\n",
        "\n",
        "`abstract type <<name>> <: <<supertype>> end`"
      ]
    },
    {
      "cell_type": "code",
      "metadata": {
        "colab_type": "code",
        "id": "CNSBNdDT3t71",
        "colab": {}
      },
      "source": [
        "abstract type YetAnotherNumber <: Number end"
      ],
      "execution_count": 0,
      "outputs": []
    },
    {
      "cell_type": "markdown",
      "metadata": {
        "colab_type": "text",
        "id": "UC_tb5Z-3t75"
      },
      "source": [
        "下列範例是當函式沒有指定型別時其型別為抽象型別 `Any`, 傳入整數引數 (argument) 值時, Julia 會內部定義並編譯符合整數引數的 Method 並執行, 所以仍然可以正確地計算出整數之回傳值."
      ]
    },
    {
      "cell_type": "code",
      "metadata": {
        "colab_type": "code",
        "id": "Is9sdEQj3t77",
        "outputId": "b40ce6ac-51b0-48e7-9699-106544dae4a7",
        "colab": {}
      },
      "source": [
        "function xyplus(x, y)\n",
        "    x + y\n",
        "end"
      ],
      "execution_count": 0,
      "outputs": [
        {
          "output_type": "execute_result",
          "data": {
            "text/plain": [
              "xyplus (generic function with 1 method)"
            ]
          },
          "metadata": {
            "tags": []
          },
          "execution_count": 15
        }
      ]
    },
    {
      "cell_type": "code",
      "metadata": {
        "colab_type": "code",
        "id": "7MTdv0x-3t8C",
        "outputId": "6d4c5479-d654-4fce-edb0-0f74925b5263",
        "colab": {}
      },
      "source": [
        "xyplus(2, 5)"
      ],
      "execution_count": 0,
      "outputs": [
        {
          "output_type": "execute_result",
          "data": {
            "text/plain": [
              "7"
            ]
          },
          "metadata": {
            "tags": []
          },
          "execution_count": 16
        }
      ]
    },
    {
      "cell_type": "markdown",
      "metadata": {
        "colab_type": "text",
        "id": "z2dk-wJA3t8S"
      },
      "source": [
        "## 4. 原始型別 (Primitive Type)\n",
        "\n",
        "### 原始型別的宣告\n",
        "\n",
        "`primitive type <<name>> <<bits>> end`\n",
        "\n",
        "宣告時可使用 `<:` 運算子指定其父型別. 如果沒有指定的話, 則父型別為 `Any`.\n",
        "\n",
        "`primitive type <<name>> <: <<supertype>> <<bits>> end`\n",
        "\n",
        "bits 數字是指定型別需要的儲存空間.\n",
        "\n",
        "範例: Int64 的宣告\n",
        "\n",
        "`primitive type Int64 <: Signed 64 end`"
      ]
    },
    {
      "cell_type": "code",
      "metadata": {
        "colab_type": "code",
        "id": "-dX88bRm3t8g",
        "colab": {}
      },
      "source": [
        "primitive type AnotherNumericType <: Signed 64 end"
      ],
      "execution_count": 0,
      "outputs": []
    },
    {
      "cell_type": "markdown",
      "metadata": {
        "colab_type": "text",
        "id": "tgPRxwWt3t8n"
      },
      "source": [
        "## 5. 複合型別 (Composite Type)\n",
        "\n",
        "複合型別是用關鍵字 `struct` 來進行宣告，成員可以指定型別或不指定，不指定即為 `Any` 型別；成員的型別也可以是另一個複合型別。\n",
        "\n",
        "`struct` 可分為可變 (mutable) 與不可變的，其差異在於在實例化 (instantiate) 之後 mutable struct 的成員值是可以被改變的，而不可變複合型別成員值不可以被改變，嘗試改變時會產生錯誤。\n",
        "\n",
        "下例為宣告宣告不可變的複合型別。"
      ]
    },
    {
      "cell_type": "code",
      "metadata": {
        "colab_type": "code",
        "id": "zk-84qFc3t8u",
        "colab": {}
      },
      "source": [
        "struct Bar\n",
        "    m::Int64\n",
        "    n::Float64\n",
        "end"
      ],
      "execution_count": 0,
      "outputs": []
    },
    {
      "cell_type": "code",
      "metadata": {
        "colab_type": "code",
        "id": "FB8UuBkH3t81",
        "colab": {}
      },
      "source": [
        "struct Foo\n",
        "    aa::Bar\n",
        "    bb::Int\n",
        "    cc::Float64\n",
        "end"
      ],
      "execution_count": 0,
      "outputs": []
    },
    {
      "cell_type": "markdown",
      "metadata": {
        "colab_type": "text",
        "id": "lPQwfAzf3t87"
      },
      "source": [
        "呼叫 `dump()` 函式可以查看複合型別的內部結構。"
      ]
    },
    {
      "cell_type": "code",
      "metadata": {
        "colab_type": "code",
        "id": "ozdOVN7R3t89",
        "outputId": "b025d1db-aec0-486c-c626-a1acc58bbe48",
        "colab": {}
      },
      "source": [
        "dump(Foo)"
      ],
      "execution_count": 0,
      "outputs": [
        {
          "output_type": "stream",
          "text": [
            "Foo <: Any\n",
            "  aa::Bar\n",
            "  bb::Int64\n",
            "  cc::Float64\n"
          ],
          "name": "stdout"
        }
      ]
    },
    {
      "cell_type": "markdown",
      "metadata": {
        "colab_type": "text",
        "id": "0VpgRuTZ3t9H"
      },
      "source": [
        "在複合型別內的複合型別成員透過下列語法存取。"
      ]
    },
    {
      "cell_type": "code",
      "metadata": {
        "colab_type": "code",
        "id": "4xtvXaIs3t9I",
        "outputId": "4a99901f-f9a0-4192-c7fe-680b841533ec",
        "colab": {}
      },
      "source": [
        "fieldnames(Foo)"
      ],
      "execution_count": 0,
      "outputs": [
        {
          "output_type": "execute_result",
          "data": {
            "text/plain": [
              "(:aa, :bb, :cc)"
            ]
          },
          "metadata": {
            "tags": []
          },
          "execution_count": 21
        }
      ]
    },
    {
      "cell_type": "markdown",
      "metadata": {
        "colab_type": "text",
        "id": "W4xueQQD3t9M"
      },
      "source": [
        "可變的複合型別，在宣告時使用 `mutable` 保留字。"
      ]
    },
    {
      "cell_type": "code",
      "metadata": {
        "colab_type": "code",
        "id": "HIWiwD5G3t9N",
        "colab": {}
      },
      "source": [
        "mutable struct Foo2\n",
        "    aa::Bar\n",
        "    bb::Int\n",
        "    cc::Float64\n",
        "end"
      ],
      "execution_count": 0,
      "outputs": []
    },
    {
      "cell_type": "code",
      "metadata": {
        "colab_type": "code",
        "id": "48gvfAuN3t9R",
        "outputId": "71b38acc-3679-4677-dbfa-77cd166be40b",
        "colab": {}
      },
      "source": [
        "b2 = Foo2(Bar(1, 2.0), 3, 4.0)"
      ],
      "execution_count": 0,
      "outputs": [
        {
          "output_type": "execute_result",
          "data": {
            "text/plain": [
              "Foo2(Bar(1, 2.0), 3, 4.0)"
            ]
          },
          "metadata": {
            "tags": []
          },
          "execution_count": 23
        }
      ]
    },
    {
      "cell_type": "code",
      "metadata": {
        "colab_type": "code",
        "id": "L_cRFBlB3t9V",
        "outputId": "24d4849b-faa4-4310-c32a-da5cc01349f2",
        "colab": {}
      },
      "source": [
        "b2.bb = 2"
      ],
      "execution_count": 0,
      "outputs": [
        {
          "output_type": "execute_result",
          "data": {
            "text/plain": [
              "2"
            ]
          },
          "metadata": {
            "tags": []
          },
          "execution_count": 24
        }
      ]
    },
    {
      "cell_type": "markdown",
      "metadata": {
        "colab_type": "text",
        "id": "gkMeZ81i3t9t"
      },
      "source": [
        "複合型別的成員是可以被存取的，例如："
      ]
    },
    {
      "cell_type": "code",
      "metadata": {
        "colab_type": "code",
        "id": "lxNfa2vH3t9v",
        "outputId": "1efd184f-bae3-4676-e17e-0bb9c9e6147e",
        "colab": {}
      },
      "source": [
        "b2.aa"
      ],
      "execution_count": 0,
      "outputs": [
        {
          "output_type": "execute_result",
          "data": {
            "text/plain": [
              "Bar(1, 2.0)"
            ]
          },
          "metadata": {
            "tags": []
          },
          "execution_count": 25
        }
      ]
    },
    {
      "cell_type": "markdown",
      "metadata": {
        "colab_type": "text",
        "id": "yXTqUlYy3t93"
      },
      "source": [
        "在複合型別內的複合型別成員透過下列語法存取。"
      ]
    },
    {
      "cell_type": "code",
      "metadata": {
        "colab_type": "code",
        "id": "e1Oqhhbo3t94",
        "outputId": "d16a788d-bac2-43ae-fd91-1189e578f359",
        "colab": {}
      },
      "source": [
        "b2.aa.n"
      ],
      "execution_count": 0,
      "outputs": [
        {
          "output_type": "execute_result",
          "data": {
            "text/plain": [
              "2.0"
            ]
          },
          "metadata": {
            "tags": []
          },
          "execution_count": 26
        }
      ]
    },
    {
      "cell_type": "markdown",
      "metadata": {
        "colab_type": "text",
        "id": "8kJyvnzK3t-R"
      },
      "source": [
        "## 6. 型別聯合 (Union)\n",
        "\n",
        "型別聯合是透過 Union 的方式，可以讓物件的型別限定在數個指定的型別之內，但又不需要使用更高層級或是抽象型別來宣告，例如：下列語法示範了，如果我們希望型別可能是 Int64、Int32、或是 Float64 時，可以透過 Union 來達到。"
      ]
    },
    {
      "cell_type": "code",
      "metadata": {
        "colab_type": "code",
        "id": "HBk-Ufsz3t-S",
        "outputId": "3c67d993-8f39-4229-fafc-846a65b1cc3c",
        "colab": {}
      },
      "source": [
        "Int64OrInt32OrFloat64 = Union{Int64, Float64, Int32}"
      ],
      "execution_count": 0,
      "outputs": [
        {
          "output_type": "execute_result",
          "data": {
            "text/plain": [
              "Union{Float64, Int32, Int64}"
            ]
          },
          "metadata": {
            "tags": []
          },
          "execution_count": 27
        }
      ]
    },
    {
      "cell_type": "code",
      "metadata": {
        "colab_type": "code",
        "id": "_jSOvEUI3t-Z",
        "outputId": "f64c6a6f-3d3a-4888-9eda-a771c009df98",
        "colab": {}
      },
      "source": [
        "Int64OrInt32OrFloat64(1)"
      ],
      "execution_count": 0,
      "outputs": [
        {
          "output_type": "execute_result",
          "data": {
            "text/plain": [
              "1"
            ]
          },
          "metadata": {
            "tags": []
          },
          "execution_count": 28
        }
      ]
    },
    {
      "cell_type": "markdown",
      "metadata": {
        "colab_type": "text",
        "id": "j7aJIXGe3t-q"
      },
      "source": [
        "如果型別不在 Union 中，則會出現 `TypeError`。"
      ]
    },
    {
      "cell_type": "code",
      "metadata": {
        "colab_type": "code",
        "id": "GXzYlH5J3t-r",
        "outputId": "e3875c95-ee15-4698-9b65-9a9ce2ef2f66",
        "colab": {}
      },
      "source": [
        "a = Int8(1)\n",
        "a::Int64OrInt32OrFloat64"
      ],
      "execution_count": 0,
      "outputs": [
        {
          "output_type": "error",
          "ename": "TypeError",
          "evalue": "TypeError: in typeassert, expected Union{Float64, Int32, Int64}, got Int8",
          "traceback": [
            "TypeError: in typeassert, expected Union{Float64, Int32, Int64}, got Int8",
            "",
            "Stacktrace:",
            " [1] top-level scope at In[29]:2"
          ]
        }
      ]
    },
    {
      "cell_type": "code",
      "metadata": {
        "colab_type": "code",
        "id": "l0pRYL2V3t-y",
        "outputId": "694e8e6f-9c5a-40b2-db1b-8dca3f78fdbc",
        "colab": {}
      },
      "source": [
        "typeof(Int64OrInt32OrFloat64)"
      ],
      "execution_count": 0,
      "outputs": [
        {
          "output_type": "execute_result",
          "data": {
            "text/plain": [
              "Union"
            ]
          },
          "metadata": {
            "tags": []
          },
          "execution_count": 30
        }
      ]
    },
    {
      "cell_type": "markdown",
      "metadata": {
        "colab_type": "text",
        "id": "YJM2fQA73t-7"
      },
      "source": [
        "可以看到 Union 的型別是 `DataType`。"
      ]
    },
    {
      "cell_type": "code",
      "metadata": {
        "colab_type": "code",
        "id": "fX55xeG43t-8",
        "outputId": "a8f0d433-ab6d-4c41-d45a-bcb565956df0",
        "colab": {}
      },
      "source": [
        "typeof(Union)"
      ],
      "execution_count": 0,
      "outputs": [
        {
          "output_type": "execute_result",
          "data": {
            "text/plain": [
              "DataType"
            ]
          },
          "metadata": {
            "tags": []
          },
          "execution_count": 31
        }
      ]
    },
    {
      "cell_type": "markdown",
      "metadata": {
        "colab_type": "text",
        "id": "TUNsKZS93t_H"
      },
      "source": [
        "其父型別為 `Type{T}`，是參數化型別。"
      ]
    },
    {
      "cell_type": "code",
      "metadata": {
        "colab_type": "code",
        "id": "NfNv5Uj63t_I",
        "outputId": "634c2ec3-dbf5-4692-ab2b-ea22f6620b8f",
        "colab": {}
      },
      "source": [
        "supertype(Union)"
      ],
      "execution_count": 0,
      "outputs": [
        {
          "output_type": "execute_result",
          "data": {
            "text/plain": [
              "Type{T}"
            ]
          },
          "metadata": {
            "tags": []
          },
          "execution_count": 32
        }
      ]
    },
    {
      "cell_type": "markdown",
      "metadata": {
        "colab_type": "text",
        "id": "dhtA33xq3t_N"
      },
      "source": [
        "如果 `Union` 內參數為空，即 `Union{}`，則其為特殊型別，是最底層的型別，是所有型別的子型別。"
      ]
    },
    {
      "cell_type": "code",
      "metadata": {
        "colab_type": "code",
        "id": "w-48WY2j3t_t",
        "outputId": "d8b79033-1d36-4760-d823-c40bcf09c68e",
        "colab": {}
      },
      "source": [
        "typeof(Union{})"
      ],
      "execution_count": 0,
      "outputs": [
        {
          "output_type": "execute_result",
          "data": {
            "text/plain": [
              "Core.TypeofBottom"
            ]
          },
          "metadata": {
            "tags": []
          },
          "execution_count": 33
        }
      ]
    },
    {
      "cell_type": "code",
      "metadata": {
        "colab_type": "code",
        "id": "nrXf3S_13uAA",
        "outputId": "c54fea18-83a1-4581-f65f-7da7d3778924",
        "colab": {}
      },
      "source": [
        "subtypes(Union{})"
      ],
      "execution_count": 0,
      "outputs": [
        {
          "output_type": "execute_result",
          "data": {
            "text/plain": [
              "0-element Array{Type,1}"
            ]
          },
          "metadata": {
            "tags": []
          },
          "execution_count": 34
        }
      ]
    },
    {
      "cell_type": "markdown",
      "metadata": {
        "colab_type": "text",
        "id": "isxvuM0Q3uBJ"
      },
      "source": [
        "## 7. 型別參數化 (Parametric Types)\n",
        "\n",
        "型別參數化可以彈性地型別，而不影響程式的彈性及重覆使用性，也能降低程式的複雜度。型別參數化分為兩個部分介紹：\n",
        "- 複合型別參數化\n",
        "- 抽象型別參數化"
      ]
    },
    {
      "cell_type": "markdown",
      "metadata": {
        "colab_type": "text",
        "id": "fdf3iFxH3uBK"
      },
      "source": [
        "### 複合型別參數化\n",
        "\n",
        "複合型別參數化的宣告語法：`struct <<name>>{T}`"
      ]
    },
    {
      "cell_type": "code",
      "metadata": {
        "colab_type": "code",
        "id": "LCw_ccBK3uBL",
        "colab": {}
      },
      "source": [
        "struct Point{T}\n",
        "    x::T\n",
        "end"
      ],
      "execution_count": 0,
      "outputs": []
    },
    {
      "cell_type": "markdown",
      "metadata": {
        "colab_type": "text",
        "id": "6I3OrpSt3uBi"
      },
      "source": [
        "### 抽象型別參數化\n",
        "\n",
        "下例是抽象型別 `Pointy` 參數化，而 `Pointy` 有三個子型別，分別代表一維、二維、三維座標型別而有不同的成員。型別階層如下圖：\n",
        "\n",
        "![](pointy.png)\n",
        "\n",
        "抽象化型別參數化的宣告語法：`abstract type <<name>>:{T} end`"
      ]
    },
    {
      "cell_type": "code",
      "metadata": {
        "colab_type": "code",
        "id": "duXj0PMu3uBk",
        "colab": {}
      },
      "source": [
        "abstract type Pointy{T} end"
      ],
      "execution_count": 0,
      "outputs": []
    },
    {
      "cell_type": "code",
      "metadata": {
        "colab_type": "code",
        "id": "tlbzbJRa3uBs",
        "colab": {}
      },
      "source": [
        "struct Point1D{T} <: Pointy{T}\n",
        "    x::T\n",
        "end"
      ],
      "execution_count": 0,
      "outputs": []
    },
    {
      "cell_type": "code",
      "metadata": {
        "colab_type": "code",
        "id": "3L3HfWPM3uBw",
        "colab": {}
      },
      "source": [
        "struct Point2D{T} <: Pointy{T}\n",
        "    x::T\n",
        "    y::T\n",
        "end"
      ],
      "execution_count": 0,
      "outputs": []
    },
    {
      "cell_type": "code",
      "metadata": {
        "colab_type": "code",
        "id": "CVFCmUMb3uCj",
        "colab": {}
      },
      "source": [
        "struct Point3D{T} <: Pointy{T}\n",
        "    x::T\n",
        "    y::T\n",
        "    z::T\n",
        "end"
      ],
      "execution_count": 0,
      "outputs": []
    },
    {
      "cell_type": "markdown",
      "metadata": {
        "colab_type": "text",
        "id": "BjHYHeRx3uC5"
      },
      "source": [
        "函式之引數宣告為抽象型別，在函式內判斷傳入的複合型別為何，並印出傳入的成員值。\n",
        "\n",
        "透過 `isa()` 函式判斷型別，若型別相同則為 `true`，若不同則為 `false`。"
      ]
    },
    {
      "cell_type": "code",
      "metadata": {
        "colab_type": "code",
        "id": "tz6MOWFH3uC7",
        "outputId": "70a4c246-9859-47a5-c7a6-a0d3e0a66340",
        "colab": {}
      },
      "source": [
        "function print_members(p::Pointy)\n",
        "    if isa(p, Point1D)\n",
        "        println(p.x)\n",
        "    elseif isa(p, Point2D)\n",
        "        println(p.x, \" \", p.y)\n",
        "    else\n",
        "        println(p.x, \" \", p.y, \" \", p.z)\n",
        "    end\n",
        "end"
      ],
      "execution_count": 0,
      "outputs": [
        {
          "output_type": "execute_result",
          "data": {
            "text/plain": [
              "print_members (generic function with 1 method)"
            ]
          },
          "metadata": {
            "tags": []
          },
          "execution_count": 40
        }
      ]
    },
    {
      "cell_type": "code",
      "metadata": {
        "colab_type": "code",
        "id": "CaUHOGEV3uDC",
        "outputId": "863d20de-54eb-41ca-e4b0-e83696a1be0b",
        "colab": {}
      },
      "source": [
        "p2 = Point2D(1.0, 2.0)"
      ],
      "execution_count": 0,
      "outputs": [
        {
          "output_type": "execute_result",
          "data": {
            "text/plain": [
              "Point2D{Float64}(1.0, 2.0)"
            ]
          },
          "metadata": {
            "tags": []
          },
          "execution_count": 41
        }
      ]
    },
    {
      "cell_type": "code",
      "metadata": {
        "colab_type": "code",
        "id": "Zmosc9KC3uD0",
        "outputId": "bb086b82-caa2-44b7-c685-225863081d6e",
        "colab": {}
      },
      "source": [
        "print_members(p2)"
      ],
      "execution_count": 0,
      "outputs": [
        {
          "output_type": "stream",
          "text": [
            "1.0 2.0\n"
          ],
          "name": "stdout"
        }
      ]
    },
    {
      "cell_type": "code",
      "metadata": {
        "colab_type": "code",
        "id": "8G_kE0I03uD5",
        "colab": {}
      },
      "source": [
        ""
      ],
      "execution_count": 0,
      "outputs": []
    }
  ]
}