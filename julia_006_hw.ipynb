{
  "nbformat": 4,
  "nbformat_minor": 0,
  "metadata": {
    "colab": {
      "name": "julia_006_hw.ipynb",
      "provenance": [],
      "collapsed_sections": [],
      "toc_visible": true
    },
    "kernelspec": {
      "display_name": "Julia 1.2.0",
      "language": "julia",
      "name": "julia-1.2"
    },
    "language_info": {
      "file_extension": ".jl",
      "mimetype": "application/julia",
      "name": "julia",
      "version": "1.2.0"
    }
  },
  "cells": [
    {
      "cell_type": "code",
      "metadata": {
        "id": "eTX4Oe08FNaF",
        "colab_type": "code",
        "colab": {
          "base_uri": "https://localhost:8080/",
          "height": 340
        },
        "outputId": "8d9f94a3-9c0f-4469-90a0-1416466e7bbd"
      },
      "source": [
        "%%shell\n",
        "if ! command -v julia 3>&1 > /dev/null\n",
        "then\n",
        "    wget 'https://julialang-s3.julialang.org/bin/linux/x64/1.3/julia-1.3.1-linux-x86_64.tar.gz' -O julia.tar.gz\n",
        "    tar -x -f julia.tar.gz -C /usr/local --strip-components 1\n",
        "    rm julia.tar.gz\n",
        "fi\n",
        "julia -e 'using Pkg; pkg\"add IJulia; add BenchmarkTools; add CuArrays; precompile;\"'\n",
        "echo 'Done'"
      ],
      "execution_count": 1,
      "outputs": [
        {
          "output_type": "stream",
          "text": [
            "  Updating registry at `~/.julia/registries/General`\n",
            "  Updating git-repo `https://github.com/JuliaRegistries/General.git`\n",
            "\u001b[?25l\u001b[2K\u001b[?25h Resolving package versions...\n",
            "  Updating `~/.julia/environments/v1.3/Project.toml`\n",
            " [no changes]\n",
            "  Updating `~/.julia/environments/v1.3/Manifest.toml`\n",
            " [no changes]\n",
            " Resolving package versions...\n",
            "  Updating `~/.julia/environments/v1.3/Project.toml`\n",
            " [no changes]\n",
            "  Updating `~/.julia/environments/v1.3/Manifest.toml`\n",
            " [no changes]\n",
            " Resolving package versions...\n",
            "  Updating `~/.julia/environments/v1.3/Project.toml`\n",
            " [no changes]\n",
            "  Updating `~/.julia/environments/v1.3/Manifest.toml`\n",
            " [no changes]\n",
            "Precompiling project...\n",
            "Done\n"
          ],
          "name": "stdout"
        },
        {
          "output_type": "execute_result",
          "data": {
            "text/plain": [
              ""
            ]
          },
          "metadata": {
            "tags": []
          },
          "execution_count": 1
        }
      ]
    },
    {
      "cell_type": "markdown",
      "metadata": {
        "colab_type": "text",
        "id": "xGRRA-qCa1ug"
      },
      "source": [
        "# Julia 函式 (Functions)\n",
        "\n",
        "## 作業 006：身高體重指數 (Body Mass Index; BMI) 計算機\n",
        "\n",
        "身高體重指數 (Body Mass Index; BMI) 是我們常用來衡量健康的指標之一，例如肥胖是否為某一種疾病的致病原因。請用 Julia 函式撰寫 BMI 計算公式，並呼叫函式計算 BMI 值。\n",
        "\n",
        "BMI 計算公式：\n",
        "$$BMI=\\frac{體重}{身高^2}$$\n",
        "其中體重的單位為公斤，身高的單位為公尺。"
      ]
    },
    {
      "cell_type": "code",
      "metadata": {
        "id": "JGj9jPG6IaTy",
        "colab_type": "code",
        "colab": {}
      },
      "source": [
        "# 定義函式，並在函式中計算 BMI\n",
        "foo(x, y) = x / y^2;"
      ],
      "execution_count": 0,
      "outputs": []
    },
    {
      "cell_type": "code",
      "metadata": {
        "colab_type": "code",
        "id": "HjjZi9l8a1up",
        "colab": {}
      },
      "source": [
        "# 呼叫上面定義的函式，得到計算出來的 BMI\n",
        "foo(x, y)"
      ],
      "execution_count": 0,
      "outputs": []
    },
    {
      "cell_type": "code",
      "metadata": {
        "colab_type": "code",
        "id": "I1Ap6yqNa1uw",
        "colab": {}
      },
      "source": [
        "# 可再次呼叫上面定義的函式，計算其他人的 BMI\n"
      ],
      "execution_count": 0,
      "outputs": []
    },
    {
      "cell_type": "code",
      "metadata": {
        "colab_type": "code",
        "id": "GjUEXOega1u1",
        "colab": {
          "base_uri": "https://localhost:8080/",
          "height": 68
        },
        "outputId": "847fa980-bbc6-407e-f181-a252c63176e3"
      },
      "source": [
        "!julia -e '                         \\\n",
        "foo(x, y) = x / y^2;                \\\n",
        "x = 50; y = 180;                    \\\n",
        "println(\"身高 = $x 公斤\" ) ;         \\\n",
        "println(\"體重 = $y 公分\" ) ;         \\\n",
        "println(\"BMI = \", foo(x, y/100)) ;  \\\n",
        "'"
      ],
      "execution_count": 1,
      "outputs": [
        {
          "output_type": "stream",
          "text": [
            "身高 = 50 公斤\n",
            "體重 = 180 公分\n",
            "BMI = 15.432098765432098\n"
          ],
          "name": "stdout"
        }
      ]
    },
    {
      "cell_type": "code",
      "metadata": {
        "id": "ruSsypiQJCIK",
        "colab_type": "code",
        "colab": {
          "base_uri": "https://localhost:8080/",
          "height": 34
        },
        "outputId": "b8838170-d33b-4b55-d947-183272a127eb"
      },
      "source": [
        "!julia -e ' x = 10; print(\"身高 = $x 公斤\" );'"
      ],
      "execution_count": 3,
      "outputs": [
        {
          "output_type": "stream",
          "text": [
            "身高 = 10 公斤"
          ],
          "name": "stdout"
        }
      ]
    }
  ]
}