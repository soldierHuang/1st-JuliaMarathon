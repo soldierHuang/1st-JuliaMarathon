{
  "nbformat": 4,
  "nbformat_minor": 0,
  "metadata": {
    "kernelspec": {
      "display_name": "Julia 1.2.0",
      "language": "julia",
      "name": "julia-1.2"
    },
    "language_info": {
      "file_extension": ".jl",
      "mimetype": "application/julia",
      "name": "julia",
      "version": "1.2.0"
    },
    "colab": {
      "name": "julia_008_hw.ipynb",
      "provenance": []
    }
  },
  "cells": [
    {
      "cell_type": "code",
      "metadata": {
        "id": "4eyXBu8Suxc2",
        "colab_type": "code",
        "colab": {
          "base_uri": "https://localhost:8080/",
          "height": 340
        },
        "outputId": "2e550f5f-5921-464a-b4a4-c31466ff77ac"
      },
      "source": [
        "%%shell\n",
        "if ! command -v julia 3>&1 > /dev/null\n",
        "then\n",
        "    wget 'https://julialang-s3.julialang.org/bin/linux/x64/1.3/julia-1.3.1-linux-x86_64.tar.gz' -O julia.tar.gz\n",
        "    tar -x -f julia.tar.gz -C /usr/local --strip-components 1\n",
        "    rm julia.tar.gz\n",
        "fi\n",
        "julia -e 'using Pkg; pkg\"add IJulia; add BenchmarkTools; add CuArrays; precompile;\"'\n",
        "echo 'Done'"
      ],
      "execution_count": 1,
      "outputs": [
        {
          "output_type": "stream",
          "text": [
            "  Updating registry at `~/.julia/registries/General`\n",
            "  Updating git-repo `https://github.com/JuliaRegistries/General.git`\n",
            "\u001b[?25l\u001b[2K\u001b[?25h Resolving package versions...\n",
            "  Updating `~/.julia/environments/v1.3/Project.toml`\n",
            " [no changes]\n",
            "  Updating `~/.julia/environments/v1.3/Manifest.toml`\n",
            " [no changes]\n",
            " Resolving package versions...\n",
            "  Updating `~/.julia/environments/v1.3/Project.toml`\n",
            " [no changes]\n",
            "  Updating `~/.julia/environments/v1.3/Manifest.toml`\n",
            " [no changes]\n",
            " Resolving package versions...\n",
            "  Updating `~/.julia/environments/v1.3/Project.toml`\n",
            " [no changes]\n",
            "  Updating `~/.julia/environments/v1.3/Manifest.toml`\n",
            " [no changes]\n",
            "Precompiling project...\n",
            "Done\n"
          ],
          "name": "stdout"
        },
        {
          "output_type": "execute_result",
          "data": {
            "text/plain": [
              ""
            ]
          },
          "metadata": {
            "tags": []
          },
          "execution_count": 1
        }
      ]
    },
    {
      "cell_type": "markdown",
      "metadata": {
        "id": "_NEboZmtuGW7",
        "colab_type": "text"
      },
      "source": [
        "# Julia 字元 (Char) 與字串 (String)\n",
        "\n",
        "## Day 008 作業：讀取使用者輸入字串，並印出每個字元\n",
        "\n",
        "1. 使用 `readline()` 函式，讀取使用者輸入之字串。`readline()`是從 console 讀取使用者輸入的方式，讀進來的資料型別為字串，`readline()`的說明可參照官方文件 [Base.readline](https://docs.julialang.org/en/v1/base/io-network/#Base.readline)"
      ]
    },
    {
      "cell_type": "code",
      "metadata": {
        "id": "6EKo6iAivjvL",
        "colab_type": "code",
        "colab": {
          "base_uri": "https://localhost:8080/",
          "height": 51
        },
        "outputId": "4588ce3b-5b84-432c-ecaa-08b93241bbc6"
      },
      "source": [
        "'''\n",
        "str = readline()           # 請將註解取代為程式碼\n",
        "print(split(str,\"\"))       # 程式碼，印出字串中所有字元。\n",
        "'''\n",
        "\n",
        "\n",
        "!julia -e '\\\n",
        "str = readline()                          ;\\\n",
        "print(split(str,\"\"))                      ;\\'"
      ],
      "execution_count": 2,
      "outputs": [
        {
          "output_type": "stream",
          "text": [
            "hello\n",
            "SubString{String}[\"h\", \"e\", \"l\", \"l\", \"o\"]"
          ],
          "name": "stdout"
        }
      ]
    }
  ]
}