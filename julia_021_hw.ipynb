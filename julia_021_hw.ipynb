{
  "nbformat": 4,
  "nbformat_minor": 0,
  "metadata": {
    "kernelspec": {
      "display_name": "Julia 1.3.1",
      "language": "julia",
      "name": "julia-1.3"
    },
    "language_info": {
      "file_extension": ".jl",
      "mimetype": "application/julia",
      "name": "julia",
      "version": "1.4.0"
    },
    "colab": {
      "name": "julia_021_hw.ipynb",
      "provenance": []
    }
  },
  "cells": [
    {
      "cell_type": "markdown",
      "metadata": {
        "id": "ZrI3A9jr0p6H",
        "colab_type": "text"
      },
      "source": [
        "# Julia 基礎圖表繪製：Gadfly 一維資料圖表\n",
        "\n",
        "## 作業 021"
      ]
    },
    {
      "cell_type": "markdown",
      "metadata": {
        "id": "TEqiuA4X0p6J",
        "colab_type": "text"
      },
      "source": [
        "1. 比較看看盒狀圖與 violin plot 在同樣的資料上分別展現資料的什麼特性。"
      ]
    },
    {
      "cell_type": "markdown",
      "metadata": {
        "id": "qXWrNX9o0rT_",
        "colab_type": "text"
      },
      "source": [
        "    箱形圖（Box-plot）又稱為盒須圖、盒式圖或箱線圖，是一種用作顯示一組數據分散情況資料的統計圖。\n",
        "\n",
        "![Box-plot](https://img-blog.csdn.net/20180202100032147?watermark/2/text/aHR0cDovL2Jsb2cuY3Nkbi5uZXQvYWM1NDAxMDE5Mjg=/font/5a6L5L2T/fontsize/400/fill/I0JBQkFCMA==/dissolve/70/gravity/SouthEast)\n",
        "\n",
        "\n",
        "\n",
        "\n",
        "---\n",
        "\n",
        "\n",
        "\n",
        "---\n",
        "\n",
        "\n",
        "\n",
        "---\n",
        "\n",
        "\n",
        "    小提琴圖(Violin Plot)用於顯示數據分佈及其概率密度。\n",
        "![Violin Plot](https://img-blog.csdn.net/20180202110951873?watermark/2/text/aHR0cDovL2Jsb2cuY3Nkbi5uZXQvYWM1NDAxMDE5Mjg=/font/5a6L5L2T/fontsize/400/fill/I0JBQkFCMA==/dissolve/70/gravity/SouthEast)\n",
        "\n"
      ]
    },
    {
      "cell_type": "markdown",
      "metadata": {
        "id": "CdWDNa8H0p6K",
        "colab_type": "text"
      },
      "source": [
        "2. 同樣的資料可以以條狀圖或是線圖繪製，思考兩者在表現資料上的特點。"
      ]
    },
    {
      "cell_type": "markdown",
      "metadata": {
        "id": "41VJ6-Ju2FjK",
        "colab_type": "text"
      },
      "source": [
        "     直條圖、橫條圖\n",
        "     一般適合比較各項目類別差異量或隨時間數量變化。數據之間利用量化或長度的圖形來呈現，例如，年度間每月降雨量情形，或者每季各項商品銷售量的高低差異。\n",
        "![bar chart](https://s3-ap-northeast-1.amazonaws.com/lazybusiness/data/renatu_98/excel-50/14-1.jpg)\n",
        "\n",
        "\n",
        "\n",
        "\n",
        "\n",
        "---\n",
        "\n",
        "\n",
        "\n",
        "---\n",
        "\n",
        "\n",
        "\n",
        "---\n",
        "\n",
        "\n",
        "\n",
        "      折線圖\n",
        "      一般適合用曲線或面積來展示，其目的在了解數據隨著時間而變化的趨勢發展。例如，進行投資時得先了解歷年來黃金價格趨勢，找出適合投資點。\n",
        "![line plot](https://s3-ap-northeast-1.amazonaws.com/lazybusiness/data/renatu_98/excel-50/14-11.jpg)\n",
        "\n"
      ]
    }
  ]
}