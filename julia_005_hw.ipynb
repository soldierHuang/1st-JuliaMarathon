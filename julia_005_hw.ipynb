{
  "nbformat": 4,
  "nbformat_minor": 0,
  "metadata": {
    "@webio": {
      "lastCommId": null,
      "lastKernelId": null
    },
    "colab": {
      "name": "julia_005_hw.ipynb",
      "provenance": [],
      "collapsed_sections": [],
      "toc_visible": true
    },
    "kernelspec": {
      "display_name": "Julia 1.2.0",
      "language": "julia",
      "name": "julia-1.2"
    },
    "language_info": {
      "file_extension": ".jl",
      "mimetype": "application/julia",
      "name": "julia",
      "version": "1.2.0"
    }
  },
  "cells": [
    {
      "cell_type": "code",
      "metadata": {
        "id": "-k5csXiHlbH8",
        "colab_type": "code",
        "outputId": "7314426f-2785-495a-8bf9-d9f9358a4092",
        "colab": {
          "base_uri": "https://localhost:8080/",
          "height": 374
        }
      },
      "source": [
        "%%shell\n",
        "if ! command -v julia 3>&1 > /dev/null\n",
        "then\n",
        "    wget 'https://julialang-s3.julialang.org/bin/linux/x64/1.3/julia-1.3.1-linux-x86_64.tar.gz' -O /tmp/julia.tar.gz\n",
        "    tar -x -f /tmp/julia.tar.gz -C /usr/local --strip-components 1\n",
        "    rm /tmp/julia.tar.gz\n",
        "fi\n",
        "julia -e 'using Pkg; pkg\"add IJulia; precompile; add BenchmarkTools; precompile; add CuArrays; precompile;\"'\n",
        "echo 'Done'"
      ],
      "execution_count": 1,
      "outputs": [
        {
          "output_type": "stream",
          "text": [
            "  Updating registry at `~/.julia/registries/General`\n",
            "  Updating git-repo `https://github.com/JuliaRegistries/General.git`\n",
            "\u001b[2K\u001b[?25h Resolving package versions...\n",
            "  Updating `~/.julia/environments/v1.3/Project.toml`\n",
            " [no changes]\n",
            "  Updating `~/.julia/environments/v1.3/Manifest.toml`\n",
            " [no changes]\n",
            "Precompiling project...\n",
            " Resolving package versions...\n",
            "  Updating `~/.julia/environments/v1.3/Project.toml`\n",
            " [no changes]\n",
            "  Updating `~/.julia/environments/v1.3/Manifest.toml`\n",
            " [no changes]\n",
            "Precompiling project...\n",
            " Resolving package versions...\n",
            "  Updating `~/.julia/environments/v1.3/Project.toml`\n",
            " [no changes]\n",
            "  Updating `~/.julia/environments/v1.3/Manifest.toml`\n",
            " [no changes]\n",
            "Precompiling project...\n",
            "Done\n"
          ],
          "name": "stdout"
        },
        {
          "output_type": "execute_result",
          "data": {
            "text/plain": [
              ""
            ]
          },
          "metadata": {
            "tags": []
          },
          "execution_count": 1
        }
      ]
    },
    {
      "cell_type": "markdown",
      "metadata": {
        "colab_type": "text",
        "id": "EDGcSU9RafSz"
      },
      "source": [
        "# Julia 變數 (Variables)、常數 (Constants) 與內建數學常數、與運算\n",
        "\n",
        "## Day 005 作業：利用蒙地卡羅方法，估算圓周率\n",
        "\n",
        "蒙地卡羅方法 (Monte Carlo Method) 也稱為統計類比方法，可透過隨機分布的特徵數轉化為求解問題的答案，例如隨機數出現的機率。利用蒙地卡羅方法，估算圓周率的方式是藉由輸入隨機數來計算圓面積的過程，計算出圓周率 $\\pi$。\n",
        "\n",
        "![](circle.png)\n",
        "\n",
        "假設有一個直徑長為 1 的圓形，要使用蒙地卡羅方法計算其面積，我們隨機塞入 N 個點到上面的正方形當中，有些點會落在圓形內而有些點會在圓形外，算出落在圓形內點的數目就可以得到圓形的面積。\n",
        "\n",
        "假設半徑為 $r$，圓形面積的計算公式為\n",
        "$$\\pi r^2=\\pi\\times0.5^2=\\frac{\\pi}{4}$$\n",
        "\n",
        "並以此得到 $$\\pi=4\\times面積=4\\times\\frac{落在圓內的點}{所有的點}$$"
      ]
    },
    {
      "cell_type": "markdown",
      "metadata": {
        "colab_type": "text",
        "id": "4Zzfd3NrafTK"
      },
      "source": [
        "隨機產生兩個 0 到 1 之間的亂數以做為點的座標，並用迴圈計算及判斷點是否落在圓內 (迴圈及條件式的語法將會在 Day_007 詳細說明)\n",
        "\n",
        "[提示] \n",
        "1. 隨機數的產生，請回顧 Day_004 的內容。\n",
        "2. 隨機點到中心點的距離，為 $\\sqrt{(x-0.5)^2 + (y-0.5)^2}$，可以呼叫內建函式 `sqrt()` 開根號。"
      ]
    },
    {
      "cell_type": "markdown",
      "metadata": {
        "id": "AD2UtGfv4UV7",
        "colab_type": "text"
      },
      "source": [
        "\n",
        "      n = 100000     # 設定隨機數產生的數目\n",
        "      radius = 0.5   # 半徑長度\n",
        "      count = 0      # 計算落在圓內點的數量\n",
        "\n",
        "\n",
        "      for i = 1:n\n",
        "          global count\n",
        "          x = rand(n)                                                  # 請將註解替換為程式 \n",
        "          y = rand(n)                                                  # 請將註解替換為程式\n",
        "\n",
        "          # 計算隨機點到中心點的距離，若距離小於半徑，表示點落在圓內\n",
        "          dist = sqrt(abs2(x[i]-0.5) + abs2(y[i]-0.5))                 # 請將註解替換為程式\n",
        "          \n",
        "          if dist <= radius\n",
        "              count += 1\n",
        "          end\n",
        "      end\n",
        "\n",
        "      mypi = (4 *count )/n                                              # 請將註解替換為程式\n",
        "\n"
      ]
    },
    {
      "cell_type": "code",
      "metadata": {
        "id": "yM6cGc0u4ED_",
        "colab_type": "code",
        "colab": {
          "base_uri": "https://localhost:8080/",
          "height": 34
        },
        "outputId": "7532b31f-431a-4ea9-b21e-b60824ae1af6"
      },
      "source": [
        "!julia -e 'include(\"MonteCarlo.jl\")'"
      ],
      "execution_count": 2,
      "outputs": [
        {
          "output_type": "stream",
          "text": [
            "3.1472\n"
          ],
          "name": "stdout"
        }
      ]
    },
    {
      "cell_type": "code",
      "metadata": {
        "id": "spTCr8XsdvLn",
        "colab_type": "code",
        "colab": {
          "base_uri": "https://localhost:8080/",
          "height": 34
        },
        "outputId": "e1466654-e5e4-4b32-f83b-e66fe8fd8d49"
      },
      "source": [
        "# 估算 π  值\n",
        "\n",
        "!julia -e '\\\n",
        "n = 100000; radius = 0.5; count = 0; \\\n",
        "for i = 1:n ; \\\n",
        "  global count; \\\n",
        "  x = rand(n); y = rand(n);  \\\n",
        "  dist = sqrt(abs2(x[i]-0.5) + abs2(y[i]-0.5)); \\\n",
        "  if dist <= radius; count += 1; end;\\\n",
        "end;\\\n",
        "mypi = (4 *count)/n ;\\\n",
        "println(mypi)'"
      ],
      "execution_count": 3,
      "outputs": [
        {
          "output_type": "stream",
          "text": [
            "3.14592\n"
          ],
          "name": "stdout"
        }
      ]
    }
  ]
}