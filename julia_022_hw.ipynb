{
  "nbformat": 4,
  "nbformat_minor": 0,
  "metadata": {
    "kernelspec": {
      "display_name": "Julia 1.3.1",
      "language": "julia",
      "name": "julia-1.3"
    },
    "language_info": {
      "file_extension": ".jl",
      "mimetype": "application/julia",
      "name": "julia",
      "version": "1.4.0"
    },
    "colab": {
      "name": "julia_022_hw.ipynb",
      "provenance": []
    }
  },
  "cells": [
    {
      "cell_type": "markdown",
      "metadata": {
        "id": "9aOWfcNR_Hzh",
        "colab_type": "text"
      },
      "source": [
        "# Julia 基礎圖表繪製：Gadfly 二維資料圖表\n",
        "\n",
        "## 作業 022"
      ]
    },
    {
      "cell_type": "markdown",
      "metadata": {
        "id": "9WgLvsbw_Hzi",
        "colab_type": "text"
      },
      "source": [
        "1. 散佈圖是二維資料的圖表表示，思考它適合用於展現資料的什麼特性？"
      ]
    },
    {
      "cell_type": "markdown",
      "metadata": {
        "id": "g0nUUMXWvVOZ",
        "colab_type": "text"
      },
      "source": [
        "     散佈圖又叫相關圖\n",
        "        將兩個可能相關的變數資料用點畫在坐標圖上，來判斷兩個變數之間的相關關係。\n",
        "\n",
        "![alt text](http://5b0988e595225.cdn.sohucs.com/images/20190422/2bca56dacdf94f54a8d4a685c48b11f2.jpeg)\n",
        "\n"
      ]
    },
    {
      "cell_type": "markdown",
      "metadata": {
        "id": "h6DW27rj_Hzi",
        "colab_type": "text"
      },
      "source": [
        "2. 比較密度分佈圖與熱圖分別適合用於什麼樣的資料。[hint: 從資料的種類切入思考]"
      ]
    },
    {
      "cell_type": "markdown",
      "metadata": {
        "id": "ctNZ2z9Lwm3o",
        "colab_type": "text"
      },
      "source": [
        "    面量圖（區域密度圖）\n",
        "    利用不同顏色或網紋等面符號來表示不同區間或每一區域的數量，區域內部視為均質的單元，呈現區域間差異。\n",
        "\n",
        "![alt text](https://forum.immigrantinvestor.tw/uploads/default/original/1X/3a0b9ca5fbfd4544ed2595ac6188934f21adccac.png)\n",
        "\n",
        "---\n",
        "\n",
        "\n",
        "\n",
        "---\n",
        "\n",
        "\n",
        "\n",
        "---\n",
        "\n",
        "      熱圖（Heat map）是一個以顏色變化來顯示數據的矩陣。\n",
        "![Heat map](https://5b0988e595225.cdn.sohucs.com/images/20171106/0da9dbaba06f4b0286e58186bea31719.png)\n",
        "\n"
      ]
    }
  ]
}