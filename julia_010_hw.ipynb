{
  "nbformat": 4,
  "nbformat_minor": 0,
  "metadata": {
    "@webio": {
      "lastCommId": null,
      "lastKernelId": null
    },
    "kernelspec": {
      "display_name": "Julia 1.2.0",
      "language": "julia",
      "name": "julia-1.2"
    },
    "language_info": {
      "file_extension": ".jl",
      "mimetype": "application/julia",
      "name": "julia",
      "version": "1.2.0"
    },
    "colab": {
      "name": "julia_010_hw.ipynb",
      "provenance": [],
      "collapsed_sections": []
    }
  },
  "cells": [
    {
      "cell_type": "code",
      "metadata": {
        "id": "zNZr8ek1GySK",
        "colab_type": "code",
        "colab": {
          "base_uri": "https://localhost:8080/",
          "height": 340
        },
        "outputId": "e7cb11a4-f276-498d-83ee-a2e4556ca509"
      },
      "source": [
        "%%shell\n",
        "if ! command -v julia 3>&1 > /dev/null\n",
        "then\n",
        "    wget 'https://julialang-s3.julialang.org/bin/linux/x64/1.3/julia-1.3.1-linux-x86_64.tar.gz' -O julia.tar.gz\n",
        "    tar -x -f julia.tar.gz -C /usr/local --strip-components 1\n",
        "    rm julia.tar.gz\n",
        "fi\n",
        "julia -e 'using Pkg; pkg\"add IJulia; add BenchmarkTools; add CuArrays; precompile;\"'\n",
        "echo 'Done'"
      ],
      "execution_count": 1,
      "outputs": [
        {
          "output_type": "stream",
          "text": [
            "  Updating registry at `~/.julia/registries/General`\n",
            "  Updating git-repo `https://github.com/JuliaRegistries/General.git`\n",
            "\u001b[?25l\u001b[2K\u001b[?25h Resolving package versions...\n",
            "  Updating `~/.julia/environments/v1.3/Project.toml`\n",
            " [no changes]\n",
            "  Updating `~/.julia/environments/v1.3/Manifest.toml`\n",
            " [no changes]\n",
            " Resolving package versions...\n",
            "  Updating `~/.julia/environments/v1.3/Project.toml`\n",
            " [no changes]\n",
            "  Updating `~/.julia/environments/v1.3/Manifest.toml`\n",
            " [no changes]\n",
            " Resolving package versions...\n",
            "  Updating `~/.julia/environments/v1.3/Project.toml`\n",
            " [no changes]\n",
            "  Updating `~/.julia/environments/v1.3/Manifest.toml`\n",
            " [no changes]\n",
            "Precompiling project...\n",
            "Done\n"
          ],
          "name": "stdout"
        },
        {
          "output_type": "execute_result",
          "data": {
            "text/plain": [
              ""
            ]
          },
          "metadata": {
            "tags": []
          },
          "execution_count": 1
        }
      ]
    },
    {
      "cell_type": "markdown",
      "metadata": {
        "id": "7BtseMUwzMw6",
        "colab_type": "text"
      },
      "source": [
        "# 集合 (Collection) 型別：元組 (Tuple) 、Pair、字典 (Dict)、與 Set\n",
        "\n",
        "## Day 010 作業：計算字串中各宇元出現的次數\n",
        "\n",
        "今天的作業請大家計算字串中，各字元 (包含標點符號與換行符號) 出現的次數。範例解答將以字典 (Dict) 示範，將出現在字串中的字元作為 key，字元每出現一次就將對應的 value 次數加 1。最後，印出各字元及出現的次數。\n",
        "\n",
        "【提示】要判斷字典中某個 key 是否存在，可以呼叫 `hashkey(字典, key)`，若 key 存在的話就會回傳 `true`。使用範例請參閱官方文件 [https://docs.julialang.org/en/v1/base/collections/#Base.haskey](https://docs.julialang.org/en/v1/base/collections/#Base.haskey)"
      ]
    },
    {
      "cell_type": "code",
      "metadata": {
        "id": "tSTRKzZXb6lS",
        "colab_type": "code",
        "colab": {
          "base_uri": "https://localhost:8080/",
          "height": 34
        },
        "outputId": "26be0c9e-c94f-40e0-d0c6-e48d94b1c879"
      },
      "source": [
        "!julia -e'\\\n",
        "str = \"永和有永和路，中和也有永和路，           ;\\\n",
        "中和有中和路，永和也有中和路；                  ;\\\n",
        "中和的中和路有接永和的中和路，                  ;\\\n",
        "永和的永和路沒接中和的永和路；                  ;\\\n",
        "永和的中和路有接永和的永和路，                  ;\\\n",
        "中和的永和路沒接中和的中和路。\"                 ;\\\n",
        "dict = Dict()                                ;\\\n",
        "for i in Set(str)                            ;\\\n",
        "    count = 0                                ;\\\n",
        "    for j in str                             ;\\\n",
        "        if 'i' == 'j'                        ;\\\n",
        "          count+=1                           ;\\\n",
        "        end                                  ;\\\n",
        "    dict[i] = count                          ;\\\n",
        "    end                                      ;\\\n",
        "end                                          ;\\\n",
        "print(dict)                                  ;\\'"
      ],
      "execution_count": 2,
      "outputs": [
        {
          "output_type": "stream",
          "text": [
            "Dict{Any,Any}('有' => 6,'和' => 24,'路' => 12,'。' => 1,'也' => 2,'中' => 12,'，' => 5,' ' => 83,'接' => 4,';' => 5,'的' => 8,'沒' => 2,'；' => 2,'永' => 12)"
          ],
          "name": "stdout"
        }
      ]
    }
  ]
}